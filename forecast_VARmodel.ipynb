{
  "nbformat": 4,
  "nbformat_minor": 0,
  "metadata": {
    "colab": {
      "name": "forecast_VARmodel.ipynb",
      "provenance": [],
      "collapsed_sections": []
    },
    "kernelspec": {
      "name": "python3",
      "display_name": "Python 3"
    }
  },
  "cells": [
    {
      "cell_type": "code",
      "metadata": {
        "id": "OwyvKPdCpNU1",
        "colab_type": "code",
        "colab": {}
      },
      "source": [
        "import numpy as np\n",
        "import pandas as pd\n",
        "import matplotlib.pyplot as plt\n",
        "%matplotlib inline"
      ],
      "execution_count": 0,
      "outputs": []
    },
    {
      "cell_type": "code",
      "metadata": {
        "id": "eGHaRA7Ip_hs",
        "colab_type": "code",
        "colab": {}
      },
      "source": [
        "from datetime import date \n",
        "import holidays "
      ],
      "execution_count": 0,
      "outputs": []
    },
    {
      "cell_type": "code",
      "metadata": {
        "id": "vrR4wHXqq2-t",
        "colab_type": "code",
        "colab": {}
      },
      "source": [
        "ind_holidays = holidays.India"
      ],
      "execution_count": 0,
      "outputs": []
    },
    {
      "cell_type": "code",
      "metadata": {
        "id": "_ipG6ronrApR",
        "colab_type": "code",
        "outputId": "091defed-04e2-4dd9-c905-f60b19036728",
        "colab": {
          "base_uri": "https://localhost:8080/",
          "height": 136
        }
      },
      "source": [
        "for ptr in holidays.India(years = 2019).items(): \n",
        "    print(ptr)"
      ],
      "execution_count": 4,
      "outputs": [
        {
          "output_type": "stream",
          "text": [
            "(datetime.date(2019, 1, 1), 'New Year')\n",
            "(datetime.date(2019, 1, 14), 'Makar Sankranti / Pongal')\n",
            "(datetime.date(2019, 1, 26), 'Republic Day')\n",
            "(datetime.date(2019, 8, 15), 'Independence Day')\n",
            "(datetime.date(2019, 10, 2), 'Gandhi Jayanti')\n",
            "(datetime.date(2019, 5, 1), 'Labour Day')\n",
            "(datetime.date(2019, 12, 25), 'Christmas')\n"
          ],
          "name": "stdout"
        }
      ]
    },
    {
      "cell_type": "code",
      "metadata": {
        "id": "oVLYTXItrKEZ",
        "colab_type": "code",
        "outputId": "98b318a1-ac4f-481e-8f77-b952a56d5ef1",
        "colab": {
          "resources": {
            "http://localhost:8080/nbextensions/google.colab/files.js": {
              "data": "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",
              "ok": true,
              "headers": [
                [
                  "content-type",
                  "application/javascript"
                ]
              ],
              "status": 200,
              "status_text": ""
            }
          },
          "base_uri": "https://localhost:8080/",
          "height": 111
        }
      },
      "source": [
        "from google.colab import files\n",
        "files.upload()"
      ],
      "execution_count": 6,
      "outputs": [
        {
          "output_type": "display_data",
          "data": {
            "text/html": [
              "\n",
              "     <input type=\"file\" id=\"files-a4e08da6-bccc-4e40-a7b6-b05af20ee8d0\" name=\"files[]\" multiple disabled />\n",
              "     <output id=\"result-a4e08da6-bccc-4e40-a7b6-b05af20ee8d0\">\n",
              "      Upload widget is only available when the cell has been executed in the\n",
              "      current browser session. Please rerun this cell to enable.\n",
              "      </output>\n",
              "      <script src=\"/nbextensions/google.colab/files.js\"></script> "
            ],
            "text/plain": [
              "<IPython.core.display.HTML object>"
            ]
          },
          "metadata": {
            "tags": []
          }
        },
        {
          "output_type": "stream",
          "text": [
            "Saving predictn.csv to predictn.csv\n"
          ],
          "name": "stdout"
        },
        {
          "output_type": "execute_result",
          "data": {
            "text/plain": [
              "{'predictn.csv': b'Client_Time\\r\\n5/7/2019\\r\\n5/7/2019\\r\\n5/7/2019\\r\\n5/7/2019\\r\\n5/7/2019\\r\\n5/7/2019\\r\\n5/7/2019\\r\\n5/7/2019\\r\\n5/7/2019\\r\\n5/7/2019\\r\\n5/7/2019\\r\\n5/7/2019\\r\\n5/7/2019\\r\\n5/7/2019\\r\\n5/7/2019\\r\\n5/7/2019\\r\\n5/7/2019\\r\\n5/7/2019\\r\\n5/7/2019\\r\\n5/7/2019\\r\\n5/7/2019\\r\\n5/7/2019\\r\\n5/7/2019\\r\\n5/7/2019\\r\\n5/7/2019\\r\\n5/7/2019\\r\\n5/7/2019\\r\\n5/8/2019\\r\\n5/8/2019\\r\\n5/8/2019\\r\\n5/8/2019\\r\\n5/8/2019\\r\\n5/8/2019\\r\\n5/8/2019\\r\\n5/8/2019\\r\\n5/8/2019\\r\\n5/8/2019\\r\\n5/8/2019\\r\\n5/8/2019\\r\\n5/8/2019\\r\\n5/8/2019\\r\\n5/8/2019\\r\\n5/8/2019\\r\\n5/8/2019\\r\\n5/8/2019\\r\\n5/8/2019\\r\\n5/8/2019\\r\\n5/8/2019\\r\\n5/8/2019\\r\\n5/8/2019\\r\\n5/8/2019\\r\\n5/8/2019\\r\\n5/8/2019\\r\\n5/8/2019\\r\\n5/8/2019\\r\\n5/8/2019\\r\\n5/8/2019\\r\\n5/8/2019\\r\\n5/8/2019\\r\\n5/8/2019\\r\\n5/8/2019\\r\\n5/8/2019\\r\\n5/8/2019\\r\\n5/8/2019\\r\\n5/8/2019\\r\\n5/8/2019\\r\\n5/8/2019\\r\\n5/8/2019\\r\\n5/8/2019\\r\\n5/8/2019\\r\\n5/8/2019\\r\\n5/8/2019\\r\\n5/8/2019\\r\\n5/8/2019\\r\\n5/8/2019\\r\\n5/9/2019\\r\\n5/9/2019\\r\\n5/9/2019\\r\\n5/9/2019\\r\\n5/9/2019\\r\\n5/9/2019\\r\\n5/9/2019\\r\\n5/9/2019\\r\\n5/9/2019\\r\\n5/9/2019\\r\\n5/9/2019\\r\\n5/9/2019\\r\\n5/9/2019\\r\\n5/9/2019\\r\\n5/9/2019\\r\\n5/9/2019\\r\\n5/9/2019\\r\\n5/9/2019\\r\\n5/9/2019\\r\\n5/9/2019\\r\\n5/9/2019\\r\\n5/9/2019\\r\\n5/9/2019\\r\\n5/9/2019\\r\\n5/9/2019\\r\\n5/9/2019\\r\\n5/9/2019\\r\\n5/9/2019\\r\\n5/9/2019\\r\\n5/9/2019\\r\\n5/9/2019\\r\\n5/9/2019\\r\\n5/9/2019\\r\\n5/9/2019\\r\\n5/9/2019\\r\\n5/9/2019\\r\\n5/9/2019\\r\\n5/9/2019\\r\\n5/9/2019\\r\\n5/9/2019\\r\\n5/9/2019\\r\\n5/9/2019\\r\\n5/9/2019\\r\\n5/9/2019\\r\\n5/9/2019\\r\\n5/9/2019\\r\\n5/9/2019\\r\\n5/9/2019\\r\\n5/9/2019\\r\\n5/9/2019\\r\\n5/9/2019\\r\\n5/9/2019\\r\\n5/9/2019\\r\\n5/9/2019\\r\\n5/9/2019\\r\\n5/9/2019\\r\\n5/9/2019\\r\\n5/10/2019\\r\\n5/10/2019\\r\\n5/10/2019\\r\\n5/10/2019\\r\\n5/10/2019\\r\\n5/10/2019\\r\\n5/10/2019\\r\\n5/10/2019\\r\\n5/10/2019\\r\\n5/10/2019\\r\\n5/10/2019\\r\\n5/10/2019\\r\\n5/10/2019\\r\\n5/10/2019\\r\\n5/10/2019\\r\\n5/10/2019\\r\\n5/10/2019\\r\\n5/10/2019\\r\\n5/10/2019\\r\\n5/10/2019\\r\\n5/10/2019\\r\\n5/10/2019\\r\\n5/10/2019\\r\\n5/10/2019\\r\\n5/10/2019\\r\\n5/10/2019\\r\\n5/10/2019\\r\\n5/10/2019\\r\\n5/10/2019\\r\\n5/10/2019\\r\\n5/10/2019\\r\\n5/10/2019\\r\\n5/10/2019\\r\\n5/10/2019\\r\\n5/10/2019\\r\\n5/10/2019\\r\\n5/10/2019\\r\\n5/10/2019\\r\\n5/10/2019\\r\\n5/10/2019\\r\\n5/10/2019\\r\\n5/10/2019\\r\\n5/10/2019\\r\\n5/10/2019\\r\\n5/10/2019\\r\\n5/10/2019\\r\\n5/10/2019\\r\\n5/10/2019\\r\\n5/10/2019\\r\\n5/11/2019\\r\\n5/11/2019\\r\\n5/11/2019\\r\\n5/11/2019\\r\\n5/11/2019\\r\\n5/11/2019\\r\\n5/11/2019\\r\\n5/11/2019\\r\\n5/11/2019\\r\\n5/11/2019\\r\\n5/11/2019\\r\\n5/11/2019\\r\\n5/11/2019\\r\\n5/11/2019\\r\\n5/11/2019\\r\\n5/11/2019\\r\\n5/11/2019\\r\\n5/11/2019\\r\\n5/11/2019\\r\\n5/11/2019\\r\\n5/11/2019\\r\\n5/11/2019\\r\\n5/11/2019\\r\\n5/11/2019\\r\\n5/11/2019\\r\\n5/11/2019\\r\\n5/11/2019\\r\\n5/13/2019\\r\\n5/13/2019\\r\\n5/13/2019\\r\\n5/13/2019\\r\\n5/13/2019\\r\\n5/13/2019\\r\\n5/13/2019\\r\\n5/13/2019\\r\\n5/13/2019\\r\\n5/13/2019\\r\\n5/13/2019\\r\\n5/13/2019\\r\\n5/13/2019\\r\\n5/13/2019\\r\\n5/13/2019\\r\\n5/13/2019\\r\\n5/13/2019\\r\\n5/13/2019\\r\\n5/13/2019\\r\\n5/13/2019\\r\\n5/13/2019\\r\\n5/13/2019\\r\\n5/13/2019\\r\\n5/13/2019\\r\\n5/13/2019\\r\\n5/13/2019\\r\\n5/13/2019\\r\\n5/13/2019\\r\\n5/13/2019\\r\\n5/13/2019\\r\\n5/13/2019\\r\\n5/13/2019\\r\\n5/13/2019\\r\\n5/13/2019\\r\\n5/13/2019\\r\\n5/13/2019\\r\\n5/13/2019\\r\\n5/13/2019\\r\\n5/13/2019\\r\\n5/13/2019\\r\\n5/13/2019\\r\\n5/13/2019\\r\\n5/13/2019\\r\\n5/13/2019\\r\\n5/13/2019\\r\\n5/13/2019\\r\\n5/13/2019\\r\\n5/13/2019\\r\\n5/13/2019\\r\\n5/13/2019\\r\\n5/13/2019\\r\\n5/13/2019\\r\\n5/13/2019\\r\\n5/13/2019\\r\\n5/13/2019\\r\\n5/13/2019\\r\\n5/13/2019\\r\\n5/13/2019\\r\\n5/13/2019\\r\\n5/13/2019\\r\\n5/13/2019\\r\\n5/13/2019\\r\\n5/13/2019\\r\\n5/13/2019\\r\\n5/14/2019\\r\\n5/14/2019\\r\\n5/14/2019\\r\\n5/14/2019\\r\\n5/14/2019\\r\\n5/14/2019\\r\\n5/14/2019\\r\\n5/14/2019\\r\\n5/14/2019\\r\\n5/14/2019\\r\\n5/14/2019\\r\\n5/14/2019\\r\\n5/14/2019\\r\\n5/14/2019\\r\\n5/14/2019\\r\\n5/14/2019\\r\\n5/14/2019\\r\\n5/14/2019\\r\\n5/14/2019\\r\\n5/14/2019\\r\\n5/14/2019\\r\\n5/14/2019\\r\\n5/14/2019\\r\\n5/14/2019\\r\\n5/14/2019\\r\\n5/14/2019\\r\\n5/14/2019\\r\\n5/14/2019\\r\\n5/14/2019\\r\\n5/14/2019\\r\\n5/14/2019\\r\\n5/14/2019\\r\\n5/14/2019\\r\\n5/14/2019\\r\\n5/14/2019\\r\\n5/14/2019\\r\\n5/14/2019\\r\\n5/14/2019\\r\\n5/14/2019\\r\\n5/14/2019\\r\\n5/14/2019\\r\\n5/14/2019\\r\\n5/14/2019\\r\\n5/14/2019\\r\\n5/14/2019\\r\\n5/14/2019\\r\\n5/14/2019\\r\\n5/14/2019\\r\\n5/14/2019\\r\\n5/14/2019\\r\\n5/14/2019\\r\\n5/14/2019\\r\\n5/14/2019\\r\\n5/14/2019\\r\\n5/15/2019\\r\\n5/15/2019\\r\\n5/15/2019\\r\\n5/15/2019\\r\\n5/15/2019\\r\\n5/15/2019\\r\\n5/15/2019\\r\\n5/15/2019\\r\\n5/15/2019\\r\\n5/15/2019\\r\\n5/15/2019\\r\\n5/15/2019\\r\\n5/15/2019\\r\\n5/15/2019\\r\\n5/15/2019\\r\\n5/15/2019\\r\\n5/15/2019\\r\\n5/15/2019\\r\\n5/15/2019\\r\\n5/15/2019\\r\\n5/15/2019\\r\\n5/15/2019\\r\\n5/15/2019\\r\\n5/15/2019\\r\\n5/15/2019\\r\\n5/15/2019\\r\\n5/15/2019\\r\\n5/15/2019\\r\\n5/15/2019\\r\\n5/15/2019\\r\\n5/15/2019\\r\\n5/15/2019\\r\\n5/15/2019\\r\\n5/15/2019\\r\\n5/15/2019\\r\\n5/15/2019\\r\\n5/15/2019\\r\\n5/15/2019\\r\\n5/15/2019\\r\\n5/15/2019\\r\\n5/15/2019\\r\\n5/15/2019\\r\\n5/15/2019\\r\\n5/15/2019\\r\\n5/15/2019\\r\\n5/15/2019\\r\\n5/15/2019\\r\\n5/15/2019\\r\\n5/15/2019\\r\\n5/15/2019\\r\\n5/15/2019\\r\\n5/15/2019\\r\\n5/15/2019\\r\\n5/16/2019\\r\\n5/16/2019\\r\\n5/16/2019\\r\\n5/16/2019\\r\\n5/16/2019\\r\\n5/16/2019\\r\\n5/16/2019\\r\\n5/16/2019\\r\\n5/16/2019\\r\\n5/16/2019\\r\\n5/16/2019\\r\\n5/16/2019\\r\\n5/16/2019\\r\\n5/16/2019\\r\\n5/16/2019\\r\\n5/16/2019\\r\\n5/16/2019\\r\\n5/16/2019\\r\\n5/16/2019\\r\\n5/16/2019\\r\\n5/16/2019\\r\\n5/16/2019\\r\\n5/16/2019\\r\\n5/16/2019\\r\\n5/16/2019\\r\\n5/16/2019\\r\\n5/16/2019\\r\\n5/16/2019\\r\\n5/16/2019\\r\\n5/16/2019\\r\\n5/16/2019\\r\\n5/16/2019\\r\\n5/16/2019\\r\\n5/16/2019\\r\\n5/16/2019\\r\\n5/16/2019\\r\\n5/16/2019\\r\\n5/16/2019\\r\\n5/16/2019\\r\\n5/16/2019\\r\\n5/16/2019\\r\\n5/16/2019\\r\\n5/16/2019\\r\\n5/16/2019\\r\\n5/16/2019\\r\\n5/16/2019\\r\\n5/16/2019\\r\\n5/16/2019\\r\\n5/16/2019\\r\\n5/16/2019\\r\\n5/16/2019\\r\\n5/17/2019\\r\\n5/17/2019\\r\\n5/17/2019\\r\\n5/17/2019\\r\\n5/17/2019\\r\\n5/17/2019\\r\\n5/17/2019\\r\\n5/17/2019\\r\\n5/17/2019\\r\\n5/17/2019\\r\\n5/17/2019\\r\\n5/17/2019\\r\\n5/17/2019\\r\\n5/17/2019\\r\\n5/17/2019\\r\\n5/17/2019\\r\\n5/17/2019\\r\\n5/17/2019\\r\\n5/17/2019\\r\\n5/17/2019\\r\\n5/17/2019\\r\\n5/17/2019\\r\\n5/17/2019\\r\\n5/17/2019\\r\\n5/17/2019\\r\\n5/17/2019\\r\\n5/17/2019\\r\\n5/17/2019\\r\\n5/17/2019\\r\\n5/17/2019\\r\\n5/17/2019\\r\\n5/17/2019\\r\\n5/17/2019\\r\\n5/17/2019\\r\\n5/17/2019\\r\\n5/17/2019\\r\\n5/17/2019\\r\\n5/17/2019\\r\\n5/17/2019\\r\\n5/17/2019\\r\\n5/17/2019\\r\\n5/17/2019\\r\\n5/18/2019\\r\\n5/18/2019\\r\\n5/18/2019\\r\\n5/18/2019\\r\\n5/18/2019\\r\\n5/18/2019\\r\\n5/18/2019\\r\\n5/18/2019\\r\\n5/18/2019\\r\\n5/18/2019\\r\\n5/18/2019\\r\\n5/18/2019\\r\\n5/18/2019\\r\\n5/18/2019\\r\\n5/18/2019\\r\\n5/18/2019\\r\\n5/18/2019\\r\\n5/18/2019\\r\\n5/18/2019\\r\\n5/18/2019\\r\\n5/18/2019\\r\\n5/18/2019\\r\\n5/18/2019\\r\\n5/18/2019\\r\\n5/18/2019\\r\\n5/18/2019\\r\\n5/18/2019\\r\\n5/20/2019\\r\\n5/20/2019\\r\\n5/20/2019\\r\\n5/20/2019\\r\\n5/20/2019\\r\\n5/20/2019\\r\\n5/20/2019\\r\\n5/20/2019\\r\\n5/20/2019\\r\\n5/20/2019\\r\\n5/20/2019\\r\\n5/20/2019\\r\\n5/20/2019\\r\\n5/20/2019\\r\\n5/20/2019\\r\\n5/20/2019\\r\\n5/20/2019\\r\\n5/20/2019\\r\\n5/20/2019\\r\\n5/20/2019\\r\\n5/20/2019\\r\\n5/20/2019\\r\\n5/20/2019\\r\\n5/20/2019\\r\\n5/20/2019\\r\\n5/20/2019\\r\\n5/20/2019\\r\\n5/20/2019\\r\\n5/20/2019\\r\\n5/20/2019\\r\\n5/20/2019\\r\\n5/20/2019\\r\\n5/20/2019\\r\\n5/20/2019\\r\\n5/20/2019\\r\\n5/20/2019\\r\\n5/20/2019\\r\\n5/20/2019\\r\\n5/20/2019\\r\\n5/20/2019\\r\\n5/20/2019\\r\\n5/20/2019\\r\\n5/20/2019\\r\\n5/20/2019\\r\\n5/20/2019\\r\\n5/20/2019\\r\\n5/20/2019\\r\\n5/20/2019\\r\\n5/20/2019\\r\\n5/20/2019\\r\\n5/20/2019\\r\\n5/20/2019\\r\\n5/20/2019\\r\\n5/21/2019\\r\\n5/21/2019\\r\\n5/21/2019\\r\\n5/21/2019\\r\\n5/21/2019\\r\\n5/21/2019\\r\\n5/21/2019\\r\\n5/21/2019\\r\\n5/21/2019\\r\\n5/21/2019\\r\\n5/21/2019\\r\\n5/21/2019\\r\\n5/21/2019\\r\\n5/21/2019\\r\\n5/21/2019\\r\\n5/21/2019\\r\\n5/21/2019\\r\\n5/21/2019\\r\\n5/21/2019\\r\\n5/21/2019\\r\\n5/21/2019\\r\\n5/21/2019\\r\\n5/21/2019\\r\\n5/21/2019\\r\\n5/21/2019\\r\\n5/21/2019\\r\\n5/21/2019\\r\\n5/21/2019\\r\\n5/21/2019\\r\\n5/21/2019\\r\\n5/21/2019\\r\\n5/21/2019\\r\\n5/21/2019\\r\\n5/21/2019\\r\\n5/21/2019\\r\\n5/21/2019\\r\\n5/21/2019\\r\\n5/21/2019\\r\\n5/21/2019\\r\\n5/21/2019\\r\\n5/21/2019\\r\\n5/21/2019\\r\\n5/21/2019\\r\\n5/21/2019\\r\\n5/21/2019\\r\\n5/21/2019\\r\\n5/21/2019\\r\\n5/21/2019\\r\\n5/21/2019\\r\\n5/21/2019\\r\\n5/22/2019\\r\\n5/22/2019\\r\\n5/22/2019\\r\\n5/22/2019\\r\\n5/22/2019\\r\\n5/22/2019\\r\\n5/22/2019\\r\\n5/22/2019\\r\\n5/22/2019\\r\\n5/22/2019\\r\\n5/22/2019\\r\\n5/22/2019\\r\\n5/22/2019\\r\\n5/22/2019\\r\\n5/22/2019\\r\\n5/22/2019\\r\\n5/22/2019\\r\\n5/22/2019\\r\\n5/22/2019\\r\\n5/22/2019\\r\\n5/22/2019\\r\\n5/22/2019\\r\\n5/22/2019\\r\\n5/22/2019\\r\\n5/22/2019\\r\\n5/22/2019\\r\\n5/22/2019\\r\\n5/22/2019\\r\\n5/22/2019\\r\\n5/22/2019\\r\\n5/22/2019\\r\\n5/22/2019\\r\\n5/22/2019\\r\\n5/22/2019\\r\\n5/22/2019\\r\\n5/22/2019\\r\\n5/22/2019\\r\\n5/22/2019\\r\\n5/22/2019\\r\\n5/22/2019\\r\\n5/22/2019\\r\\n5/22/2019\\r\\n5/22/2019\\r\\n5/22/2019\\r\\n5/22/2019\\r\\n5/22/2019\\r\\n5/22/2019\\r\\n5/22/2019\\r\\n5/22/2019\\r\\n5/22/2019\\r\\n5/22/2019\\r\\n5/22/2019\\r\\n5/22/2019\\r\\n5/22/2019\\r\\n5/23/2019\\r\\n5/23/2019\\r\\n5/23/2019\\r\\n5/23/2019\\r\\n5/23/2019\\r\\n5/23/2019\\r\\n5/23/2019\\r\\n5/23/2019\\r\\n5/23/2019\\r\\n5/23/2019\\r\\n5/23/2019\\r\\n5/24/2019\\r\\n5/24/2019\\r\\n5/24/2019\\r\\n5/24/2019\\r\\n5/24/2019\\r\\n5/24/2019\\r\\n5/24/2019\\r\\n5/24/2019\\r\\n5/24/2019\\r\\n5/24/2019\\r\\n5/24/2019\\r\\n5/24/2019\\r\\n5/24/2019\\r\\n5/24/2019\\r\\n5/24/2019\\r\\n5/24/2019\\r\\n5/24/2019\\r\\n5/24/2019\\r\\n5/24/2019\\r\\n5/24/2019\\r\\n5/24/2019\\r\\n5/24/2019\\r\\n5/24/2019\\r\\n5/24/2019\\r\\n5/24/2019\\r\\n5/24/2019\\r\\n5/24/2019\\r\\n5/24/2019\\r\\n5/24/2019\\r\\n5/24/2019\\r\\n5/24/2019\\r\\n5/31/2019\\r\\n5/31/2019\\r\\n5/31/2019\\r\\n5/31/2019\\r\\n5/31/2019\\r\\n5/31/2019\\r\\n5/31/2019\\r\\n5/31/2019\\r\\n5/31/2019\\r\\n5/31/2019\\r\\n5/31/2019\\r\\n5/31/2019\\r\\n5/31/2019\\r\\n5/31/2019\\r\\n5/31/2019\\r\\n5/31/2019\\r\\n5/31/2019\\r\\n5/31/2019\\r\\n5/31/2019\\r\\n5/31/2019\\r\\n5/31/2019\\r\\n5/31/2019\\r\\n5/31/2019\\r\\n5/31/2019\\r\\n5/31/2019\\r\\n5/31/2019\\r\\n5/31/2019\\r\\n5/31/2019\\r\\n5/31/2019\\r\\n5/31/2019\\r\\n5/31/2019\\r\\n5/31/2019\\r\\n5/31/2019\\r\\n5/31/2019\\r\\n5/31/2019\\r\\n5/31/2019\\r\\n5/31/2019\\r\\n5/31/2019\\r\\n5/31/2019\\r\\n5/31/2019\\r\\n5/31/2019\\r\\n5/31/2019\\r\\n5/31/2019\\r\\n5/31/2019\\r\\n5/31/2019\\r\\n5/31/2019\\r\\n5/31/2019\\r\\n5/31/2019\\r\\n5/31/2019\\r\\n5/31/2019\\r\\n5/31/2019\\r\\n5/31/2019\\r\\n5/31/2019\\r\\n6/1/2019\\r\\n6/1/2019\\r\\n6/1/2019\\r\\n6/1/2019\\r\\n6/1/2019\\r\\n6/1/2019\\r\\n6/1/2019\\r\\n6/1/2019\\r\\n6/1/2019\\r\\n6/1/2019\\r\\n6/1/2019\\r\\n6/1/2019\\r\\n6/1/2019\\r\\n6/1/2019\\r\\n6/1/2019\\r\\n6/1/2019\\r\\n6/1/2019\\r\\n6/1/2019\\r\\n6/1/2019\\r\\n6/1/2019\\r\\n6/1/2019\\r\\n6/1/2019\\r\\n6/1/2019\\r\\n6/1/2019\\r\\n6/1/2019\\r\\n6/1/2019\\r\\n6/1/2019\\r\\n6/1/2019\\r\\n6/1/2019\\r\\n6/1/2019\\r\\n6/3/2019\\r\\n6/3/2019\\r\\n6/3/2019\\r\\n6/3/2019\\r\\n6/3/2019\\r\\n6/3/2019\\r\\n6/3/2019\\r\\n6/3/2019\\r\\n6/3/2019\\r\\n6/3/2019\\r\\n6/3/2019\\r\\n6/3/2019\\r\\n6/3/2019\\r\\n6/3/2019\\r\\n6/3/2019\\r\\n6/3/2019\\r\\n6/3/2019\\r\\n6/3/2019\\r\\n6/3/2019\\r\\n6/3/2019\\r\\n6/3/2019\\r\\n6/3/2019\\r\\n6/3/2019\\r\\n6/3/2019\\r\\n6/3/2019\\r\\n6/3/2019\\r\\n6/3/2019\\r\\n6/3/2019\\r\\n6/3/2019\\r\\n6/3/2019\\r\\n6/3/2019\\r\\n6/3/2019\\r\\n6/3/2019\\r\\n6/3/2019\\r\\n6/3/2019\\r\\n6/3/2019\\r\\n6/3/2019\\r\\n6/3/2019\\r\\n6/3/2019\\r\\n6/3/2019\\r\\n6/3/2019\\r\\n6/3/2019\\r\\n6/3/2019\\r\\n6/3/2019\\r\\n6/3/2019\\r\\n6/3/2019\\r\\n6/3/2019\\r\\n6/3/2019\\r\\n6/3/2019\\r\\n6/3/2019\\r\\n6/3/2019\\r\\n6/3/2019\\r\\n6/3/2019\\r\\n6/3/2019\\r\\n6/3/2019\\r\\n6/3/2019\\r\\n6/3/2019\\r\\n6/3/2019\\r\\n6/3/2019\\r\\n6/3/2019\\r\\n6/3/2019\\r\\n6/3/2019\\r\\n6/4/2019\\r\\n6/4/2019\\r\\n6/4/2019\\r\\n6/4/2019\\r\\n6/4/2019\\r\\n6/4/2019\\r\\n6/4/2019\\r\\n6/4/2019\\r\\n6/4/2019\\r\\n6/4/2019\\r\\n6/4/2019\\r\\n6/4/2019\\r\\n6/4/2019\\r\\n6/4/2019\\r\\n6/4/2019\\r\\n6/4/2019\\r\\n6/4/2019\\r\\n6/4/2019\\r\\n6/4/2019\\r\\n6/4/2019\\r\\n6/4/2019\\r\\n6/4/2019\\r\\n6/4/2019\\r\\n6/4/2019\\r\\n6/4/2019\\r\\n6/4/2019\\r\\n6/4/2019\\r\\n6/4/2019\\r\\n6/4/2019\\r\\n6/4/2019\\r\\n6/4/2019\\r\\n6/4/2019\\r\\n6/4/2019\\r\\n6/4/2019\\r\\n6/4/2019\\r\\n6/4/2019\\r\\n6/4/2019\\r\\n6/4/2019\\r\\n6/4/2019\\r\\n6/4/2019\\r\\n6/4/2019\\r\\n6/4/2019\\r\\n6/4/2019\\r\\n6/4/2019\\r\\n6/4/2019\\r\\n6/4/2019\\r\\n6/4/2019\\r\\n6/4/2019\\r\\n6/4/2019\\r\\n6/5/2019\\r\\n6/5/2019\\r\\n6/5/2019\\r\\n6/5/2019\\r\\n6/5/2019\\r\\n6/5/2019\\r\\n6/5/2019\\r\\n6/5/2019\\r\\n6/5/2019\\r\\n6/5/2019\\r\\n6/5/2019\\r\\n6/5/2019\\r\\n6/5/2019\\r\\n6/5/2019\\r\\n6/5/2019\\r\\n6/5/2019\\r\\n6/5/2019\\r\\n6/5/2019\\r\\n6/5/2019\\r\\n6/5/2019\\r\\n6/5/2019\\r\\n6/5/2019\\r\\n6/5/2019\\r\\n6/5/2019\\r\\n6/5/2019\\r\\n6/5/2019\\r\\n6/5/2019\\r\\n6/5/2019\\r\\n6/5/2019\\r\\n6/5/2019\\r\\n6/5/2019\\r\\n6/5/2019\\r\\n6/5/2019\\r\\n6/5/2019\\r\\n6/5/2019\\r\\n6/5/2019\\r\\n6/5/2019\\r\\n6/5/2019\\r\\n6/5/2019\\r\\n6/5/2019\\r\\n6/5/2019\\r\\n6/5/2019\\r\\n6/5/2019\\r\\n6/5/2019\\r\\n6/5/2019\\r\\n6/5/2019\\r\\n6/5/2019\\r\\n6/5/2019\\r\\n6/5/2019\\r\\n6/5/2019\\r\\n6/5/2019\\r\\n6/5/2019\\r\\n6/5/2019\\r\\n6/5/2019\\r\\n6/5/2019\\r\\n6/6/2019\\r\\n6/6/2019\\r\\n6/6/2019\\r\\n6/6/2019\\r\\n6/6/2019\\r\\n6/6/2019\\r\\n6/6/2019\\r\\n6/6/2019\\r\\n6/6/2019\\r\\n6/6/2019\\r\\n6/6/2019\\r\\n6/6/2019\\r\\n6/6/2019\\r\\n6/6/2019\\r\\n6/6/2019\\r\\n6/6/2019\\r\\n6/6/2019\\r\\n6/6/2019\\r\\n6/6/2019\\r\\n6/6/2019\\r\\n6/6/2019\\r\\n6/6/2019\\r\\n6/6/2019\\r\\n6/6/2019\\r\\n6/6/2019\\r\\n6/6/2019\\r\\n6/6/2019\\r\\n6/6/2019\\r\\n6/6/2019\\r\\n6/6/2019\\r\\n6/6/2019\\r\\n6/6/2019\\r\\n6/6/2019\\r\\n6/6/2019\\r\\n6/6/2019\\r\\n6/6/2019\\r\\n6/6/2019\\r\\n6/6/2019\\r\\n6/6/2019\\r\\n6/6/2019\\r\\n6/6/2019\\r\\n6/6/2019\\r\\n6/7/2019\\r\\n6/7/2019\\r\\n6/7/2019\\r\\n6/7/2019\\r\\n6/7/2019\\r\\n6/7/2019\\r\\n6/7/2019\\r\\n6/7/2019\\r\\n6/7/2019\\r\\n6/7/2019\\r\\n6/7/2019\\r\\n6/7/2019\\r\\n6/7/2019\\r\\n6/7/2019\\r\\n6/7/2019\\r\\n6/7/2019\\r\\n6/7/2019\\r\\n6/7/2019\\r\\n6/7/2019\\r\\n6/8/2019\\r\\n6/8/2019\\r\\n6/8/2019\\r\\n6/8/2019\\r\\n6/8/2019\\r\\n6/8/2019\\r\\n6/8/2019\\r\\n6/8/2019\\r\\n6/8/2019\\r\\n6/8/2019\\r\\n6/8/2019\\r\\n6/8/2019\\r\\n6/8/2019\\r\\n6/8/2019\\r\\n6/8/2019\\r\\n6/8/2019\\r\\n6/8/2019\\r\\n6/8/2019\\r\\n6/8/2019\\r\\n6/8/2019\\r\\n6/8/2019\\r\\n6/8/2019\\r\\n6/8/2019\\r\\n6/8/2019\\r\\n6/10/2019\\r\\n6/10/2019\\r\\n6/10/2019\\r\\n6/10/2019\\r\\n6/10/2019\\r\\n6/10/2019\\r\\n6/10/2019\\r\\n6/10/2019\\r\\n6/10/2019\\r\\n6/10/2019\\r\\n6/10/2019\\r\\n6/10/2019\\r\\n6/10/2019\\r\\n6/10/2019\\r\\n6/10/2019\\r\\n6/10/2019\\r\\n6/10/2019\\r\\n6/10/2019\\r\\n6/10/2019\\r\\n6/10/2019\\r\\n6/10/2019\\r\\n6/10/2019\\r\\n6/10/2019\\r\\n6/10/2019\\r\\n6/10/2019\\r\\n6/10/2019\\r\\n6/10/2019\\r\\n6/10/2019\\r\\n6/10/2019\\r\\n6/10/2019\\r\\n6/10/2019\\r\\n6/10/2019\\r\\n6/10/2019\\r\\n6/10/2019\\r\\n6/10/2019\\r\\n6/10/2019\\r\\n6/10/2019\\r\\n6/10/2019\\r\\n6/10/2019\\r\\n6/10/2019\\r\\n6/10/2019\\r\\n6/10/2019\\r\\n6/10/2019\\r\\n6/10/2019\\r\\n6/10/2019\\r\\n6/10/2019\\r\\n6/10/2019\\r\\n6/10/2019\\r\\n6/11/2019\\r\\n6/11/2019\\r\\n6/11/2019\\r\\n6/11/2019\\r\\n6/11/2019\\r\\n6/11/2019\\r\\n6/11/2019\\r\\n6/11/2019\\r\\n6/11/2019\\r\\n6/11/2019\\r\\n6/11/2019\\r\\n6/11/2019\\r\\n6/11/2019\\r\\n6/11/2019\\r\\n6/11/2019\\r\\n6/11/2019\\r\\n6/11/2019\\r\\n6/11/2019\\r\\n6/11/2019\\r\\n6/11/2019\\r\\n6/11/2019\\r\\n6/11/2019\\r\\n6/11/2019\\r\\n6/11/2019\\r\\n6/11/2019\\r\\n6/11/2019\\r\\n6/11/2019\\r\\n6/11/2019\\r\\n6/11/2019\\r\\n6/11/2019\\r\\n6/11/2019\\r\\n6/11/2019\\r\\n6/11/2019\\r\\n6/11/2019\\r\\n6/11/2019\\r\\n6/11/2019\\r\\n6/11/2019\\r\\n6/11/2019\\r\\n6/11/2019\\r\\n6/11/2019\\r\\n6/11/2019\\r\\n6/11/2019\\r\\n6/11/2019\\r\\n6/11/2019\\r\\n6/11/2019\\r\\n6/11/2019\\r\\n6/11/2019\\r\\n6/11/2019\\r\\n6/11/2019\\r\\n6/11/2019\\r\\n6/11/2019\\r\\n6/11/2019\\r\\n6/11/2019\\r\\n6/11/2019\\r\\n6/11/2019\\r\\n6/11/2019\\r\\n6/11/2019\\r\\n6/11/2019\\r\\n6/11/2019\\r\\n6/11/2019\\r\\n6/11/2019\\r\\n6/11/2019\\r\\n6/11/2019\\r\\n6/11/2019\\r\\n6/11/2019\\r\\n6/11/2019\\r\\n6/11/2019\\r\\n6/12/2019\\r\\n6/12/2019\\r\\n6/12/2019\\r\\n6/12/2019\\r\\n6/12/2019\\r\\n6/12/2019\\r\\n6/12/2019\\r\\n6/12/2019\\r\\n6/12/2019\\r\\n6/12/2019\\r\\n6/12/2019\\r\\n6/12/2019\\r\\n6/12/2019\\r\\n6/12/2019\\r\\n6/12/2019\\r\\n6/12/2019\\r\\n6/12/2019\\r\\n6/12/2019\\r\\n6/12/2019\\r\\n6/12/2019\\r\\n6/12/2019\\r\\n6/12/2019\\r\\n6/12/2019\\r\\n6/12/2019\\r\\n6/12/2019\\r\\n6/12/2019\\r\\n6/12/2019\\r\\n6/12/2019\\r\\n6/12/2019\\r\\n6/12/2019\\r\\n6/12/2019\\r\\n6/12/2019\\r\\n6/12/2019\\r\\n6/12/2019\\r\\n6/12/2019\\r\\n6/12/2019\\r\\n6/12/2019\\r\\n6/12/2019\\r\\n6/12/2019\\r\\n6/12/2019\\r\\n6/12/2019\\r\\n6/12/2019\\r\\n6/12/2019\\r\\n6/12/2019\\r\\n6/12/2019\\r\\n6/12/2019\\r\\n6/12/2019\\r\\n6/13/2019\\r\\n6/13/2019\\r\\n6/13/2019\\r\\n6/13/2019\\r\\n6/13/2019\\r\\n6/13/2019\\r\\n6/13/2019\\r\\n6/13/2019\\r\\n6/13/2019\\r\\n6/13/2019\\r\\n6/13/2019\\r\\n6/13/2019\\r\\n6/13/2019\\r\\n6/13/2019\\r\\n6/13/2019\\r\\n6/13/2019\\r\\n6/13/2019\\r\\n6/13/2019\\r\\n6/13/2019\\r\\n6/13/2019\\r\\n6/13/2019\\r\\n6/13/2019\\r\\n6/13/2019\\r\\n6/13/2019\\r\\n6/13/2019\\r\\n6/13/2019\\r\\n6/13/2019\\r\\n6/13/2019\\r\\n6/13/2019\\r\\n6/13/2019\\r\\n6/13/2019\\r\\n6/13/2019\\r\\n6/13/2019\\r\\n6/13/2019\\r\\n6/13/2019\\r\\n6/13/2019\\r\\n6/13/2019\\r\\n6/13/2019\\r\\n6/13/2019\\r\\n6/13/2019\\r\\n6/13/2019\\r\\n6/13/2019\\r\\n6/13/2019\\r\\n6/13/2019\\r\\n6/13/2019\\r\\n6/13/2019\\r\\n6/14/2019\\r\\n6/14/2019\\r\\n6/14/2019\\r\\n6/14/2019\\r\\n6/14/2019\\r\\n6/14/2019\\r\\n6/14/2019\\r\\n6/14/2019\\r\\n6/14/2019\\r\\n6/14/2019\\r\\n6/14/2019\\r\\n6/14/2019\\r\\n6/14/2019\\r\\n6/14/2019\\r\\n6/14/2019\\r\\n6/14/2019\\r\\n6/14/2019\\r\\n6/14/2019\\r\\n6/14/2019\\r\\n6/14/2019\\r\\n6/14/2019\\r\\n6/14/2019\\r\\n6/14/2019\\r\\n6/14/2019\\r\\n6/14/2019\\r\\n6/14/2019\\r\\n6/14/2019\\r\\n6/14/2019\\r\\n6/14/2019\\r\\n6/14/2019\\r\\n6/14/2019\\r\\n6/14/2019\\r\\n6/14/2019\\r\\n6/14/2019\\r\\n6/14/2019\\r\\n6/14/2019\\r\\n6/14/2019\\r\\n6/14/2019\\r\\n6/14/2019\\r\\n6/14/2019\\r\\n6/14/2019\\r\\n6/14/2019\\r\\n6/14/2019\\r\\n6/14/2019\\r\\n6/14/2019\\r\\n6/14/2019\\r\\n6/14/2019\\r\\n6/14/2019\\r\\n6/14/2019\\r\\n6/14/2019\\r\\n6/14/2019\\r\\n6/14/2019\\r\\n6/15/2019\\r\\n6/15/2019\\r\\n6/15/2019\\r\\n6/15/2019\\r\\n6/15/2019\\r\\n6/15/2019\\r\\n6/15/2019\\r\\n6/15/2019\\r\\n6/15/2019\\r\\n6/15/2019\\r\\n6/15/2019\\r\\n6/15/2019\\r\\n6/15/2019\\r\\n6/15/2019\\r\\n6/15/2019\\r\\n6/15/2019\\r\\n6/15/2019\\r\\n6/15/2019\\r\\n6/15/2019\\r\\n6/15/2019\\r\\n6/15/2019\\r\\n6/15/2019\\r\\n6/15/2019\\r\\n6/15/2019\\r\\n6/15/2019\\r\\n6/15/2019\\r\\n6/15/2019\\r\\n6/17/2019\\r\\n6/17/2019\\r\\n6/17/2019\\r\\n6/17/2019\\r\\n6/17/2019\\r\\n6/17/2019\\r\\n6/17/2019\\r\\n6/17/2019\\r\\n6/17/2019\\r\\n6/17/2019\\r\\n6/17/2019\\r\\n6/17/2019\\r\\n6/17/2019\\r\\n6/17/2019\\r\\n6/17/2019\\r\\n6/17/2019\\r\\n6/17/2019\\r\\n6/17/2019\\r\\n6/17/2019\\r\\n6/18/2019\\r\\n6/18/2019\\r\\n6/18/2019\\r\\n6/18/2019\\r\\n6/18/2019\\r\\n6/18/2019\\r\\n6/18/2019\\r\\n6/18/2019\\r\\n6/18/2019\\r\\n6/18/2019\\r\\n6/18/2019\\r\\n6/18/2019\\r\\n6/18/2019\\r\\n6/18/2019\\r\\n6/18/2019\\r\\n6/18/2019\\r\\n6/18/2019\\r\\n6/18/2019\\r\\n6/18/2019\\r\\n6/18/2019\\r\\n6/18/2019\\r\\n6/18/2019\\r\\n6/18/2019\\r\\n6/18/2019\\r\\n6/18/2019\\r\\n6/18/2019\\r\\n6/18/2019\\r\\n6/18/2019\\r\\n6/18/2019\\r\\n6/18/2019\\r\\n6/18/2019\\r\\n6/18/2019\\r\\n6/18/2019\\r\\n6/18/2019\\r\\n6/18/2019\\r\\n6/18/2019\\r\\n6/18/2019\\r\\n6/18/2019\\r\\n6/18/2019\\r\\n6/18/2019\\r\\n6/18/2019\\r\\n6/18/2019\\r\\n6/18/2019\\r\\n6/18/2019\\r\\n6/18/2019\\r\\n6/18/2019\\r\\n6/18/2019\\r\\n6/18/2019\\r\\n6/18/2019\\r\\n6/18/2019\\r\\n6/18/2019\\r\\n6/18/2019\\r\\n6/18/2019\\r\\n6/18/2019\\r\\n6/18/2019\\r\\n6/18/2019\\r\\n6/18/2019\\r\\n6/19/2019\\r\\n6/19/2019\\r\\n6/19/2019\\r\\n6/19/2019\\r\\n6/19/2019\\r\\n6/19/2019\\r\\n6/19/2019\\r\\n6/19/2019\\r\\n6/19/2019\\r\\n6/19/2019\\r\\n6/19/2019\\r\\n6/19/2019\\r\\n6/19/2019\\r\\n6/19/2019\\r\\n6/19/2019\\r\\n6/19/2019\\r\\n6/19/2019\\r\\n6/19/2019\\r\\n6/19/2019\\r\\n6/19/2019\\r\\n6/19/2019\\r\\n6/19/2019\\r\\n6/19/2019\\r\\n6/19/2019\\r\\n6/19/2019\\r\\n6/19/2019\\r\\n6/19/2019\\r\\n6/19/2019\\r\\n6/19/2019\\r\\n6/19/2019\\r\\n6/19/2019\\r\\n6/19/2019\\r\\n6/19/2019\\r\\n6/19/2019\\r\\n6/19/2019\\r\\n6/19/2019\\r\\n6/19/2019\\r\\n6/19/2019\\r\\n6/19/2019\\r\\n6/19/2019\\r\\n6/19/2019\\r\\n6/19/2019\\r\\n6/19/2019\\r\\n6/19/2019\\r\\n6/19/2019\\r\\n6/19/2019\\r\\n6/19/2019\\r\\n6/19/2019\\r\\n6/19/2019\\r\\n6/19/2019\\r\\n6/19/2019\\r\\n6/19/2019\\r\\n6/19/2019\\r\\n6/20/2019\\r\\n6/20/2019\\r\\n6/20/2019\\r\\n6/20/2019\\r\\n6/20/2019\\r\\n6/20/2019\\r\\n6/20/2019\\r\\n6/20/2019\\r\\n6/20/2019\\r\\n6/20/2019\\r\\n6/20/2019\\r\\n6/20/2019\\r\\n6/20/2019\\r\\n6/20/2019\\r\\n6/20/2019\\r\\n6/20/2019\\r\\n6/20/2019\\r\\n6/20/2019\\r\\n6/20/2019\\r\\n6/20/2019\\r\\n6/20/2019\\r\\n6/20/2019\\r\\n6/20/2019\\r\\n6/20/2019\\r\\n6/20/2019\\r\\n6/20/2019\\r\\n6/20/2019\\r\\n6/20/2019\\r\\n6/20/2019\\r\\n6/20/2019\\r\\n6/20/2019\\r\\n6/20/2019\\r\\n6/20/2019\\r\\n6/20/2019\\r\\n6/20/2019\\r\\n6/20/2019\\r\\n6/20/2019\\r\\n6/20/2019\\r\\n6/20/2019\\r\\n6/20/2019\\r\\n6/20/2019\\r\\n6/20/2019\\r\\n6/20/2019\\r\\n6/20/2019\\r\\n6/20/2019\\r\\n6/20/2019\\r\\n6/20/2019\\r\\n6/20/2019\\r\\n6/20/2019\\r\\n6/20/2019\\r\\n6/20/2019\\r\\n6/20/2019\\r\\n6/20/2019\\r\\n6/20/2019\\r\\n6/20/2019\\r\\n6/22/2019\\r\\n6/22/2019\\r\\n6/22/2019\\r\\n6/22/2019\\r\\n6/22/2019\\r\\n6/22/2019\\r\\n6/22/2019\\r\\n6/22/2019\\r\\n6/22/2019\\r\\n6/22/2019\\r\\n6/22/2019\\r\\n6/22/2019\\r\\n6/22/2019\\r\\n6/22/2019\\r\\n6/22/2019\\r\\n6/22/2019\\r\\n6/22/2019\\r\\n6/22/2019\\r\\n6/22/2019\\r\\n6/22/2019\\r\\n6/22/2019\\r\\n6/22/2019\\r\\n6/22/2019\\r\\n6/22/2019\\r\\n6/22/2019\\r\\n6/22/2019\\r\\n6/22/2019\\r\\n6/22/2019\\r\\n6/22/2019\\r\\n6/22/2019\\r\\n6/22/2019\\r\\n6/24/2019\\r\\n6/24/2019\\r\\n6/24/2019\\r\\n6/24/2019\\r\\n6/24/2019\\r\\n6/24/2019\\r\\n6/24/2019\\r\\n6/24/2019\\r\\n6/24/2019\\r\\n6/24/2019\\r\\n6/24/2019\\r\\n6/24/2019\\r\\n6/24/2019\\r\\n6/24/2019\\r\\n6/24/2019\\r\\n6/24/2019\\r\\n6/24/2019\\r\\n6/24/2019\\r\\n6/24/2019\\r\\n6/24/2019\\r\\n6/24/2019\\r\\n6/24/2019\\r\\n6/24/2019\\r\\n6/24/2019\\r\\n6/24/2019\\r\\n6/24/2019\\r\\n6/24/2019\\r\\n6/24/2019\\r\\n6/24/2019\\r\\n6/24/2019\\r\\n6/24/2019\\r\\n6/24/2019\\r\\n6/24/2019\\r\\n6/24/2019\\r\\n6/24/2019\\r\\n6/24/2019\\r\\n6/24/2019\\r\\n6/24/2019\\r\\n6/24/2019\\r\\n6/24/2019\\r\\n6/24/2019\\r\\n6/24/2019\\r\\n6/24/2019\\r\\n6/24/2019\\r\\n6/24/2019\\r\\n6/24/2019\\r\\n6/24/2019\\r\\n6/24/2019\\r\\n6/24/2019\\r\\n6/24/2019\\r\\n6/24/2019\\r\\n6/24/2019\\r\\n6/24/2019\\r\\n6/24/2019\\r\\n6/25/2019\\r\\n6/25/2019\\r\\n6/25/2019\\r\\n6/25/2019\\r\\n6/25/2019\\r\\n6/25/2019\\r\\n6/25/2019\\r\\n6/25/2019\\r\\n6/25/2019\\r\\n6/25/2019\\r\\n6/25/2019\\r\\n6/25/2019\\r\\n6/25/2019\\r\\n6/25/2019\\r\\n6/25/2019\\r\\n6/25/2019\\r\\n6/25/2019\\r\\n6/25/2019\\r\\n6/25/2019\\r\\n6/25/2019\\r\\n6/25/2019\\r\\n6/25/2019\\r\\n6/25/2019\\r\\n6/25/2019\\r\\n6/25/2019\\r\\n6/25/2019\\r\\n6/25/2019\\r\\n6/25/2019\\r\\n6/25/2019\\r\\n6/25/2019\\r\\n6/25/2019\\r\\n6/25/2019\\r\\n6/25/2019\\r\\n6/25/2019\\r\\n6/25/2019\\r\\n6/25/2019\\r\\n6/25/2019\\r\\n6/25/2019\\r\\n6/25/2019\\r\\n6/25/2019\\r\\n6/25/2019\\r\\n6/25/2019\\r\\n6/25/2019\\r\\n6/25/2019\\r\\n6/25/2019\\r\\n6/25/2019\\r\\n6/25/2019\\r\\n6/25/2019\\r\\n6/26/2019\\r\\n6/26/2019\\r\\n6/26/2019\\r\\n6/26/2019\\r\\n6/26/2019\\r\\n6/26/2019\\r\\n6/26/2019\\r\\n6/26/2019\\r\\n6/26/2019\\r\\n6/26/2019\\r\\n6/26/2019\\r\\n6/26/2019\\r\\n6/26/2019\\r\\n6/26/2019\\r\\n6/26/2019\\r\\n6/26/2019\\r\\n6/26/2019\\r\\n6/26/2019\\r\\n6/26/2019\\r\\n6/26/2019\\r\\n6/26/2019\\r\\n6/26/2019\\r\\n6/26/2019\\r\\n6/26/2019\\r\\n6/26/2019\\r\\n6/26/2019\\r\\n6/26/2019\\r\\n6/26/2019\\r\\n6/27/2019\\r\\n6/27/2019\\r\\n6/27/2019\\r\\n6/27/2019\\r\\n6/27/2019\\r\\n6/27/2019\\r\\n6/27/2019\\r\\n6/27/2019\\r\\n6/27/2019\\r\\n6/27/2019\\r\\n6/27/2019\\r\\n6/27/2019\\r\\n6/27/2019\\r\\n6/27/2019\\r\\n6/27/2019\\r\\n6/27/2019\\r\\n6/27/2019\\r\\n6/27/2019\\r\\n6/27/2019\\r\\n6/27/2019\\r\\n6/27/2019\\r\\n6/27/2019\\r\\n6/27/2019\\r\\n6/27/2019\\r\\n6/27/2019\\r\\n6/27/2019\\r\\n6/27/2019\\r\\n6/27/2019\\r\\n6/27/2019\\r\\n6/27/2019\\r\\n6/27/2019\\r\\n6/27/2019\\r\\n6/27/2019\\r\\n6/27/2019\\r\\n6/27/2019\\r\\n6/27/2019\\r\\n6/27/2019\\r\\n6/27/2019\\r\\n6/27/2019\\r\\n6/27/2019\\r\\n6/27/2019\\r\\n6/27/2019\\r\\n6/27/2019\\r\\n6/27/2019\\r\\n6/27/2019\\r\\n6/27/2019\\r\\n6/27/2019\\r\\n6/27/2019\\r\\n6/28/2019\\r\\n6/28/2019\\r\\n6/28/2019\\r\\n6/28/2019\\r\\n6/28/2019\\r\\n6/28/2019\\r\\n6/28/2019\\r\\n6/28/2019\\r\\n6/28/2019\\r\\n6/28/2019\\r\\n6/28/2019\\r\\n6/28/2019\\r\\n6/28/2019\\r\\n6/28/2019\\r\\n6/28/2019\\r\\n6/28/2019\\r\\n6/28/2019\\r\\n6/28/2019\\r\\n6/28/2019\\r\\n6/28/2019\\r\\n6/28/2019\\r\\n6/28/2019\\r\\n6/28/2019\\r\\n6/28/2019\\r\\n6/28/2019\\r\\n6/28/2019\\r\\n6/28/2019\\r\\n6/28/2019\\r\\n6/28/2019\\r\\n6/28/2019\\r\\n6/28/2019\\r\\n6/28/2019\\r\\n6/28/2019\\r\\n6/28/2019\\r\\n6/28/2019\\r\\n6/28/2019\\r\\n6/28/2019\\r\\n6/28/2019\\r\\n6/28/2019\\r\\n6/28/2019\\r\\n6/28/2019\\r\\n6/28/2019\\r\\n6/28/2019\\r\\n6/28/2019\\r\\n6/28/2019\\r\\n6/28/2019\\r\\n6/28/2019\\r\\n6/28/2019\\r\\n6/28/2019\\r\\n6/28/2019\\r\\n6/28/2019\\r\\n6/28/2019\\r\\n6/28/2019\\r\\n6/28/2019\\r\\n6/28/2019\\r\\n6/28/2019\\r\\n6/28/2019\\r\\n6/28/2019\\r\\n6/29/2019\\r\\n6/29/2019\\r\\n6/29/2019\\r\\n6/29/2019\\r\\n6/29/2019\\r\\n6/29/2019\\r\\n6/29/2019\\r\\n6/29/2019\\r\\n6/29/2019\\r\\n6/29/2019\\r\\n6/29/2019\\r\\n6/29/2019\\r\\n6/29/2019\\r\\n6/29/2019\\r\\n6/29/2019\\r\\n6/29/2019\\r\\n6/29/2019\\r\\n6/29/2019\\r\\n6/29/2019\\r\\n6/29/2019\\r\\n6/29/2019\\r\\n6/29/2019\\r\\n6/29/2019\\r\\n6/29/2019\\r\\n6/29/2019\\r\\n6/29/2019\\r\\n6/29/2019\\r\\n7/1/2019\\r\\n7/1/2019\\r\\n7/1/2019\\r\\n7/1/2019\\r\\n7/1/2019\\r\\n7/1/2019\\r\\n7/1/2019\\r\\n7/1/2019\\r\\n7/1/2019\\r\\n7/1/2019\\r\\n7/1/2019\\r\\n7/1/2019\\r\\n7/1/2019\\r\\n7/1/2019\\r\\n7/1/2019\\r\\n7/1/2019\\r\\n7/1/2019\\r\\n7/1/2019\\r\\n7/1/2019\\r\\n7/1/2019\\r\\n7/1/2019\\r\\n7/1/2019\\r\\n7/1/2019\\r\\n7/1/2019\\r\\n7/1/2019\\r\\n7/1/2019\\r\\n7/1/2019\\r\\n7/1/2019\\r\\n7/1/2019\\r\\n7/1/2019\\r\\n7/1/2019\\r\\n7/1/2019\\r\\n7/1/2019\\r\\n7/1/2019\\r\\n7/1/2019\\r\\n7/1/2019\\r\\n7/1/2019\\r\\n7/1/2019\\r\\n7/1/2019\\r\\n7/1/2019\\r\\n7/1/2019\\r\\n7/1/2019\\r\\n7/1/2019\\r\\n7/1/2019\\r\\n7/1/2019\\r\\n7/1/2019\\r\\n7/1/2019\\r\\n7/1/2019\\r\\n7/1/2019\\r\\n7/1/2019\\r\\n7/1/2019\\r\\n7/1/2019\\r\\n7/1/2019\\r\\n7/1/2019\\r\\n7/1/2019\\r\\n7/1/2019\\r\\n7/1/2019\\r\\n7/1/2019\\r\\n7/1/2019\\r\\n7/1/2019\\r\\n7/3/2019\\r\\n7/3/2019\\r\\n7/3/2019\\r\\n7/3/2019\\r\\n7/3/2019\\r\\n7/3/2019\\r\\n7/3/2019\\r\\n7/3/2019\\r\\n7/3/2019\\r\\n7/3/2019\\r\\n7/3/2019\\r\\n7/3/2019\\r\\n7/3/2019\\r\\n7/3/2019\\r\\n7/3/2019\\r\\n7/3/2019\\r\\n7/3/2019\\r\\n7/3/2019\\r\\n7/3/2019\\r\\n7/3/2019\\r\\n7/3/2019\\r\\n7/3/2019\\r\\n7/3/2019\\r\\n7/4/2019\\r\\n7/4/2019\\r\\n7/4/2019\\r\\n7/4/2019\\r\\n7/4/2019\\r\\n7/4/2019\\r\\n7/4/2019\\r\\n7/4/2019\\r\\n7/4/2019\\r\\n7/4/2019\\r\\n7/4/2019\\r\\n7/4/2019\\r\\n7/4/2019\\r\\n7/4/2019\\r\\n7/4/2019\\r\\n7/4/2019\\r\\n7/4/2019\\r\\n7/4/2019\\r\\n7/4/2019\\r\\n7/4/2019\\r\\n7/4/2019\\r\\n7/4/2019\\r\\n7/4/2019\\r\\n7/4/2019\\r\\n7/4/2019\\r\\n7/4/2019\\r\\n7/4/2019\\r\\n7/4/2019\\r\\n7/4/2019\\r\\n7/4/2019\\r\\n7/4/2019\\r\\n7/4/2019\\r\\n7/4/2019\\r\\n7/4/2019\\r\\n7/4/2019\\r\\n7/4/2019\\r\\n7/4/2019\\r\\n7/4/2019\\r\\n7/4/2019\\r\\n7/4/2019\\r\\n7/4/2019\\r\\n7/4/2019\\r\\n7/4/2019\\r\\n7/4/2019\\r\\n7/4/2019\\r\\n7/4/2019\\r\\n7/4/2019\\r\\n7/4/2019\\r\\n7/4/2019\\r\\n7/4/2019\\r\\n7/4/2019\\r\\n7/5/2019\\r\\n7/5/2019\\r\\n7/5/2019\\r\\n7/5/2019\\r\\n7/5/2019\\r\\n7/5/2019\\r\\n7/5/2019\\r\\n7/5/2019\\r\\n7/5/2019\\r\\n7/5/2019\\r\\n7/5/2019\\r\\n7/5/2019\\r\\n7/5/2019\\r\\n7/5/2019\\r\\n7/5/2019\\r\\n7/5/2019\\r\\n7/5/2019\\r\\n7/5/2019\\r\\n7/5/2019\\r\\n7/5/2019\\r\\n7/5/2019\\r\\n7/5/2019\\r\\n7/5/2019\\r\\n7/5/2019\\r\\n7/5/2019\\r\\n7/5/2019\\r\\n7/5/2019\\r\\n7/5/2019\\r\\n7/5/2019\\r\\n7/5/2019\\r\\n7/5/2019\\r\\n7/5/2019\\r\\n7/5/2019\\r\\n7/5/2019\\r\\n7/5/2019\\r\\n7/5/2019\\r\\n7/5/2019\\r\\n7/5/2019\\r\\n7/5/2019\\r\\n7/5/2019\\r\\n7/5/2019\\r\\n7/5/2019\\r\\n7/5/2019\\r\\n7/5/2019\\r\\n7/5/2019\\r\\n7/5/2019\\r\\n7/5/2019\\r\\n7/5/2019\\r\\n7/5/2019\\r\\n7/5/2019\\r\\n7/5/2019\\r\\n7/5/2019\\r\\n7/6/2019\\r\\n7/6/2019\\r\\n7/6/2019\\r\\n7/6/2019\\r\\n7/6/2019\\r\\n7/6/2019\\r\\n7/6/2019\\r\\n7/6/2019\\r\\n7/6/2019\\r\\n7/6/2019\\r\\n7/6/2019\\r\\n7/6/2019\\r\\n7/6/2019\\r\\n7/6/2019\\r\\n7/6/2019\\r\\n7/6/2019\\r\\n7/6/2019\\r\\n7/6/2019\\r\\n7/6/2019\\r\\n7/6/2019\\r\\n7/6/2019\\r\\n7/6/2019\\r\\n7/6/2019\\r\\n7/6/2019\\r\\n7/6/2019\\r\\n7/6/2019\\r\\n7/8/2019\\r\\n7/8/2019\\r\\n7/8/2019\\r\\n7/8/2019\\r\\n7/8/2019\\r\\n7/8/2019\\r\\n7/8/2019\\r\\n7/8/2019\\r\\n7/8/2019\\r\\n7/8/2019\\r\\n7/8/2019\\r\\n7/8/2019\\r\\n7/8/2019\\r\\n7/8/2019\\r\\n7/8/2019\\r\\n7/8/2019\\r\\n7/8/2019\\r\\n7/8/2019\\r\\n7/8/2019\\r\\n7/8/2019\\r\\n7/8/2019\\r\\n7/8/2019\\r\\n7/8/2019\\r\\n7/8/2019\\r\\n7/8/2019\\r\\n7/8/2019\\r\\n7/8/2019\\r\\n7/8/2019\\r\\n7/8/2019\\r\\n7/8/2019\\r\\n7/8/2019\\r\\n7/8/2019\\r\\n7/8/2019\\r\\n7/8/2019\\r\\n7/8/2019\\r\\n7/8/2019\\r\\n7/8/2019\\r\\n7/8/2019\\r\\n7/8/2019\\r\\n7/8/2019\\r\\n7/8/2019\\r\\n7/8/2019\\r\\n7/8/2019\\r\\n7/8/2019\\r\\n7/8/2019\\r\\n7/8/2019\\r\\n7/8/2019\\r\\n7/8/2019\\r\\n7/8/2019\\r\\n7/8/2019\\r\\n7/8/2019\\r\\n7/8/2019\\r\\n7/8/2019\\r\\n7/8/2019\\r\\n7/8/2019\\r\\n7/8/2019\\r\\n7/8/2019\\r\\n7/8/2019\\r\\n7/8/2019\\r\\n7/8/2019\\r\\n7/9/2019\\r\\n7/9/2019\\r\\n7/9/2019\\r\\n7/9/2019\\r\\n7/9/2019\\r\\n7/9/2019\\r\\n7/9/2019\\r\\n7/9/2019\\r\\n7/9/2019\\r\\n7/9/2019\\r\\n7/9/2019\\r\\n7/9/2019\\r\\n7/9/2019\\r\\n7/9/2019\\r\\n7/9/2019\\r\\n7/9/2019\\r\\n7/9/2019\\r\\n7/9/2019\\r\\n7/9/2019\\r\\n7/9/2019\\r\\n7/9/2019\\r\\n7/9/2019\\r\\n7/9/2019\\r\\n7/9/2019\\r\\n7/9/2019\\r\\n7/9/2019\\r\\n7/9/2019\\r\\n7/9/2019\\r\\n7/9/2019\\r\\n7/9/2019\\r\\n7/9/2019\\r\\n7/9/2019\\r\\n7/9/2019\\r\\n7/9/2019\\r\\n7/9/2019\\r\\n7/9/2019\\r\\n7/9/2019\\r\\n7/9/2019\\r\\n7/9/2019\\r\\n7/9/2019\\r\\n7/9/2019\\r\\n7/9/2019\\r\\n7/9/2019\\r\\n7/9/2019\\r\\n7/9/2019\\r\\n7/9/2019\\r\\n7/9/2019\\r\\n7/9/2019\\r\\n7/9/2019\\r\\n7/9/2019\\r\\n7/9/2019\\r\\n7/9/2019\\r\\n7/9/2019\\r\\n7/9/2019\\r\\n7/9/2019\\r\\n7/9/2019\\r\\n7/9/2019\\r\\n7/9/2019\\r\\n7/9/2019\\r\\n7/10/2019\\r\\n7/10/2019\\r\\n7/10/2019\\r\\n7/10/2019\\r\\n7/10/2019\\r\\n7/10/2019\\r\\n7/10/2019\\r\\n7/10/2019\\r\\n7/10/2019\\r\\n7/10/2019\\r\\n7/10/2019\\r\\n7/10/2019\\r\\n7/10/2019\\r\\n7/10/2019\\r\\n7/10/2019\\r\\n7/10/2019\\r\\n7/10/2019\\r\\n7/10/2019\\r\\n7/10/2019\\r\\n7/10/2019\\r\\n7/10/2019\\r\\n7/10/2019\\r\\n7/10/2019\\r\\n7/10/2019\\r\\n7/10/2019\\r\\n7/10/2019\\r\\n7/10/2019\\r\\n7/10/2019\\r\\n7/10/2019\\r\\n7/10/2019\\r\\n7/10/2019\\r\\n7/10/2019\\r\\n7/10/2019\\r\\n7/10/2019\\r\\n7/10/2019\\r\\n7/10/2019\\r\\n7/10/2019\\r\\n7/11/2019\\r\\n7/11/2019\\r\\n7/11/2019\\r\\n7/11/2019\\r\\n7/11/2019\\r\\n7/11/2019\\r\\n7/11/2019\\r\\n7/11/2019\\r\\n7/11/2019\\r\\n7/11/2019\\r\\n7/11/2019\\r\\n7/11/2019\\r\\n7/11/2019\\r\\n7/11/2019\\r\\n7/11/2019\\r\\n7/11/2019\\r\\n7/11/2019\\r\\n7/11/2019\\r\\n7/11/2019\\r\\n7/11/2019\\r\\n7/11/2019\\r\\n7/11/2019\\r\\n7/11/2019\\r\\n7/11/2019\\r\\n7/11/2019\\r\\n7/11/2019\\r\\n7/11/2019\\r\\n7/11/2019\\r\\n7/11/2019\\r\\n7/11/2019\\r\\n7/11/2019\\r\\n7/11/2019\\r\\n7/11/2019\\r\\n7/11/2019\\r\\n7/11/2019\\r\\n7/11/2019\\r\\n7/11/2019\\r\\n7/11/2019\\r\\n7/11/2019\\r\\n7/11/2019\\r\\n7/11/2019\\r\\n7/11/2019\\r\\n7/11/2019\\r\\n7/11/2019\\r\\n7/11/2019\\r\\n7/12/2019\\r\\n7/12/2019\\r\\n7/12/2019\\r\\n7/12/2019\\r\\n7/12/2019\\r\\n7/12/2019\\r\\n7/12/2019\\r\\n7/12/2019\\r\\n7/12/2019\\r\\n7/12/2019\\r\\n7/12/2019\\r\\n7/12/2019\\r\\n7/12/2019\\r\\n7/12/2019\\r\\n7/12/2019\\r\\n7/12/2019\\r\\n7/12/2019\\r\\n7/12/2019\\r\\n7/12/2019\\r\\n7/12/2019\\r\\n7/12/2019\\r\\n7/12/2019\\r\\n7/12/2019\\r\\n7/12/2019\\r\\n7/12/2019\\r\\n7/12/2019\\r\\n7/12/2019\\r\\n7/12/2019\\r\\n7/12/2019\\r\\n7/12/2019\\r\\n7/12/2019\\r\\n7/12/2019\\r\\n7/12/2019\\r\\n7/12/2019\\r\\n7/12/2019\\r\\n7/12/2019\\r\\n7/12/2019\\r\\n7/12/2019\\r\\n7/12/2019\\r\\n7/12/2019\\r\\n7/12/2019\\r\\n7/12/2019\\r\\n7/12/2019\\r\\n7/12/2019\\r\\n7/12/2019\\r\\n7/12/2019\\r\\n7/12/2019\\r\\n7/12/2019\\r\\n7/12/2019\\r\\n7/12/2019\\r\\n7/12/2019\\r\\n7/12/2019\\r\\n7/12/2019\\r\\n7/12/2019\\r\\n7/13/2019\\r\\n7/13/2019\\r\\n7/13/2019\\r\\n7/13/2019\\r\\n7/13/2019\\r\\n7/13/2019\\r\\n7/13/2019\\r\\n7/13/2019\\r\\n7/13/2019\\r\\n7/13/2019\\r\\n7/13/2019\\r\\n7/13/2019\\r\\n7/13/2019\\r\\n7/13/2019\\r\\n7/13/2019\\r\\n7/13/2019\\r\\n7/13/2019\\r\\n7/13/2019\\r\\n7/13/2019\\r\\n7/13/2019\\r\\n7/13/2019\\r\\n7/13/2019\\r\\n7/13/2019\\r\\n7/13/2019\\r\\n7/13/2019\\r\\n7/13/2019\\r\\n7/13/2019\\r\\n7/13/2019\\r\\n7/13/2019\\r\\n7/13/2019\\r\\n7/15/2019\\r\\n7/15/2019\\r\\n7/15/2019\\r\\n7/15/2019\\r\\n7/15/2019\\r\\n7/15/2019\\r\\n7/15/2019\\r\\n7/15/2019\\r\\n7/15/2019\\r\\n7/15/2019\\r\\n7/15/2019\\r\\n7/15/2019\\r\\n7/15/2019\\r\\n7/15/2019\\r\\n7/15/2019\\r\\n7/15/2019\\r\\n7/15/2019\\r\\n7/15/2019\\r\\n7/15/2019\\r\\n7/15/2019\\r\\n7/15/2019\\r\\n7/15/2019\\r\\n7/15/2019\\r\\n7/15/2019\\r\\n7/15/2019\\r\\n7/15/2019\\r\\n7/15/2019\\r\\n7/15/2019\\r\\n7/15/2019\\r\\n7/15/2019\\r\\n7/15/2019\\r\\n7/15/2019\\r\\n7/15/2019\\r\\n7/15/2019\\r\\n7/15/2019\\r\\n7/15/2019\\r\\n7/15/2019\\r\\n7/15/2019\\r\\n7/15/2019\\r\\n7/15/2019\\r\\n7/15/2019\\r\\n7/15/2019\\r\\n7/15/2019\\r\\n7/15/2019\\r\\n7/15/2019\\r\\n7/15/2019\\r\\n7/15/2019\\r\\n7/15/2019\\r\\n7/15/2019\\r\\n7/15/2019\\r\\n7/15/2019\\r\\n7/15/2019\\r\\n7/15/2019\\r\\n7/15/2019\\r\\n7/15/2019\\r\\n7/15/2019\\r\\n7/15/2019\\r\\n7/15/2019\\r\\n7/15/2019\\r\\n7/15/2019\\r\\n7/16/2019\\r\\n7/16/2019\\r\\n7/16/2019\\r\\n7/16/2019\\r\\n7/16/2019\\r\\n7/16/2019\\r\\n7/16/2019\\r\\n7/16/2019\\r\\n7/16/2019\\r\\n7/16/2019\\r\\n7/16/2019\\r\\n7/16/2019\\r\\n7/16/2019\\r\\n7/16/2019\\r\\n7/16/2019\\r\\n7/16/2019\\r\\n7/16/2019\\r\\n7/16/2019\\r\\n7/16/2019\\r\\n7/16/2019\\r\\n7/16/2019\\r\\n7/16/2019\\r\\n7/16/2019\\r\\n7/16/2019\\r\\n7/16/2019\\r\\n7/16/2019\\r\\n7/16/2019\\r\\n7/16/2019\\r\\n7/16/2019\\r\\n7/16/2019\\r\\n7/16/2019\\r\\n7/16/2019\\r\\n7/16/2019\\r\\n7/16/2019\\r\\n7/16/2019\\r\\n7/16/2019\\r\\n7/16/2019\\r\\n7/16/2019\\r\\n7/16/2019\\r\\n7/16/2019\\r\\n7/16/2019\\r\\n7/16/2019\\r\\n7/16/2019\\r\\n7/16/2019\\r\\n7/16/2019\\r\\n7/16/2019\\r\\n7/16/2019\\r\\n7/16/2019\\r\\n7/16/2019\\r\\n7/16/2019\\r\\n7/17/2019\\r\\n7/17/2019\\r\\n7/17/2019\\r\\n7/17/2019\\r\\n7/17/2019\\r\\n7/17/2019\\r\\n7/17/2019\\r\\n7/17/2019\\r\\n7/17/2019\\r\\n7/17/2019\\r\\n7/17/2019\\r\\n7/17/2019\\r\\n7/17/2019\\r\\n7/17/2019\\r\\n7/17/2019\\r\\n7/17/2019\\r\\n7/17/2019\\r\\n7/17/2019\\r\\n7/17/2019\\r\\n7/17/2019\\r\\n7/17/2019\\r\\n7/17/2019\\r\\n7/17/2019\\r\\n7/17/2019\\r\\n7/17/2019\\r\\n7/17/2019\\r\\n7/17/2019\\r\\n7/17/2019\\r\\n7/17/2019\\r\\n7/17/2019\\r\\n7/17/2019\\r\\n7/17/2019\\r\\n7/17/2019\\r\\n7/17/2019\\r\\n7/17/2019\\r\\n7/17/2019\\r\\n7/17/2019\\r\\n7/17/2019\\r\\n7/17/2019\\r\\n7/17/2019\\r\\n7/17/2019\\r\\n7/17/2019\\r\\n7/17/2019\\r\\n7/17/2019\\r\\n7/17/2019\\r\\n7/18/2019\\r\\n7/18/2019\\r\\n7/18/2019\\r\\n7/18/2019\\r\\n7/18/2019\\r\\n7/18/2019\\r\\n7/18/2019\\r\\n7/18/2019\\r\\n7/18/2019\\r\\n7/18/2019\\r\\n7/18/2019\\r\\n7/18/2019\\r\\n7/18/2019\\r\\n7/18/2019\\r\\n7/18/2019\\r\\n7/18/2019\\r\\n7/18/2019\\r\\n7/18/2019\\r\\n7/18/2019\\r\\n7/18/2019\\r\\n7/18/2019\\r\\n7/18/2019\\r\\n7/18/2019\\r\\n7/18/2019\\r\\n7/18/2019\\r\\n7/18/2019\\r\\n7/18/2019\\r\\n7/18/2019\\r\\n7/18/2019\\r\\n7/18/2019\\r\\n7/18/2019\\r\\n7/18/2019\\r\\n7/18/2019\\r\\n7/18/2019\\r\\n7/18/2019\\r\\n7/18/2019\\r\\n7/18/2019\\r\\n7/18/2019\\r\\n7/18/2019\\r\\n7/18/2019\\r\\n7/18/2019\\r\\n7/18/2019\\r\\n7/18/2019\\r\\n7/18/2019\\r\\n7/18/2019\\r\\n7/18/2019\\r\\n7/18/2019\\r\\n7/18/2019\\r\\n7/18/2019\\r\\n7/18/2019\\r\\n7/18/2019\\r\\n7/18/2019\\r\\n7/18/2019\\r\\n7/18/2019\\r\\n7/18/2019\\r\\n7/19/2019\\r\\n7/19/2019\\r\\n7/19/2019\\r\\n7/19/2019\\r\\n7/19/2019\\r\\n7/19/2019\\r\\n7/19/2019\\r\\n7/19/2019\\r\\n7/19/2019\\r\\n7/19/2019\\r\\n7/19/2019\\r\\n7/19/2019\\r\\n7/19/2019\\r\\n7/19/2019\\r\\n7/19/2019\\r\\n7/19/2019\\r\\n7/19/2019\\r\\n7/19/2019\\r\\n7/19/2019\\r\\n7/19/2019\\r\\n7/19/2019\\r\\n7/19/2019\\r\\n7/19/2019\\r\\n7/19/2019\\r\\n7/19/2019\\r\\n7/19/2019\\r\\n7/19/2019\\r\\n7/19/2019\\r\\n7/19/2019\\r\\n7/19/2019\\r\\n7/19/2019\\r\\n7/19/2019\\r\\n7/19/2019\\r\\n7/19/2019\\r\\n7/19/2019\\r\\n7/19/2019\\r\\n7/19/2019\\r\\n7/19/2019\\r\\n7/19/2019\\r\\n7/19/2019\\r\\n7/19/2019\\r\\n7/19/2019\\r\\n7/19/2019\\r\\n7/19/2019\\r\\n7/19/2019\\r\\n7/19/2019\\r\\n7/19/2019\\r\\n7/19/2019\\r\\n7/19/2019\\r\\n7/19/2019\\r\\n7/19/2019\\r\\n7/19/2019\\r\\n7/19/2019\\r\\n7/19/2019\\r\\n7/20/2019\\r\\n7/20/2019\\r\\n7/20/2019\\r\\n7/20/2019\\r\\n7/20/2019\\r\\n7/20/2019\\r\\n7/20/2019\\r\\n7/20/2019\\r\\n7/20/2019\\r\\n7/20/2019\\r\\n7/20/2019\\r\\n7/20/2019\\r\\n7/20/2019\\r\\n7/20/2019\\r\\n7/20/2019\\r\\n7/20/2019\\r\\n7/20/2019\\r\\n7/20/2019\\r\\n7/20/2019\\r\\n7/20/2019\\r\\n7/20/2019\\r\\n7/20/2019\\r\\n7/20/2019\\r\\n7/20/2019\\r\\n7/20/2019\\r\\n7/20/2019\\r\\n7/22/2019\\r\\n7/22/2019\\r\\n7/22/2019\\r\\n7/22/2019\\r\\n7/22/2019\\r\\n7/22/2019\\r\\n7/22/2019\\r\\n7/22/2019\\r\\n7/22/2019\\r\\n7/22/2019\\r\\n7/22/2019\\r\\n7/22/2019\\r\\n7/22/2019\\r\\n7/22/2019\\r\\n7/22/2019\\r\\n7/22/2019\\r\\n7/22/2019\\r\\n7/22/2019\\r\\n7/22/2019\\r\\n7/22/2019\\r\\n7/22/2019\\r\\n7/22/2019\\r\\n7/22/2019\\r\\n7/22/2019\\r\\n7/22/2019\\r\\n7/22/2019\\r\\n7/22/2019\\r\\n7/22/2019\\r\\n7/22/2019\\r\\n7/22/2019\\r\\n7/22/2019\\r\\n7/22/2019\\r\\n7/22/2019\\r\\n7/23/2019\\r\\n7/23/2019\\r\\n7/23/2019\\r\\n7/23/2019\\r\\n7/23/2019\\r\\n7/23/2019\\r\\n7/23/2019\\r\\n7/23/2019\\r\\n7/23/2019\\r\\n7/23/2019\\r\\n7/23/2019\\r\\n7/23/2019\\r\\n7/23/2019\\r\\n7/23/2019\\r\\n7/23/2019\\r\\n7/23/2019\\r\\n7/23/2019\\r\\n7/23/2019\\r\\n7/23/2019\\r\\n7/23/2019\\r\\n7/23/2019\\r\\n7/23/2019\\r\\n7/23/2019\\r\\n7/23/2019\\r\\n7/23/2019\\r\\n7/23/2019\\r\\n7/23/2019\\r\\n7/23/2019\\r\\n7/23/2019\\r\\n7/23/2019\\r\\n7/23/2019\\r\\n7/23/2019\\r\\n7/23/2019\\r\\n7/23/2019\\r\\n7/23/2019\\r\\n7/23/2019\\r\\n7/23/2019\\r\\n7/23/2019\\r\\n7/23/2019\\r\\n7/23/2019\\r\\n7/23/2019\\r\\n7/23/2019\\r\\n7/23/2019\\r\\n7/23/2019\\r\\n7/23/2019\\r\\n7/23/2019\\r\\n7/23/2019\\r\\n7/23/2019\\r\\n7/23/2019\\r\\n7/23/2019\\r\\n7/23/2019\\r\\n7/23/2019\\r\\n7/23/2019\\r\\n7/23/2019\\r\\n7/23/2019\\r\\n7/23/2019\\r\\n7/23/2019\\r\\n7/23/2019\\r\\n7/23/2019\\r\\n7/24/2019\\r\\n7/24/2019\\r\\n7/24/2019\\r\\n7/24/2019\\r\\n7/24/2019\\r\\n7/24/2019\\r\\n7/24/2019\\r\\n7/24/2019\\r\\n7/24/2019\\r\\n7/24/2019\\r\\n7/24/2019\\r\\n7/24/2019\\r\\n7/24/2019\\r\\n7/24/2019\\r\\n7/24/2019\\r\\n7/24/2019\\r\\n7/24/2019\\r\\n7/24/2019\\r\\n7/24/2019\\r\\n7/24/2019\\r\\n7/24/2019\\r\\n7/24/2019\\r\\n7/24/2019\\r\\n7/24/2019\\r\\n7/24/2019\\r\\n7/24/2019\\r\\n7/24/2019\\r\\n7/24/2019\\r\\n7/24/2019\\r\\n7/24/2019\\r\\n7/24/2019\\r\\n7/24/2019\\r\\n7/24/2019\\r\\n7/24/2019\\r\\n7/24/2019\\r\\n7/24/2019\\r\\n7/24/2019\\r\\n7/24/2019\\r\\n7/24/2019\\r\\n7/24/2019\\r\\n7/24/2019\\r\\n7/24/2019\\r\\n7/24/2019\\r\\n7/24/2019\\r\\n7/24/2019\\r\\n7/24/2019\\r\\n7/24/2019\\r\\n7/24/2019\\r\\n7/24/2019\\r\\n7/24/2019\\r\\n7/24/2019\\r\\n7/24/2019\\r\\n7/24/2019\\r\\n7/25/2019\\r\\n7/25/2019\\r\\n7/25/2019\\r\\n7/25/2019\\r\\n7/25/2019\\r\\n7/25/2019\\r\\n7/25/2019\\r\\n7/25/2019\\r\\n7/25/2019\\r\\n7/25/2019\\r\\n7/25/2019\\r\\n7/25/2019\\r\\n7/25/2019\\r\\n7/25/2019\\r\\n7/25/2019\\r\\n7/25/2019\\r\\n7/25/2019\\r\\n7/25/2019\\r\\n7/25/2019\\r\\n7/25/2019\\r\\n7/25/2019\\r\\n7/25/2019\\r\\n7/25/2019\\r\\n7/25/2019\\r\\n7/25/2019\\r\\n7/25/2019\\r\\n7/25/2019\\r\\n7/25/2019\\r\\n7/25/2019\\r\\n7/25/2019\\r\\n7/25/2019\\r\\n7/25/2019\\r\\n7/25/2019\\r\\n7/25/2019\\r\\n7/25/2019\\r\\n7/25/2019\\r\\n7/25/2019\\r\\n7/25/2019\\r\\n7/25/2019\\r\\n7/25/2019\\r\\n7/25/2019\\r\\n7/25/2019\\r\\n7/25/2019\\r\\n7/25/2019\\r\\n7/25/2019\\r\\n7/25/2019\\r\\n7/25/2019\\r\\n7/26/2019\\r\\n7/26/2019\\r\\n7/26/2019\\r\\n7/26/2019\\r\\n7/26/2019\\r\\n7/26/2019\\r\\n7/26/2019\\r\\n7/26/2019\\r\\n7/26/2019\\r\\n7/26/2019\\r\\n7/26/2019\\r\\n7/26/2019\\r\\n7/26/2019\\r\\n7/26/2019\\r\\n7/26/2019\\r\\n7/26/2019\\r\\n7/26/2019\\r\\n7/26/2019\\r\\n7/26/2019\\r\\n7/26/2019\\r\\n7/26/2019\\r\\n7/26/2019\\r\\n7/26/2019\\r\\n7/26/2019\\r\\n7/26/2019\\r\\n7/26/2019\\r\\n7/26/2019\\r\\n7/26/2019\\r\\n7/26/2019\\r\\n7/26/2019\\r\\n7/26/2019\\r\\n7/26/2019\\r\\n7/26/2019\\r\\n7/26/2019\\r\\n7/26/2019\\r\\n7/26/2019\\r\\n7/26/2019\\r\\n7/26/2019\\r\\n7/26/2019\\r\\n7/26/2019\\r\\n7/26/2019\\r\\n7/26/2019\\r\\n7/26/2019\\r\\n7/26/2019\\r\\n7/26/2019\\r\\n7/26/2019\\r\\n7/26/2019\\r\\n7/26/2019\\r\\n7/26/2019\\r\\n7/26/2019\\r\\n7/26/2019\\r\\n7/26/2019\\r\\n7/26/2019\\r\\n7/26/2019\\r\\n7/26/2019\\r\\n7/26/2019\\r\\n7/26/2019\\r\\n7/27/2019\\r\\n7/27/2019\\r\\n7/27/2019\\r\\n7/27/2019\\r\\n7/27/2019\\r\\n7/27/2019\\r\\n7/27/2019\\r\\n7/27/2019\\r\\n7/27/2019\\r\\n7/27/2019\\r\\n7/27/2019\\r\\n7/27/2019\\r\\n7/27/2019\\r\\n7/27/2019\\r\\n7/27/2019\\r\\n7/27/2019\\r\\n7/27/2019\\r\\n7/27/2019\\r\\n7/27/2019\\r\\n7/27/2019\\r\\n7/27/2019\\r\\n7/27/2019\\r\\n7/27/2019\\r\\n7/27/2019\\r\\n7/27/2019\\r\\n7/27/2019\\r\\n7/27/2019\\r\\n7/27/2019\\r\\n7/29/2019\\r\\n7/29/2019\\r\\n7/29/2019\\r\\n7/29/2019\\r\\n7/29/2019\\r\\n7/29/2019\\r\\n7/29/2019\\r\\n7/29/2019\\r\\n7/29/2019\\r\\n7/29/2019\\r\\n7/29/2019\\r\\n7/29/2019\\r\\n7/29/2019\\r\\n7/29/2019\\r\\n7/29/2019\\r\\n7/29/2019\\r\\n7/29/2019\\r\\n7/29/2019\\r\\n7/29/2019\\r\\n7/29/2019\\r\\n7/29/2019\\r\\n7/29/2019\\r\\n7/29/2019\\r\\n7/29/2019\\r\\n7/29/2019\\r\\n7/29/2019\\r\\n7/29/2019\\r\\n7/29/2019\\r\\n7/29/2019\\r\\n7/29/2019\\r\\n7/29/2019\\r\\n7/29/2019\\r\\n7/29/2019\\r\\n7/29/2019\\r\\n7/29/2019\\r\\n7/29/2019\\r\\n7/29/2019\\r\\n7/29/2019\\r\\n7/29/2019\\r\\n7/29/2019\\r\\n7/29/2019\\r\\n7/29/2019\\r\\n7/29/2019\\r\\n7/29/2019\\r\\n7/29/2019\\r\\n7/29/2019\\r\\n7/30/2019\\r\\n7/30/2019\\r\\n7/30/2019\\r\\n7/30/2019\\r\\n7/30/2019\\r\\n7/30/2019\\r\\n7/30/2019\\r\\n7/30/2019\\r\\n7/30/2019\\r\\n7/30/2019\\r\\n7/30/2019\\r\\n7/30/2019\\r\\n7/30/2019\\r\\n7/30/2019\\r\\n7/30/2019\\r\\n7/30/2019\\r\\n7/30/2019\\r\\n7/30/2019\\r\\n7/30/2019\\r\\n7/30/2019\\r\\n7/30/2019\\r\\n7/30/2019\\r\\n7/30/2019\\r\\n7/30/2019\\r\\n7/30/2019\\r\\n7/30/2019\\r\\n7/30/2019\\r\\n7/30/2019\\r\\n7/30/2019\\r\\n7/30/2019\\r\\n7/30/2019\\r\\n7/30/2019\\r\\n7/30/2019\\r\\n7/30/2019\\r\\n7/30/2019\\r\\n7/30/2019\\r\\n7/30/2019\\r\\n7/31/2019\\r\\n7/31/2019\\r\\n7/31/2019\\r\\n7/31/2019\\r\\n7/31/2019\\r\\n7/31/2019\\r\\n7/31/2019\\r\\n7/31/2019\\r\\n7/31/2019\\r\\n7/31/2019\\r\\n7/31/2019\\r\\n7/31/2019\\r\\n7/31/2019\\r\\n7/31/2019\\r\\n7/31/2019\\r\\n7/31/2019\\r\\n7/31/2019\\r\\n7/31/2019\\r\\n7/31/2019\\r\\n7/31/2019\\r\\n7/31/2019\\r\\n7/31/2019\\r\\n7/31/2019\\r\\n7/31/2019\\r\\n7/31/2019\\r\\n7/31/2019\\r\\n7/31/2019\\r\\n7/31/2019\\r\\n7/31/2019\\r\\n7/31/2019\\r\\n7/31/2019\\r\\n7/31/2019\\r\\n7/31/2019\\r\\n7/31/2019\\r\\n7/31/2019\\r\\n7/31/2019\\r\\n7/31/2019\\r\\n7/31/2019\\r\\n7/31/2019\\r\\n7/31/2019\\r\\n7/31/2019\\r\\n7/31/2019\\r\\n7/31/2019\\r\\n7/31/2019\\r\\n7/31/2019\\r\\n8/1/2019\\r\\n8/1/2019\\r\\n8/1/2019\\r\\n8/1/2019\\r\\n8/1/2019\\r\\n8/1/2019\\r\\n8/1/2019\\r\\n8/1/2019\\r\\n8/1/2019\\r\\n8/1/2019\\r\\n8/1/2019\\r\\n8/1/2019\\r\\n8/1/2019\\r\\n8/1/2019\\r\\n8/1/2019\\r\\n8/1/2019\\r\\n8/1/2019\\r\\n8/1/2019\\r\\n8/1/2019\\r\\n8/1/2019\\r\\n8/1/2019\\r\\n8/1/2019\\r\\n8/1/2019\\r\\n8/1/2019\\r\\n8/1/2019\\r\\n8/1/2019\\r\\n8/1/2019\\r\\n8/1/2019\\r\\n8/1/2019\\r\\n8/1/2019\\r\\n8/1/2019\\r\\n8/1/2019\\r\\n8/1/2019\\r\\n8/1/2019\\r\\n8/1/2019\\r\\n8/1/2019\\r\\n8/1/2019\\r\\n8/1/2019\\r\\n8/1/2019\\r\\n8/1/2019\\r\\n8/1/2019\\r\\n8/1/2019\\r\\n8/1/2019\\r\\n8/1/2019\\r\\n8/1/2019\\r\\n8/1/2019\\r\\n8/1/2019\\r\\n8/1/2019\\r\\n8/1/2019\\r\\n8/1/2019\\r\\n8/1/2019\\r\\n8/1/2019\\r\\n8/1/2019\\r\\n8/1/2019\\r\\n8/1/2019\\r\\n8/1/2019\\r\\n8/2/2019\\r\\n8/2/2019\\r\\n8/2/2019\\r\\n8/2/2019\\r\\n8/2/2019\\r\\n8/2/2019\\r\\n8/2/2019\\r\\n8/2/2019\\r\\n8/2/2019\\r\\n8/2/2019\\r\\n8/2/2019\\r\\n8/2/2019\\r\\n8/2/2019\\r\\n8/2/2019\\r\\n8/2/2019\\r\\n8/2/2019\\r\\n8/2/2019\\r\\n8/2/2019\\r\\n8/2/2019\\r\\n8/2/2019\\r\\n8/2/2019\\r\\n8/2/2019\\r\\n8/2/2019\\r\\n8/2/2019\\r\\n8/2/2019\\r\\n8/2/2019\\r\\n8/2/2019\\r\\n8/2/2019\\r\\n8/2/2019\\r\\n8/2/2019\\r\\n8/2/2019\\r\\n8/2/2019\\r\\n8/2/2019\\r\\n8/2/2019\\r\\n8/2/2019\\r\\n8/2/2019\\r\\n8/2/2019\\r\\n8/2/2019\\r\\n8/2/2019\\r\\n8/2/2019\\r\\n8/2/2019\\r\\n8/2/2019\\r\\n8/2/2019\\r\\n8/2/2019\\r\\n8/2/2019\\r\\n8/2/2019\\r\\n8/2/2019\\r\\n8/2/2019\\r\\n8/2/2019\\r\\n8/2/2019\\r\\n8/2/2019\\r\\n8/2/2019\\r\\n8/2/2019\\r\\n8/5/2019\\r\\n8/5/2019\\r\\n8/5/2019\\r\\n8/5/2019\\r\\n8/5/2019\\r\\n8/5/2019\\r\\n8/5/2019\\r\\n8/5/2019\\r\\n8/5/2019\\r\\n8/5/2019\\r\\n8/5/2019\\r\\n8/5/2019\\r\\n8/5/2019\\r\\n8/5/2019\\r\\n8/5/2019\\r\\n8/5/2019\\r\\n8/5/2019\\r\\n8/5/2019\\r\\n8/5/2019\\r\\n8/5/2019\\r\\n8/5/2019\\r\\n8/5/2019\\r\\n8/5/2019\\r\\n8/5/2019\\r\\n8/5/2019\\r\\n8/5/2019\\r\\n8/5/2019\\r\\n8/5/2019\\r\\n8/5/2019\\r\\n8/5/2019\\r\\n8/5/2019\\r\\n8/5/2019\\r\\n8/5/2019\\r\\n8/5/2019\\r\\n8/5/2019\\r\\n8/5/2019\\r\\n8/5/2019\\r\\n8/5/2019\\r\\n8/5/2019\\r\\n8/5/2019\\r\\n8/5/2019\\r\\n8/5/2019\\r\\n8/5/2019\\r\\n8/5/2019\\r\\n8/5/2019\\r\\n8/5/2019\\r\\n8/5/2019\\r\\n8/5/2019\\r\\n8/5/2019\\r\\n8/5/2019\\r\\n8/5/2019\\r\\n8/5/2019\\r\\n8/5/2019\\r\\n8/5/2019\\r\\n8/5/2019\\r\\n8/5/2019\\r\\n8/6/2019\\r\\n8/6/2019\\r\\n8/6/2019\\r\\n8/6/2019\\r\\n8/6/2019\\r\\n8/6/2019\\r\\n8/6/2019\\r\\n8/6/2019\\r\\n8/6/2019\\r\\n8/6/2019\\r\\n8/6/2019\\r\\n8/6/2019\\r\\n8/6/2019\\r\\n8/6/2019\\r\\n8/6/2019\\r\\n8/6/2019\\r\\n8/6/2019\\r\\n8/6/2019\\r\\n8/6/2019\\r\\n8/6/2019\\r\\n8/6/2019\\r\\n8/6/2019\\r\\n8/6/2019\\r\\n8/6/2019\\r\\n8/6/2019\\r\\n8/6/2019\\r\\n8/6/2019\\r\\n8/6/2019\\r\\n8/6/2019\\r\\n8/6/2019\\r\\n8/6/2019\\r\\n8/6/2019\\r\\n8/6/2019\\r\\n8/6/2019\\r\\n8/6/2019\\r\\n8/6/2019\\r\\n8/6/2019\\r\\n8/6/2019\\r\\n8/6/2019\\r\\n8/6/2019\\r\\n8/6/2019\\r\\n8/6/2019\\r\\n8/6/2019\\r\\n8/6/2019\\r\\n8/6/2019\\r\\n8/6/2019\\r\\n8/7/2019\\r\\n8/7/2019\\r\\n8/7/2019\\r\\n8/7/2019\\r\\n8/7/2019\\r\\n8/7/2019\\r\\n8/7/2019\\r\\n8/7/2019\\r\\n8/7/2019\\r\\n8/7/2019\\r\\n8/7/2019\\r\\n8/7/2019\\r\\n8/7/2019\\r\\n8/7/2019\\r\\n8/7/2019\\r\\n8/7/2019\\r\\n8/7/2019\\r\\n8/7/2019\\r\\n8/7/2019\\r\\n8/7/2019\\r\\n8/7/2019\\r\\n8/7/2019\\r\\n8/7/2019\\r\\n8/7/2019\\r\\n8/7/2019\\r\\n8/7/2019\\r\\n8/7/2019\\r\\n8/7/2019\\r\\n8/7/2019\\r\\n8/7/2019\\r\\n8/7/2019\\r\\n8/7/2019\\r\\n8/7/2019\\r\\n8/7/2019\\r\\n8/7/2019\\r\\n8/7/2019\\r\\n8/7/2019\\r\\n8/7/2019\\r\\n8/7/2019\\r\\n8/7/2019\\r\\n8/7/2019\\r\\n8/7/2019\\r\\n8/7/2019\\r\\n8/7/2019\\r\\n8/7/2019\\r\\n8/7/2019\\r\\n8/7/2019\\r\\n8/7/2019\\r\\n8/7/2019\\r\\n8/7/2019\\r\\n8/7/2019\\r\\n8/7/2019\\r\\n8/7/2019\\r\\n8/7/2019\\r\\n8/7/2019\\r\\n8/7/2019\\r\\n8/7/2019\\r\\n8/8/2019\\r\\n8/8/2019\\r\\n8/8/2019\\r\\n8/8/2019\\r\\n8/8/2019\\r\\n8/8/2019\\r\\n8/8/2019\\r\\n8/8/2019\\r\\n8/8/2019\\r\\n8/8/2019\\r\\n8/8/2019\\r\\n8/8/2019\\r\\n8/8/2019\\r\\n8/8/2019\\r\\n8/8/2019\\r\\n8/8/2019\\r\\n8/8/2019\\r\\n8/8/2019\\r\\n8/8/2019\\r\\n8/8/2019\\r\\n8/8/2019\\r\\n8/8/2019\\r\\n8/8/2019\\r\\n8/8/2019\\r\\n8/8/2019\\r\\n8/8/2019\\r\\n8/8/2019\\r\\n8/8/2019\\r\\n8/8/2019\\r\\n8/8/2019\\r\\n8/8/2019\\r\\n8/8/2019\\r\\n8/8/2019\\r\\n8/8/2019\\r\\n8/8/2019\\r\\n8/8/2019\\r\\n8/8/2019\\r\\n8/8/2019\\r\\n8/8/2019\\r\\n8/8/2019\\r\\n8/8/2019\\r\\n8/8/2019\\r\\n8/8/2019\\r\\n8/9/2019\\r\\n8/9/2019\\r\\n8/9/2019\\r\\n8/9/2019\\r\\n8/9/2019\\r\\n8/9/2019\\r\\n8/9/2019\\r\\n8/9/2019\\r\\n8/9/2019\\r\\n8/9/2019\\r\\n8/9/2019\\r\\n8/9/2019\\r\\n8/9/2019\\r\\n8/9/2019\\r\\n8/9/2019\\r\\n8/9/2019\\r\\n8/9/2019\\r\\n8/9/2019\\r\\n8/9/2019\\r\\n8/9/2019\\r\\n8/9/2019\\r\\n8/9/2019\\r\\n8/9/2019\\r\\n8/9/2019\\r\\n8/9/2019\\r\\n8/9/2019\\r\\n8/9/2019\\r\\n8/9/2019\\r\\n8/9/2019\\r\\n8/9/2019\\r\\n8/9/2019\\r\\n8/9/2019\\r\\n8/9/2019\\r\\n8/9/2019\\r\\n8/9/2019\\r\\n8/9/2019\\r\\n8/9/2019\\r\\n8/9/2019\\r\\n8/9/2019\\r\\n8/9/2019\\r\\n8/9/2019\\r\\n8/9/2019\\r\\n8/9/2019\\r\\n8/9/2019\\r\\n8/9/2019\\r\\n8/9/2019\\r\\n8/9/2019\\r\\n8/9/2019\\r\\n8/9/2019\\r\\n8/9/2019\\r\\n8/9/2019\\r\\n8/9/2019\\r\\n8/9/2019\\r\\n8/10/2019\\r\\n8/10/2019\\r\\n8/10/2019\\r\\n8/10/2019\\r\\n8/10/2019\\r\\n8/10/2019\\r\\n8/10/2019\\r\\n8/10/2019\\r\\n8/10/2019\\r\\n8/10/2019\\r\\n8/10/2019\\r\\n8/10/2019\\r\\n8/10/2019\\r\\n8/10/2019\\r\\n8/10/2019\\r\\n8/10/2019\\r\\n8/10/2019\\r\\n8/10/2019\\r\\n8/10/2019\\r\\n8/10/2019\\r\\n8/10/2019\\r\\n8/10/2019\\r\\n8/10/2019\\r\\n8/10/2019\\r\\n8/10/2019\\r\\n8/13/2019\\r\\n8/13/2019\\r\\n8/13/2019\\r\\n8/13/2019\\r\\n8/13/2019\\r\\n8/13/2019\\r\\n8/13/2019\\r\\n8/13/2019\\r\\n8/13/2019\\r\\n8/13/2019\\r\\n8/13/2019\\r\\n8/13/2019\\r\\n8/13/2019\\r\\n8/13/2019\\r\\n8/13/2019\\r\\n8/13/2019\\r\\n8/13/2019\\r\\n8/13/2019\\r\\n8/13/2019\\r\\n8/13/2019\\r\\n8/13/2019\\r\\n8/13/2019\\r\\n8/13/2019\\r\\n8/13/2019\\r\\n8/13/2019\\r\\n8/13/2019\\r\\n8/14/2019\\r\\n8/14/2019\\r\\n8/14/2019\\r\\n8/14/2019\\r\\n8/14/2019\\r\\n8/14/2019\\r\\n8/14/2019\\r\\n8/14/2019\\r\\n8/14/2019\\r\\n8/14/2019\\r\\n8/14/2019\\r\\n8/14/2019\\r\\n8/14/2019\\r\\n8/14/2019\\r\\n8/14/2019\\r\\n8/14/2019\\r\\n8/14/2019\\r\\n8/14/2019\\r\\n8/14/2019\\r\\n8/14/2019\\r\\n8/14/2019\\r\\n8/14/2019\\r\\n8/14/2019\\r\\n8/14/2019\\r\\n8/14/2019\\r\\n8/14/2019\\r\\n8/14/2019\\r\\n8/14/2019\\r\\n8/14/2019\\r\\n8/14/2019\\r\\n8/14/2019\\r\\n8/14/2019\\r\\n8/14/2019\\r\\n8/14/2019\\r\\n8/14/2019\\r\\n8/14/2019\\r\\n8/14/2019\\r\\n8/14/2019\\r\\n8/14/2019\\r\\n8/14/2019\\r\\n8/14/2019\\r\\n8/14/2019\\r\\n8/14/2019\\r\\n8/14/2019\\r\\n8/14/2019\\r\\n8/14/2019\\r\\n8/14/2019\\r\\n8/14/2019\\r\\n8/14/2019\\r\\n8/14/2019\\r\\n8/14/2019\\r\\n8/14/2019\\r\\n8/14/2019\\r\\n8/14/2019\\r\\n8/14/2019\\r\\n8/14/2019\\r\\n8/14/2019\\r\\n8/15/2019\\r\\n8/15/2019\\r\\n8/15/2019\\r\\n8/15/2019\\r\\n8/15/2019\\r\\n8/15/2019\\r\\n8/15/2019\\r\\n8/15/2019\\r\\n8/15/2019\\r\\n8/15/2019\\r\\n8/15/2019\\r\\n8/15/2019\\r\\n8/15/2019\\r\\n8/15/2019\\r\\n8/15/2019\\r\\n8/15/2019\\r\\n8/15/2019\\r\\n8/15/2019\\r\\n8/15/2019\\r\\n8/15/2019\\r\\n8/15/2019\\r\\n8/15/2019\\r\\n8/15/2019\\r\\n8/15/2019\\r\\n8/15/2019\\r\\n8/15/2019\\r\\n8/15/2019\\r\\n8/15/2019\\r\\n8/15/2019\\r\\n8/16/2019\\r\\n8/16/2019\\r\\n8/16/2019\\r\\n8/16/2019\\r\\n8/16/2019\\r\\n8/16/2019\\r\\n8/16/2019\\r\\n8/16/2019\\r\\n8/16/2019\\r\\n8/16/2019\\r\\n8/16/2019\\r\\n8/16/2019\\r\\n8/16/2019\\r\\n8/16/2019\\r\\n8/16/2019\\r\\n8/16/2019\\r\\n8/16/2019\\r\\n8/16/2019\\r\\n8/16/2019\\r\\n8/16/2019\\r\\n8/16/2019\\r\\n8/16/2019\\r\\n8/16/2019\\r\\n8/17/2019\\r\\n8/17/2019\\r\\n8/17/2019\\r\\n8/17/2019\\r\\n8/17/2019\\r\\n8/17/2019\\r\\n8/17/2019\\r\\n8/17/2019\\r\\n8/17/2019\\r\\n8/17/2019\\r\\n8/17/2019\\r\\n8/17/2019\\r\\n8/17/2019\\r\\n8/17/2019\\r\\n8/17/2019\\r\\n8/17/2019\\r\\n8/17/2019\\r\\n8/17/2019\\r\\n8/17/2019\\r\\n8/17/2019\\r\\n8/17/2019\\r\\n8/17/2019\\r\\n8/17/2019\\r\\n8/19/2019\\r\\n8/19/2019\\r\\n8/19/2019\\r\\n8/19/2019\\r\\n8/19/2019\\r\\n8/19/2019\\r\\n8/19/2019\\r\\n8/19/2019\\r\\n8/19/2019\\r\\n8/19/2019\\r\\n8/19/2019\\r\\n8/19/2019\\r\\n8/19/2019\\r\\n8/19/2019\\r\\n8/19/2019\\r\\n8/19/2019\\r\\n8/19/2019\\r\\n8/19/2019\\r\\n8/19/2019\\r\\n8/19/2019\\r\\n8/19/2019\\r\\n8/19/2019\\r\\n8/19/2019\\r\\n8/19/2019\\r\\n8/19/2019\\r\\n8/19/2019\\r\\n8/19/2019\\r\\n8/19/2019\\r\\n8/19/2019\\r\\n8/19/2019\\r\\n8/19/2019\\r\\n8/19/2019\\r\\n8/19/2019\\r\\n8/19/2019\\r\\n8/19/2019\\r\\n8/19/2019\\r\\n8/19/2019\\r\\n8/19/2019\\r\\n8/19/2019\\r\\n8/19/2019\\r\\n8/19/2019\\r\\n8/19/2019\\r\\n8/19/2019\\r\\n8/19/2019\\r\\n8/19/2019\\r\\n8/19/2019\\r\\n8/19/2019\\r\\n8/19/2019\\r\\n8/19/2019\\r\\n8/19/2019\\r\\n8/19/2019\\r\\n8/19/2019\\r\\n8/20/2019\\r\\n8/20/2019\\r\\n8/20/2019\\r\\n8/20/2019\\r\\n8/20/2019\\r\\n8/20/2019\\r\\n8/20/2019\\r\\n8/20/2019\\r\\n8/20/2019\\r\\n8/20/2019\\r\\n8/20/2019\\r\\n8/20/2019\\r\\n8/20/2019\\r\\n8/20/2019\\r\\n8/20/2019\\r\\n8/20/2019\\r\\n8/20/2019\\r\\n8/20/2019\\r\\n8/20/2019\\r\\n8/20/2019\\r\\n8/20/2019\\r\\n8/20/2019\\r\\n8/20/2019\\r\\n8/20/2019\\r\\n8/20/2019\\r\\n8/20/2019\\r\\n8/20/2019\\r\\n8/20/2019\\r\\n8/20/2019\\r\\n8/20/2019\\r\\n8/20/2019\\r\\n8/20/2019\\r\\n8/20/2019\\r\\n8/20/2019\\r\\n8/20/2019\\r\\n8/20/2019\\r\\n8/20/2019\\r\\n8/20/2019\\r\\n8/20/2019\\r\\n8/20/2019\\r\\n8/20/2019\\r\\n8/20/2019\\r\\n8/20/2019\\r\\n8/20/2019\\r\\n8/20/2019\\r\\n8/20/2019\\r\\n8/20/2019\\r\\n8/20/2019\\r\\n8/20/2019\\r\\n8/20/2019\\r\\n8/20/2019\\r\\n8/20/2019\\r\\n8/20/2019\\r\\n8/20/2019\\r\\n8/20/2019\\r\\n8/20/2019\\r\\n8/20/2019\\r\\n8/21/2019\\r\\n8/21/2019\\r\\n8/21/2019\\r\\n8/21/2019\\r\\n8/21/2019\\r\\n8/21/2019\\r\\n8/21/2019\\r\\n8/21/2019\\r\\n8/21/2019\\r\\n8/21/2019\\r\\n8/21/2019\\r\\n8/21/2019\\r\\n8/21/2019\\r\\n8/21/2019\\r\\n8/21/2019\\r\\n8/21/2019\\r\\n8/21/2019\\r\\n8/21/2019\\r\\n8/21/2019\\r\\n8/21/2019\\r\\n8/21/2019\\r\\n8/21/2019\\r\\n8/21/2019\\r\\n8/21/2019\\r\\n8/21/2019\\r\\n8/21/2019\\r\\n8/21/2019\\r\\n8/21/2019\\r\\n8/21/2019\\r\\n8/21/2019\\r\\n8/21/2019\\r\\n8/21/2019\\r\\n8/21/2019\\r\\n8/21/2019\\r\\n8/21/2019\\r\\n8/21/2019\\r\\n8/21/2019\\r\\n8/21/2019\\r\\n8/21/2019\\r\\n8/21/2019\\r\\n8/21/2019\\r\\n8/21/2019\\r\\n8/21/2019\\r\\n8/21/2019\\r\\n8/21/2019\\r\\n8/21/2019\\r\\n8/21/2019\\r\\n8/21/2019\\r\\n8/21/2019\\r\\n8/21/2019\\r\\n8/21/2019\\r\\n8/21/2019\\r\\n8/21/2019\\r\\n8/21/2019\\r\\n8/21/2019\\r\\n8/22/2019\\r\\n8/22/2019\\r\\n8/22/2019\\r\\n8/22/2019\\r\\n8/22/2019\\r\\n8/22/2019\\r\\n8/22/2019\\r\\n8/22/2019\\r\\n8/22/2019\\r\\n8/22/2019\\r\\n8/22/2019\\r\\n8/22/2019\\r\\n8/22/2019\\r\\n8/22/2019\\r\\n8/22/2019\\r\\n8/22/2019\\r\\n8/22/2019\\r\\n8/22/2019\\r\\n8/22/2019\\r\\n8/22/2019\\r\\n8/22/2019\\r\\n8/22/2019\\r\\n8/22/2019\\r\\n8/22/2019\\r\\n8/22/2019\\r\\n8/22/2019\\r\\n8/22/2019\\r\\n8/22/2019\\r\\n8/22/2019\\r\\n8/22/2019\\r\\n8/22/2019\\r\\n8/22/2019\\r\\n8/22/2019\\r\\n8/22/2019\\r\\n8/22/2019\\r\\n8/22/2019\\r\\n8/22/2019\\r\\n8/22/2019\\r\\n8/22/2019\\r\\n8/22/2019\\r\\n8/22/2019\\r\\n8/22/2019\\r\\n8/22/2019\\r\\n8/22/2019\\r\\n8/22/2019\\r\\n8/22/2019\\r\\n8/22/2019\\r\\n8/22/2019\\r\\n8/22/2019\\r\\n8/23/2019\\r\\n8/23/2019\\r\\n8/23/2019\\r\\n8/23/2019\\r\\n8/23/2019\\r\\n8/23/2019\\r\\n8/23/2019\\r\\n8/23/2019\\r\\n8/23/2019\\r\\n8/23/2019\\r\\n8/23/2019\\r\\n8/23/2019\\r\\n8/23/2019\\r\\n8/23/2019\\r\\n8/23/2019\\r\\n8/23/2019\\r\\n8/23/2019\\r\\n8/23/2019\\r\\n8/23/2019\\r\\n8/23/2019\\r\\n8/23/2019\\r\\n8/23/2019\\r\\n8/23/2019\\r\\n8/23/2019\\r\\n8/23/2019\\r\\n8/23/2019\\r\\n8/23/2019\\r\\n8/23/2019\\r\\n8/23/2019\\r\\n8/23/2019\\r\\n8/23/2019\\r\\n8/23/2019\\r\\n8/23/2019\\r\\n8/23/2019\\r\\n8/23/2019\\r\\n8/23/2019\\r\\n8/23/2019\\r\\n8/23/2019\\r\\n8/23/2019\\r\\n8/23/2019\\r\\n8/23/2019\\r\\n8/23/2019\\r\\n8/23/2019\\r\\n8/23/2019\\r\\n8/23/2019\\r\\n8/23/2019\\r\\n8/23/2019\\r\\n8/23/2019\\r\\n8/23/2019\\r\\n8/23/2019\\r\\n8/23/2019\\r\\n8/24/2019\\r\\n8/24/2019\\r\\n8/24/2019\\r\\n8/24/2019\\r\\n8/24/2019\\r\\n8/24/2019\\r\\n8/24/2019\\r\\n8/24/2019\\r\\n8/24/2019\\r\\n8/24/2019\\r\\n8/24/2019\\r\\n8/24/2019\\r\\n8/24/2019\\r\\n8/24/2019\\r\\n8/24/2019\\r\\n8/24/2019\\r\\n8/24/2019\\r\\n8/24/2019\\r\\n8/24/2019\\r\\n8/24/2019\\r\\n8/24/2019\\r\\n8/24/2019\\r\\n8/24/2019\\r\\n8/24/2019\\r\\n8/24/2019\\r\\n8/24/2019\\r\\n8/24/2019\\r\\n8/24/2019\\r\\n8/24/2019\\r\\n8/24/2019\\r\\n8/24/2019\\r\\n8/24/2019\\r\\n8/26/2019\\r\\n8/26/2019\\r\\n8/26/2019\\r\\n8/26/2019\\r\\n8/26/2019\\r\\n8/26/2019\\r\\n8/26/2019\\r\\n8/26/2019\\r\\n8/26/2019\\r\\n8/26/2019\\r\\n8/26/2019\\r\\n8/26/2019\\r\\n8/26/2019\\r\\n8/26/2019\\r\\n8/26/2019\\r\\n8/26/2019\\r\\n8/26/2019\\r\\n8/26/2019\\r\\n8/26/2019\\r\\n8/26/2019\\r\\n8/26/2019\\r\\n8/26/2019\\r\\n8/26/2019\\r\\n8/26/2019\\r\\n8/26/2019\\r\\n8/26/2019\\r\\n8/26/2019\\r\\n8/26/2019\\r\\n8/26/2019\\r\\n8/26/2019\\r\\n8/26/2019\\r\\n8/26/2019\\r\\n8/26/2019\\r\\n8/26/2019\\r\\n8/26/2019\\r\\n8/26/2019\\r\\n8/26/2019\\r\\n8/26/2019\\r\\n8/26/2019\\r\\n8/26/2019\\r\\n8/26/2019\\r\\n8/26/2019\\r\\n8/26/2019\\r\\n8/26/2019\\r\\n8/26/2019\\r\\n8/26/2019\\r\\n8/26/2019\\r\\n8/26/2019\\r\\n8/26/2019\\r\\n8/26/2019\\r\\n8/26/2019\\r\\n8/26/2019\\r\\n8/26/2019\\r\\n8/26/2019\\r\\n8/26/2019\\r\\n8/26/2019\\r\\n8/26/2019\\r\\n8/26/2019\\r\\n8/26/2019\\r\\n8/27/2019\\r\\n8/27/2019\\r\\n8/27/2019\\r\\n8/27/2019\\r\\n8/27/2019\\r\\n8/27/2019\\r\\n8/27/2019\\r\\n8/27/2019\\r\\n8/27/2019\\r\\n8/27/2019\\r\\n8/27/2019\\r\\n8/27/2019\\r\\n8/27/2019\\r\\n8/27/2019\\r\\n8/27/2019\\r\\n8/27/2019\\r\\n8/27/2019\\r\\n8/27/2019\\r\\n8/27/2019\\r\\n8/27/2019\\r\\n8/27/2019\\r\\n8/27/2019\\r\\n8/27/2019\\r\\n8/27/2019\\r\\n8/27/2019\\r\\n8/27/2019\\r\\n8/27/2019\\r\\n8/27/2019\\r\\n8/27/2019\\r\\n8/27/2019\\r\\n8/27/2019\\r\\n8/27/2019\\r\\n8/27/2019\\r\\n8/27/2019\\r\\n8/27/2019\\r\\n8/27/2019\\r\\n8/27/2019\\r\\n8/27/2019\\r\\n8/27/2019\\r\\n8/27/2019\\r\\n8/27/2019\\r\\n8/27/2019\\r\\n8/27/2019\\r\\n8/27/2019\\r\\n8/27/2019\\r\\n8/27/2019\\r\\n8/27/2019\\r\\n8/27/2019\\r\\n8/27/2019\\r\\n8/27/2019\\r\\n8/27/2019\\r\\n8/27/2019\\r\\n8/27/2019\\r\\n8/27/2019\\r\\n8/28/2019\\r\\n8/28/2019\\r\\n8/28/2019\\r\\n8/28/2019\\r\\n8/28/2019\\r\\n8/28/2019\\r\\n8/28/2019\\r\\n8/28/2019\\r\\n8/28/2019\\r\\n8/28/2019\\r\\n8/28/2019\\r\\n8/28/2019\\r\\n8/28/2019\\r\\n8/28/2019\\r\\n8/28/2019\\r\\n8/28/2019\\r\\n8/28/2019\\r\\n8/28/2019\\r\\n8/28/2019\\r\\n8/28/2019\\r\\n8/28/2019\\r\\n8/28/2019\\r\\n8/28/2019\\r\\n8/28/2019\\r\\n8/28/2019\\r\\n8/28/2019\\r\\n8/28/2019\\r\\n8/28/2019\\r\\n8/28/2019\\r\\n8/28/2019\\r\\n8/28/2019\\r\\n8/28/2019\\r\\n8/28/2019\\r\\n8/28/2019\\r\\n8/28/2019\\r\\n8/28/2019\\r\\n8/28/2019\\r\\n8/28/2019\\r\\n8/28/2019\\r\\n8/28/2019\\r\\n8/28/2019\\r\\n8/28/2019\\r\\n8/28/2019\\r\\n8/28/2019\\r\\n8/28/2019\\r\\n8/28/2019\\r\\n8/28/2019\\r\\n8/28/2019\\r\\n8/28/2019\\r\\n8/28/2019\\r\\n8/29/2019\\r\\n8/29/2019\\r\\n8/29/2019\\r\\n8/29/2019\\r\\n8/29/2019\\r\\n8/29/2019\\r\\n8/29/2019\\r\\n8/29/2019\\r\\n8/29/2019\\r\\n8/29/2019\\r\\n8/29/2019\\r\\n8/29/2019\\r\\n8/29/2019\\r\\n8/29/2019\\r\\n8/29/2019\\r\\n8/29/2019\\r\\n8/29/2019\\r\\n8/29/2019\\r\\n8/29/2019\\r\\n8/29/2019\\r\\n8/29/2019\\r\\n8/29/2019\\r\\n8/29/2019\\r\\n8/29/2019\\r\\n8/29/2019\\r\\n8/29/2019\\r\\n8/29/2019\\r\\n8/29/2019\\r\\n8/29/2019\\r\\n8/29/2019\\r\\n8/29/2019\\r\\n8/29/2019\\r\\n8/29/2019\\r\\n8/29/2019\\r\\n8/29/2019\\r\\n8/29/2019\\r\\n8/29/2019\\r\\n8/29/2019\\r\\n8/29/2019\\r\\n8/29/2019\\r\\n8/29/2019\\r\\n8/29/2019\\r\\n8/29/2019\\r\\n8/29/2019\\r\\n8/29/2019\\r\\n8/29/2019\\r\\n8/29/2019\\r\\n8/29/2019\\r\\n8/29/2019\\r\\n8/29/2019\\r\\n8/29/2019\\r\\n8/29/2019\\r\\n8/29/2019\\r\\n8/29/2019\\r\\n8/29/2019\\r\\n8/29/2019\\r\\n8/29/2019\\r\\n8/29/2019\\r\\n8/29/2019\\r\\n8/29/2019\\r\\n8/30/2019\\r\\n8/30/2019\\r\\n8/30/2019\\r\\n8/30/2019\\r\\n8/30/2019\\r\\n8/30/2019\\r\\n8/30/2019\\r\\n8/30/2019\\r\\n8/30/2019\\r\\n8/30/2019\\r\\n8/30/2019\\r\\n8/30/2019\\r\\n8/30/2019\\r\\n8/30/2019\\r\\n8/30/2019\\r\\n8/30/2019\\r\\n8/30/2019\\r\\n8/30/2019\\r\\n8/30/2019\\r\\n8/30/2019\\r\\n8/30/2019\\r\\n8/30/2019\\r\\n8/30/2019\\r\\n8/30/2019\\r\\n8/30/2019\\r\\n8/30/2019\\r\\n8/30/2019\\r\\n8/30/2019\\r\\n8/30/2019\\r\\n8/30/2019\\r\\n8/30/2019\\r\\n8/30/2019\\r\\n8/30/2019\\r\\n8/30/2019\\r\\n8/30/2019\\r\\n8/30/2019\\r\\n8/30/2019\\r\\n8/30/2019\\r\\n8/30/2019\\r\\n8/30/2019\\r\\n8/30/2019\\r\\n8/31/2019\\r\\n8/31/2019\\r\\n8/31/2019\\r\\n8/31/2019\\r\\n8/31/2019\\r\\n8/31/2019\\r\\n8/31/2019\\r\\n8/31/2019\\r\\n8/31/2019\\r\\n8/31/2019\\r\\n8/31/2019\\r\\n8/31/2019\\r\\n8/31/2019\\r\\n8/31/2019\\r\\n8/31/2019\\r\\n8/31/2019\\r\\n8/31/2019\\r\\n8/31/2019\\r\\n8/31/2019\\r\\n8/31/2019\\r\\n8/31/2019\\r\\n8/31/2019\\r\\n8/31/2019\\r\\n8/31/2019\\r\\n8/31/2019\\r\\n8/31/2019\\r\\n8/31/2019\\r\\n9/2/2019\\r\\n9/2/2019\\r\\n9/2/2019\\r\\n9/2/2019\\r\\n9/2/2019\\r\\n9/2/2019\\r\\n9/2/2019\\r\\n9/2/2019\\r\\n9/2/2019\\r\\n9/2/2019\\r\\n9/2/2019\\r\\n9/2/2019\\r\\n9/2/2019\\r\\n9/2/2019\\r\\n9/2/2019\\r\\n9/2/2019\\r\\n9/2/2019\\r\\n9/2/2019\\r\\n9/2/2019\\r\\n9/2/2019\\r\\n9/2/2019\\r\\n9/2/2019\\r\\n9/2/2019\\r\\n9/2/2019\\r\\n9/2/2019\\r\\n9/2/2019\\r\\n9/2/2019\\r\\n9/2/2019\\r\\n9/2/2019\\r\\n9/2/2019\\r\\n9/2/2019\\r\\n9/2/2019\\r\\n9/2/2019\\r\\n9/2/2019\\r\\n9/2/2019\\r\\n9/2/2019\\r\\n9/2/2019\\r\\n9/2/2019\\r\\n9/2/2019\\r\\n9/2/2019\\r\\n9/2/2019\\r\\n9/2/2019\\r\\n9/2/2019\\r\\n9/2/2019\\r\\n9/2/2019\\r\\n9/2/2019\\r\\n9/2/2019\\r\\n9/2/2019\\r\\n9/2/2019\\r\\n9/2/2019\\r\\n9/2/2019\\r\\n9/2/2019\\r\\n9/3/2019\\r\\n9/3/2019\\r\\n9/3/2019\\r\\n9/3/2019\\r\\n9/3/2019\\r\\n9/3/2019\\r\\n9/3/2019\\r\\n9/3/2019\\r\\n9/3/2019\\r\\n9/3/2019\\r\\n9/3/2019\\r\\n9/3/2019\\r\\n9/3/2019\\r\\n9/3/2019\\r\\n9/3/2019\\r\\n9/3/2019\\r\\n9/3/2019\\r\\n9/3/2019\\r\\n9/3/2019\\r\\n9/3/2019\\r\\n9/3/2019\\r\\n9/3/2019\\r\\n9/3/2019\\r\\n9/3/2019\\r\\n9/3/2019\\r\\n9/3/2019\\r\\n9/3/2019\\r\\n9/3/2019\\r\\n9/3/2019\\r\\n9/3/2019\\r\\n9/3/2019\\r\\n9/3/2019\\r\\n9/3/2019\\r\\n9/3/2019\\r\\n9/3/2019\\r\\n9/3/2019\\r\\n9/3/2019\\r\\n9/3/2019\\r\\n9/3/2019\\r\\n9/3/2019\\r\\n9/3/2019\\r\\n9/3/2019\\r\\n9/3/2019\\r\\n9/3/2019\\r\\n9/3/2019\\r\\n9/3/2019\\r\\n9/3/2019\\r\\n9/3/2019\\r\\n9/3/2019\\r\\n9/4/2019\\r\\n9/4/2019\\r\\n9/4/2019\\r\\n9/4/2019\\r\\n9/4/2019\\r\\n9/4/2019\\r\\n9/4/2019\\r\\n9/4/2019\\r\\n9/4/2019\\r\\n9/4/2019\\r\\n9/4/2019\\r\\n9/4/2019\\r\\n9/4/2019\\r\\n9/4/2019\\r\\n9/4/2019\\r\\n9/4/2019\\r\\n9/4/2019\\r\\n9/4/2019\\r\\n9/4/2019\\r\\n9/4/2019\\r\\n9/4/2019\\r\\n9/4/2019\\r\\n9/4/2019\\r\\n9/4/2019\\r\\n9/4/2019\\r\\n9/4/2019\\r\\n9/4/2019\\r\\n9/4/2019\\r\\n9/4/2019\\r\\n9/4/2019\\r\\n9/4/2019\\r\\n9/4/2019\\r\\n9/4/2019\\r\\n9/4/2019\\r\\n9/4/2019\\r\\n9/4/2019\\r\\n9/4/2019\\r\\n9/4/2019\\r\\n9/5/2019\\r\\n9/5/2019\\r\\n9/5/2019\\r\\n9/5/2019\\r\\n9/5/2019\\r\\n9/5/2019\\r\\n9/5/2019\\r\\n9/5/2019\\r\\n9/5/2019\\r\\n9/5/2019\\r\\n9/5/2019\\r\\n9/5/2019\\r\\n9/5/2019\\r\\n9/5/2019\\r\\n9/5/2019\\r\\n9/5/2019\\r\\n9/5/2019\\r\\n9/5/2019\\r\\n9/5/2019\\r\\n9/5/2019\\r\\n9/5/2019\\r\\n9/5/2019\\r\\n9/5/2019\\r\\n9/5/2019\\r\\n9/5/2019\\r\\n9/5/2019\\r\\n9/5/2019\\r\\n9/5/2019\\r\\n9/5/2019\\r\\n9/5/2019\\r\\n9/5/2019\\r\\n9/5/2019\\r\\n9/5/2019\\r\\n9/5/2019\\r\\n9/5/2019\\r\\n9/5/2019\\r\\n9/5/2019\\r\\n9/5/2019\\r\\n9/5/2019\\r\\n9/5/2019\\r\\n9/5/2019\\r\\n9/5/2019\\r\\n9/5/2019\\r\\n9/5/2019\\r\\n9/5/2019\\r\\n9/5/2019\\r\\n9/5/2019\\r\\n9/5/2019\\r\\n9/6/2019\\r\\n9/6/2019\\r\\n9/6/2019\\r\\n9/6/2019\\r\\n9/6/2019\\r\\n9/6/2019\\r\\n9/6/2019\\r\\n9/6/2019\\r\\n9/6/2019\\r\\n9/6/2019\\r\\n9/6/2019\\r\\n9/6/2019\\r\\n9/6/2019\\r\\n9/6/2019\\r\\n9/6/2019\\r\\n9/6/2019\\r\\n9/6/2019\\r\\n9/6/2019\\r\\n9/6/2019\\r\\n9/6/2019\\r\\n9/6/2019\\r\\n9/6/2019\\r\\n9/6/2019\\r\\n9/6/2019\\r\\n9/6/2019\\r\\n9/6/2019\\r\\n9/6/2019\\r\\n9/6/2019\\r\\n9/6/2019\\r\\n9/9/2019\\r\\n9/9/2019\\r\\n9/9/2019\\r\\n9/9/2019\\r\\n9/9/2019\\r\\n9/9/2019\\r\\n9/9/2019\\r\\n9/9/2019\\r\\n9/9/2019\\r\\n9/9/2019\\r\\n9/9/2019\\r\\n9/9/2019\\r\\n9/9/2019\\r\\n9/9/2019\\r\\n9/9/2019\\r\\n9/9/2019\\r\\n9/9/2019\\r\\n9/9/2019\\r\\n9/9/2019\\r\\n9/9/2019\\r\\n9/9/2019\\r\\n9/9/2019\\r\\n9/9/2019\\r\\n9/9/2019\\r\\n9/9/2019\\r\\n9/9/2019\\r\\n9/9/2019\\r\\n9/9/2019\\r\\n9/9/2019\\r\\n9/9/2019\\r\\n9/9/2019\\r\\n9/9/2019\\r\\n9/9/2019\\r\\n9/9/2019\\r\\n9/9/2019\\r\\n9/9/2019\\r\\n9/9/2019\\r\\n9/9/2019\\r\\n9/9/2019\\r\\n9/9/2019\\r\\n9/9/2019\\r\\n9/9/2019\\r\\n9/9/2019\\r\\n9/9/2019\\r\\n9/9/2019\\r\\n9/9/2019\\r\\n9/9/2019\\r\\n9/9/2019\\r\\n9/9/2019\\r\\n9/9/2019\\r\\n9/9/2019\\r\\n9/9/2019\\r\\n9/9/2019\\r\\n9/9/2019\\r\\n9/9/2019\\r\\n9/9/2019\\r\\n9/10/2019\\r\\n9/10/2019\\r\\n9/10/2019\\r\\n9/10/2019\\r\\n9/10/2019\\r\\n9/10/2019\\r\\n9/10/2019\\r\\n9/10/2019\\r\\n9/10/2019\\r\\n9/10/2019\\r\\n9/10/2019\\r\\n9/10/2019\\r\\n9/10/2019\\r\\n9/10/2019\\r\\n9/10/2019\\r\\n9/10/2019\\r\\n9/10/2019\\r\\n9/10/2019\\r\\n9/10/2019\\r\\n9/10/2019\\r\\n9/10/2019\\r\\n9/10/2019\\r\\n9/10/2019\\r\\n9/10/2019\\r\\n9/10/2019\\r\\n9/10/2019\\r\\n9/10/2019\\r\\n9/10/2019\\r\\n9/10/2019\\r\\n9/10/2019\\r\\n9/10/2019\\r\\n9/10/2019\\r\\n9/10/2019\\r\\n9/10/2019\\r\\n9/10/2019\\r\\n9/10/2019\\r\\n9/10/2019\\r\\n9/10/2019\\r\\n9/10/2019\\r\\n9/10/2019\\r\\n9/10/2019\\r\\n9/10/2019\\r\\n9/10/2019\\r\\n9/10/2019\\r\\n9/10/2019\\r\\n9/11/2019\\r\\n9/11/2019\\r\\n9/11/2019\\r\\n9/11/2019\\r\\n9/11/2019\\r\\n9/11/2019\\r\\n9/11/2019\\r\\n9/11/2019\\r\\n9/11/2019\\r\\n9/11/2019\\r\\n9/11/2019\\r\\n9/11/2019\\r\\n9/11/2019\\r\\n9/11/2019\\r\\n9/11/2019\\r\\n9/11/2019\\r\\n9/11/2019\\r\\n9/11/2019\\r\\n9/11/2019\\r\\n9/11/2019\\r\\n9/11/2019\\r\\n9/11/2019\\r\\n9/11/2019\\r\\n9/11/2019\\r\\n9/11/2019\\r\\n9/11/2019\\r\\n9/11/2019\\r\\n9/11/2019\\r\\n9/11/2019\\r\\n9/11/2019\\r\\n9/11/2019\\r\\n9/11/2019\\r\\n9/11/2019\\r\\n9/11/2019\\r\\n9/11/2019\\r\\n9/11/2019\\r\\n9/11/2019\\r\\n9/11/2019\\r\\n9/11/2019\\r\\n9/11/2019\\r\\n9/11/2019\\r\\n9/11/2019\\r\\n9/11/2019\\r\\n9/11/2019\\r\\n9/11/2019\\r\\n9/11/2019\\r\\n9/11/2019\\r\\n9/11/2019\\r\\n9/12/2019\\r\\n9/12/2019\\r\\n9/12/2019\\r\\n9/12/2019\\r\\n9/12/2019\\r\\n9/12/2019\\r\\n9/12/2019\\r\\n9/12/2019\\r\\n9/12/2019\\r\\n9/12/2019\\r\\n9/12/2019\\r\\n9/12/2019\\r\\n9/12/2019\\r\\n9/12/2019\\r\\n9/12/2019\\r\\n9/12/2019\\r\\n9/12/2019\\r\\n9/12/2019\\r\\n9/12/2019\\r\\n9/12/2019\\r\\n9/12/2019\\r\\n9/12/2019\\r\\n9/12/2019\\r\\n9/12/2019\\r\\n9/12/2019\\r\\n9/12/2019\\r\\n9/12/2019\\r\\n9/12/2019\\r\\n9/12/2019\\r\\n9/12/2019\\r\\n9/12/2019\\r\\n9/12/2019\\r\\n9/12/2019\\r\\n9/12/2019\\r\\n9/12/2019\\r\\n9/12/2019\\r\\n9/12/2019\\r\\n9/13/2019\\r\\n9/13/2019\\r\\n9/13/2019\\r\\n9/13/2019\\r\\n9/13/2019\\r\\n9/13/2019\\r\\n9/13/2019\\r\\n9/13/2019\\r\\n9/13/2019\\r\\n9/13/2019\\r\\n9/13/2019\\r\\n9/13/2019\\r\\n9/13/2019\\r\\n9/13/2019\\r\\n9/13/2019\\r\\n9/13/2019\\r\\n9/13/2019\\r\\n9/13/2019\\r\\n9/13/2019\\r\\n9/13/2019\\r\\n9/13/2019\\r\\n9/13/2019\\r\\n9/13/2019\\r\\n9/13/2019\\r\\n9/13/2019\\r\\n9/13/2019\\r\\n9/13/2019\\r\\n9/13/2019\\r\\n9/13/2019\\r\\n9/13/2019\\r\\n9/13/2019\\r\\n9/13/2019\\r\\n9/13/2019\\r\\n9/13/2019\\r\\n9/13/2019\\r\\n9/13/2019\\r\\n9/13/2019\\r\\n9/13/2019\\r\\n9/13/2019\\r\\n9/13/2019\\r\\n9/13/2019\\r\\n9/13/2019\\r\\n9/13/2019\\r\\n9/13/2019\\r\\n9/13/2019\\r\\n9/13/2019\\r\\n9/13/2019\\r\\n9/13/2019\\r\\n9/13/2019\\r\\n9/13/2019\\r\\n9/13/2019\\r\\n9/13/2019\\r\\n9/13/2019\\r\\n9/13/2019\\r\\n9/13/2019\\r\\n9/13/2019\\r\\n9/13/2019\\r\\n9/14/2019\\r\\n9/14/2019\\r\\n9/14/2019\\r\\n9/14/2019\\r\\n9/14/2019\\r\\n9/14/2019\\r\\n9/14/2019\\r\\n9/14/2019\\r\\n9/14/2019\\r\\n9/14/2019\\r\\n9/14/2019\\r\\n9/14/2019\\r\\n9/14/2019\\r\\n9/14/2019\\r\\n9/14/2019\\r\\n9/14/2019\\r\\n9/14/2019\\r\\n9/14/2019\\r\\n9/14/2019\\r\\n9/14/2019\\r\\n9/14/2019\\r\\n9/14/2019\\r\\n9/14/2019\\r\\n9/14/2019\\r\\n9/14/2019\\r\\n9/14/2019\\r\\n9/14/2019\\r\\n9/14/2019\\r\\n9/14/2019\\r\\n9/15/2019\\r\\n9/15/2019\\r\\n9/15/2019\\r\\n9/15/2019\\r\\n9/16/2019\\r\\n9/16/2019\\r\\n9/16/2019\\r\\n9/16/2019\\r\\n9/16/2019\\r\\n9/16/2019\\r\\n9/16/2019\\r\\n9/16/2019\\r\\n9/16/2019\\r\\n9/16/2019\\r\\n9/16/2019\\r\\n9/16/2019\\r\\n9/16/2019\\r\\n9/16/2019\\r\\n9/16/2019\\r\\n9/16/2019\\r\\n9/16/2019\\r\\n9/16/2019\\r\\n9/16/2019\\r\\n9/16/2019\\r\\n9/16/2019\\r\\n9/16/2019\\r\\n9/16/2019\\r\\n9/16/2019\\r\\n9/16/2019\\r\\n9/16/2019\\r\\n9/16/2019\\r\\n9/16/2019\\r\\n9/16/2019\\r\\n9/16/2019\\r\\n9/16/2019\\r\\n9/16/2019\\r\\n9/16/2019\\r\\n9/16/2019\\r\\n9/16/2019\\r\\n9/16/2019\\r\\n9/16/2019\\r\\n9/16/2019\\r\\n9/16/2019\\r\\n9/16/2019\\r\\n9/16/2019\\r\\n9/16/2019\\r\\n9/16/2019\\r\\n9/16/2019\\r\\n9/16/2019\\r\\n9/16/2019\\r\\n9/16/2019\\r\\n9/16/2019\\r\\n9/16/2019\\r\\n9/16/2019\\r\\n9/16/2019\\r\\n9/16/2019\\r\\n9/16/2019\\r\\n9/16/2019\\r\\n9/16/2019\\r\\n9/16/2019\\r\\n9/16/2019\\r\\n9/16/2019\\r\\n9/16/2019\\r\\n9/16/2019\\r\\n9/16/2019\\r\\n9/16/2019\\r\\n9/17/2019\\r\\n9/17/2019\\r\\n9/17/2019\\r\\n9/17/2019\\r\\n9/17/2019\\r\\n9/17/2019\\r\\n9/17/2019\\r\\n9/17/2019\\r\\n9/17/2019\\r\\n9/17/2019\\r\\n9/17/2019\\r\\n9/17/2019\\r\\n9/17/2019\\r\\n9/17/2019\\r\\n9/17/2019\\r\\n9/17/2019\\r\\n9/17/2019\\r\\n9/17/2019\\r\\n9/17/2019\\r\\n9/17/2019\\r\\n9/17/2019\\r\\n9/17/2019\\r\\n9/17/2019\\r\\n9/17/2019\\r\\n9/17/2019\\r\\n9/17/2019\\r\\n9/17/2019\\r\\n9/17/2019\\r\\n9/17/2019\\r\\n9/17/2019\\r\\n9/17/2019\\r\\n9/17/2019\\r\\n9/17/2019\\r\\n9/17/2019\\r\\n9/17/2019\\r\\n9/17/2019\\r\\n9/17/2019\\r\\n9/17/2019\\r\\n9/17/2019\\r\\n9/17/2019\\r\\n9/17/2019\\r\\n9/17/2019\\r\\n9/17/2019\\r\\n9/17/2019\\r\\n9/17/2019\\r\\n9/17/2019\\r\\n9/17/2019\\r\\n9/17/2019\\r\\n9/18/2019\\r\\n9/18/2019\\r\\n9/18/2019\\r\\n9/18/2019\\r\\n9/18/2019\\r\\n9/18/2019\\r\\n9/18/2019\\r\\n9/18/2019\\r\\n9/18/2019\\r\\n9/18/2019\\r\\n9/18/2019\\r\\n9/18/2019\\r\\n9/18/2019\\r\\n9/18/2019\\r\\n9/18/2019\\r\\n9/18/2019\\r\\n9/18/2019\\r\\n9/18/2019\\r\\n9/18/2019\\r\\n9/18/2019\\r\\n9/18/2019\\r\\n9/18/2019\\r\\n9/18/2019\\r\\n9/18/2019\\r\\n9/18/2019\\r\\n9/18/2019\\r\\n9/18/2019\\r\\n9/18/2019\\r\\n9/18/2019\\r\\n9/18/2019\\r\\n9/18/2019\\r\\n9/18/2019\\r\\n9/18/2019\\r\\n9/18/2019\\r\\n9/18/2019\\r\\n9/18/2019\\r\\n9/18/2019\\r\\n9/18/2019\\r\\n9/18/2019\\r\\n9/18/2019\\r\\n9/18/2019\\r\\n9/18/2019\\r\\n9/18/2019\\r\\n9/18/2019\\r\\n9/18/2019\\r\\n9/18/2019\\r\\n9/18/2019\\r\\n9/18/2019\\r\\n9/18/2019\\r\\n9/18/2019\\r\\n9/18/2019\\r\\n9/18/2019\\r\\n9/18/2019\\r\\n9/18/2019\\r\\n9/18/2019\\r\\n9/18/2019\\r\\n9/18/2019\\r\\n9/19/2019\\r\\n9/19/2019\\r\\n9/19/2019\\r\\n9/19/2019\\r\\n9/19/2019\\r\\n9/19/2019\\r\\n9/19/2019\\r\\n9/19/2019\\r\\n9/19/2019\\r\\n9/19/2019\\r\\n9/19/2019\\r\\n9/19/2019\\r\\n9/19/2019\\r\\n9/19/2019\\r\\n9/19/2019\\r\\n9/19/2019\\r\\n9/19/2019\\r\\n9/19/2019\\r\\n9/19/2019\\r\\n9/19/2019\\r\\n9/19/2019\\r\\n9/19/2019\\r\\n9/19/2019\\r\\n9/19/2019\\r\\n9/19/2019\\r\\n9/19/2019\\r\\n9/19/2019\\r\\n9/19/2019\\r\\n9/19/2019\\r\\n9/19/2019\\r\\n9/19/2019\\r\\n9/19/2019\\r\\n9/19/2019\\r\\n9/19/2019\\r\\n9/19/2019\\r\\n9/19/2019\\r\\n9/19/2019\\r\\n9/19/2019\\r\\n9/19/2019\\r\\n9/19/2019\\r\\n9/19/2019\\r\\n9/19/2019\\r\\n9/19/2019\\r\\n9/19/2019\\r\\n9/19/2019\\r\\n9/19/2019\\r\\n9/19/2019\\r\\n9/19/2019\\r\\n9/19/2019\\r\\n9/19/2019\\r\\n9/19/2019\\r\\n9/19/2019\\r\\n9/19/2019\\r\\n9/19/2019\\r\\n9/19/2019\\r\\n9/20/2019\\r\\n9/20/2019\\r\\n9/20/2019\\r\\n9/20/2019\\r\\n9/20/2019\\r\\n9/20/2019\\r\\n9/20/2019\\r\\n9/20/2019\\r\\n9/20/2019\\r\\n9/20/2019\\r\\n9/20/2019\\r\\n9/20/2019\\r\\n9/20/2019\\r\\n9/20/2019\\r\\n9/20/2019\\r\\n9/20/2019\\r\\n9/20/2019\\r\\n9/20/2019\\r\\n9/20/2019\\r\\n9/20/2019\\r\\n9/20/2019\\r\\n9/20/2019\\r\\n9/20/2019\\r\\n9/20/2019\\r\\n9/20/2019\\r\\n9/20/2019\\r\\n9/20/2019\\r\\n9/20/2019\\r\\n9/20/2019\\r\\n9/20/2019\\r\\n9/20/2019\\r\\n9/20/2019\\r\\n9/20/2019\\r\\n9/20/2019\\r\\n9/20/2019\\r\\n9/20/2019\\r\\n9/20/2019\\r\\n9/20/2019\\r\\n9/20/2019\\r\\n9/20/2019\\r\\n9/20/2019\\r\\n9/20/2019\\r\\n9/21/2019\\r\\n9/21/2019\\r\\n9/21/2019\\r\\n9/21/2019\\r\\n9/21/2019\\r\\n9/21/2019\\r\\n9/21/2019\\r\\n9/21/2019\\r\\n9/21/2019\\r\\n9/21/2019\\r\\n9/21/2019\\r\\n9/21/2019\\r\\n9/21/2019\\r\\n9/21/2019\\r\\n9/21/2019\\r\\n9/21/2019\\r\\n9/21/2019\\r\\n9/21/2019\\r\\n9/21/2019\\r\\n9/21/2019\\r\\n9/21/2019\\r\\n9/21/2019\\r\\n9/21/2019\\r\\n9/22/2019\\r\\n9/23/2019\\r\\n9/23/2019\\r\\n9/23/2019\\r\\n9/23/2019\\r\\n9/23/2019\\r\\n9/23/2019\\r\\n9/23/2019\\r\\n9/23/2019\\r\\n9/23/2019\\r\\n9/23/2019\\r\\n9/23/2019\\r\\n9/23/2019\\r\\n9/23/2019\\r\\n9/23/2019\\r\\n9/23/2019\\r\\n9/23/2019\\r\\n9/23/2019\\r\\n9/23/2019\\r\\n9/23/2019\\r\\n9/23/2019\\r\\n9/23/2019\\r\\n9/23/2019\\r\\n9/23/2019\\r\\n9/23/2019\\r\\n9/23/2019\\r\\n9/23/2019\\r\\n9/23/2019\\r\\n9/23/2019\\r\\n9/23/2019\\r\\n9/23/2019\\r\\n9/23/2019\\r\\n9/23/2019\\r\\n9/23/2019\\r\\n9/23/2019\\r\\n9/23/2019\\r\\n9/23/2019\\r\\n9/23/2019\\r\\n9/23/2019\\r\\n9/23/2019\\r\\n9/23/2019\\r\\n9/23/2019\\r\\n9/23/2019\\r\\n9/23/2019\\r\\n9/23/2019\\r\\n9/23/2019\\r\\n9/23/2019\\r\\n9/23/2019\\r\\n9/23/2019\\r\\n9/23/2019\\r\\n9/23/2019\\r\\n9/23/2019\\r\\n9/23/2019\\r\\n9/23/2019\\r\\n9/23/2019\\r\\n9/23/2019\\r\\n9/23/2019\\r\\n9/23/2019\\r\\n9/23/2019\\r\\n9/24/2019\\r\\n9/24/2019\\r\\n9/24/2019\\r\\n9/24/2019\\r\\n9/24/2019\\r\\n9/24/2019\\r\\n9/24/2019\\r\\n9/24/2019\\r\\n9/24/2019\\r\\n9/24/2019\\r\\n9/24/2019\\r\\n9/24/2019\\r\\n9/24/2019\\r\\n9/24/2019\\r\\n9/24/2019\\r\\n9/24/2019\\r\\n9/24/2019\\r\\n9/24/2019\\r\\n9/24/2019\\r\\n9/24/2019\\r\\n9/24/2019\\r\\n9/24/2019\\r\\n9/24/2019\\r\\n9/24/2019\\r\\n9/24/2019\\r\\n9/24/2019\\r\\n9/24/2019\\r\\n9/24/2019\\r\\n9/24/2019\\r\\n9/24/2019\\r\\n9/24/2019\\r\\n9/24/2019\\r\\n9/24/2019\\r\\n9/24/2019\\r\\n9/24/2019\\r\\n9/24/2019\\r\\n9/24/2019\\r\\n9/24/2019\\r\\n9/24/2019\\r\\n9/24/2019\\r\\n9/24/2019\\r\\n9/24/2019\\r\\n9/24/2019\\r\\n9/24/2019\\r\\n9/24/2019\\r\\n9/24/2019\\r\\n9/24/2019\\r\\n9/24/2019\\r\\n9/24/2019\\r\\n9/24/2019\\r\\n9/24/2019\\r\\n9/24/2019\\r\\n9/24/2019\\r\\n9/24/2019\\r\\n9/24/2019\\r\\n9/24/2019\\r\\n9/24/2019\\r\\n9/24/2019\\r\\n9/24/2019\\r\\n9/24/2019\\r\\n9/24/2019\\r\\n9/25/2019\\r\\n9/25/2019\\r\\n9/25/2019\\r\\n9/25/2019\\r\\n9/25/2019\\r\\n9/25/2019\\r\\n9/25/2019\\r\\n9/25/2019\\r\\n9/25/2019\\r\\n9/25/2019\\r\\n9/25/2019\\r\\n9/25/2019\\r\\n9/25/2019\\r\\n9/25/2019\\r\\n9/25/2019\\r\\n9/25/2019\\r\\n9/25/2019\\r\\n9/25/2019\\r\\n9/25/2019\\r\\n9/25/2019\\r\\n9/25/2019\\r\\n9/25/2019\\r\\n9/25/2019\\r\\n9/25/2019\\r\\n9/25/2019\\r\\n9/25/2019\\r\\n9/25/2019\\r\\n9/25/2019\\r\\n9/25/2019\\r\\n9/25/2019\\r\\n9/25/2019\\r\\n9/25/2019\\r\\n9/25/2019\\r\\n9/25/2019\\r\\n9/25/2019\\r\\n9/25/2019\\r\\n9/25/2019\\r\\n9/25/2019\\r\\n9/25/2019\\r\\n9/25/2019\\r\\n9/25/2019\\r\\n9/25/2019\\r\\n9/25/2019\\r\\n9/25/2019\\r\\n9/25/2019\\r\\n9/25/2019\\r\\n9/25/2019\\r\\n9/25/2019\\r\\n9/25/2019\\r\\n9/25/2019\\r\\n9/25/2019\\r\\n9/25/2019\\r\\n9/26/2019\\r\\n9/26/2019\\r\\n9/26/2019\\r\\n9/26/2019\\r\\n9/26/2019\\r\\n9/26/2019\\r\\n9/26/2019\\r\\n9/26/2019\\r\\n9/26/2019\\r\\n9/26/2019\\r\\n9/26/2019\\r\\n9/26/2019\\r\\n9/26/2019\\r\\n9/26/2019\\r\\n9/26/2019\\r\\n9/26/2019\\r\\n9/26/2019\\r\\n9/26/2019\\r\\n9/26/2019\\r\\n9/26/2019\\r\\n9/26/2019\\r\\n9/26/2019\\r\\n9/26/2019\\r\\n9/26/2019\\r\\n9/26/2019\\r\\n9/26/2019\\r\\n9/26/2019\\r\\n9/26/2019\\r\\n9/26/2019\\r\\n9/26/2019\\r\\n9/26/2019\\r\\n9/26/2019\\r\\n9/26/2019\\r\\n9/26/2019\\r\\n9/26/2019\\r\\n9/26/2019\\r\\n9/26/2019\\r\\n9/26/2019\\r\\n9/26/2019\\r\\n9/26/2019\\r\\n9/26/2019\\r\\n9/26/2019\\r\\n9/26/2019\\r\\n9/26/2019\\r\\n9/26/2019\\r\\n9/26/2019\\r\\n9/26/2019\\r\\n9/26/2019\\r\\n9/26/2019\\r\\n9/26/2019\\r\\n9/26/2019\\r\\n9/26/2019\\r\\n9/26/2019\\r\\n9/26/2019\\r\\n9/26/2019\\r\\n9/27/2019\\r\\n9/27/2019\\r\\n9/27/2019\\r\\n9/27/2019\\r\\n9/27/2019\\r\\n9/27/2019\\r\\n9/27/2019\\r\\n9/27/2019\\r\\n9/27/2019\\r\\n9/27/2019\\r\\n9/27/2019\\r\\n9/27/2019\\r\\n9/27/2019\\r\\n9/27/2019\\r\\n9/27/2019\\r\\n9/27/2019\\r\\n9/27/2019\\r\\n9/27/2019\\r\\n9/27/2019\\r\\n9/27/2019\\r\\n9/27/2019\\r\\n9/27/2019\\r\\n9/27/2019\\r\\n9/27/2019\\r\\n9/27/2019\\r\\n9/27/2019\\r\\n9/27/2019\\r\\n9/27/2019\\r\\n9/27/2019\\r\\n9/27/2019\\r\\n9/27/2019\\r\\n9/27/2019\\r\\n9/27/2019\\r\\n9/27/2019\\r\\n9/27/2019\\r\\n9/27/2019\\r\\n9/27/2019\\r\\n9/27/2019\\r\\n9/27/2019\\r\\n9/27/2019\\r\\n9/27/2019\\r\\n9/27/2019\\r\\n9/27/2019\\r\\n9/27/2019\\r\\n9/27/2019\\r\\n9/27/2019\\r\\n9/27/2019\\r\\n9/27/2019\\r\\n9/27/2019\\r\\n9/27/2019\\r\\n9/27/2019\\r\\n9/27/2019\\r\\n9/27/2019\\r\\n9/27/2019\\r\\n9/27/2019\\r\\n9/27/2019\\r\\n9/28/2019\\r\\n9/28/2019\\r\\n9/28/2019\\r\\n9/28/2019\\r\\n9/28/2019\\r\\n9/28/2019\\r\\n9/28/2019\\r\\n9/28/2019\\r\\n9/28/2019\\r\\n9/28/2019\\r\\n9/28/2019\\r\\n9/28/2019\\r\\n9/28/2019\\r\\n9/28/2019\\r\\n9/28/2019\\r\\n9/28/2019\\r\\n9/28/2019\\r\\n9/28/2019\\r\\n9/28/2019\\r\\n9/28/2019\\r\\n9/28/2019\\r\\n9/28/2019\\r\\n9/28/2019\\r\\n9/28/2019\\r\\n9/30/2019\\r\\n9/30/2019\\r\\n9/30/2019\\r\\n9/30/2019\\r\\n9/30/2019\\r\\n9/30/2019\\r\\n9/30/2019\\r\\n9/30/2019\\r\\n9/30/2019\\r\\n9/30/2019\\r\\n9/30/2019\\r\\n9/30/2019\\r\\n9/30/2019\\r\\n9/30/2019\\r\\n9/30/2019\\r\\n9/30/2019\\r\\n9/30/2019\\r\\n9/30/2019\\r\\n9/30/2019\\r\\n9/30/2019\\r\\n9/30/2019\\r\\n9/30/2019\\r\\n9/30/2019\\r\\n9/30/2019\\r\\n9/30/2019\\r\\n9/30/2019\\r\\n9/30/2019\\r\\n9/30/2019\\r\\n9/30/2019\\r\\n9/30/2019\\r\\n9/30/2019\\r\\n9/30/2019\\r\\n9/30/2019\\r\\n9/30/2019\\r\\n9/30/2019\\r\\n9/30/2019\\r\\n9/30/2019\\r\\n9/30/2019\\r\\n9/30/2019\\r\\n9/30/2019\\r\\n9/30/2019\\r\\n9/30/2019\\r\\n9/30/2019\\r\\n9/30/2019\\r\\n9/30/2019\\r\\n9/30/2019\\r\\n9/30/2019\\r\\n9/30/2019\\r\\n9/30/2019\\r\\n9/30/2019\\r\\n10/1/2019\\r\\n10/1/2019\\r\\n10/1/2019\\r\\n10/1/2019\\r\\n10/1/2019\\r\\n10/1/2019\\r\\n10/1/2019\\r\\n10/1/2019\\r\\n10/1/2019\\r\\n10/1/2019\\r\\n10/1/2019\\r\\n10/1/2019\\r\\n10/1/2019\\r\\n10/1/2019\\r\\n10/1/2019\\r\\n10/1/2019\\r\\n10/1/2019\\r\\n10/1/2019\\r\\n10/1/2019\\r\\n10/1/2019\\r\\n10/1/2019\\r\\n10/1/2019\\r\\n10/1/2019\\r\\n10/1/2019\\r\\n10/1/2019\\r\\n10/1/2019\\r\\n10/1/2019\\r\\n10/1/2019\\r\\n10/1/2019\\r\\n10/1/2019\\r\\n10/1/2019\\r\\n10/1/2019\\r\\n10/1/2019\\r\\n10/1/2019\\r\\n10/1/2019\\r\\n10/1/2019\\r\\n10/1/2019\\r\\n10/1/2019\\r\\n10/1/2019\\r\\n10/1/2019\\r\\n10/1/2019\\r\\n10/1/2019\\r\\n10/1/2019\\r\\n10/1/2019\\r\\n10/1/2019\\r\\n10/1/2019\\r\\n10/1/2019\\r\\n10/1/2019\\r\\n10/1/2019\\r\\n10/1/2019\\r\\n10/1/2019\\r\\n10/1/2019\\r\\n10/1/2019\\r\\n10/1/2019\\r\\n10/1/2019\\r\\n10/1/2019\\r\\n10/1/2019\\r\\n10/2/2019\\r\\n10/2/2019\\r\\n10/2/2019\\r\\n10/2/2019\\r\\n10/2/2019\\r\\n10/2/2019\\r\\n10/2/2019\\r\\n10/2/2019\\r\\n10/2/2019\\r\\n10/2/2019\\r\\n10/2/2019\\r\\n10/2/2019\\r\\n10/2/2019\\r\\n10/2/2019\\r\\n10/2/2019\\r\\n10/2/2019\\r\\n10/2/2019\\r\\n10/2/2019\\r\\n10/2/2019\\r\\n10/2/2019\\r\\n10/2/2019\\r\\n10/2/2019\\r\\n10/2/2019\\r\\n10/2/2019\\r\\n10/2/2019\\r\\n10/2/2019\\r\\n10/2/2019\\r\\n10/2/2019\\r\\n10/2/2019\\r\\n10/2/2019\\r\\n10/2/2019\\r\\n10/2/2019\\r\\n10/2/2019\\r\\n10/2/2019\\r\\n10/2/2019\\r\\n10/2/2019\\r\\n10/2/2019\\r\\n10/2/2019\\r\\n10/2/2019\\r\\n10/2/2019\\r\\n10/2/2019\\r\\n10/2/2019\\r\\n10/2/2019\\r\\n10/2/2019\\r\\n10/2/2019\\r\\n10/2/2019\\r\\n10/2/2019\\r\\n10/2/2019\\r\\n10/2/2019\\r\\n10/2/2019\\r\\n10/2/2019\\r\\n10/3/2019\\r\\n10/3/2019\\r\\n10/3/2019\\r\\n10/3/2019\\r\\n10/3/2019\\r\\n10/3/2019\\r\\n10/3/2019\\r\\n10/3/2019\\r\\n10/3/2019\\r\\n10/3/2019\\r\\n10/3/2019\\r\\n10/3/2019\\r\\n10/3/2019\\r\\n10/3/2019\\r\\n10/3/2019\\r\\n10/3/2019\\r\\n10/3/2019\\r\\n10/3/2019\\r\\n10/3/2019\\r\\n10/3/2019\\r\\n10/3/2019\\r\\n10/3/2019\\r\\n10/3/2019\\r\\n10/3/2019\\r\\n10/3/2019\\r\\n10/3/2019\\r\\n10/3/2019\\r\\n10/3/2019\\r\\n10/3/2019\\r\\n10/3/2019\\r\\n10/3/2019\\r\\n10/3/2019\\r\\n10/3/2019\\r\\n10/3/2019\\r\\n10/3/2019\\r\\n10/3/2019\\r\\n10/3/2019\\r\\n10/3/2019\\r\\n10/3/2019\\r\\n10/3/2019\\r\\n10/3/2019\\r\\n10/3/2019\\r\\n10/3/2019\\r\\n10/3/2019\\r\\n10/3/2019\\r\\n10/3/2019\\r\\n10/3/2019\\r\\n10/3/2019\\r\\n10/3/2019\\r\\n10/3/2019\\r\\n10/3/2019\\r\\n10/3/2019\\r\\n10/3/2019\\r\\n10/3/2019\\r\\n10/3/2019\\r\\n10/3/2019\\r\\n10/4/2019\\r\\n10/4/2019\\r\\n10/4/2019\\r\\n10/4/2019\\r\\n10/4/2019\\r\\n10/4/2019\\r\\n10/4/2019\\r\\n10/4/2019\\r\\n10/4/2019\\r\\n10/4/2019\\r\\n10/4/2019\\r\\n10/4/2019\\r\\n10/4/2019\\r\\n10/4/2019\\r\\n10/4/2019\\r\\n10/4/2019\\r\\n10/4/2019\\r\\n10/4/2019\\r\\n10/4/2019\\r\\n10/4/2019\\r\\n10/4/2019\\r\\n10/4/2019\\r\\n10/4/2019\\r\\n10/4/2019\\r\\n10/4/2019\\r\\n10/4/2019\\r\\n10/4/2019\\r\\n10/4/2019\\r\\n10/4/2019\\r\\n10/4/2019\\r\\n10/4/2019\\r\\n10/4/2019\\r\\n10/4/2019\\r\\n10/4/2019\\r\\n10/4/2019\\r\\n10/4/2019\\r\\n10/4/2019\\r\\n10/4/2019\\r\\n10/4/2019\\r\\n10/4/2019\\r\\n10/4/2019\\r\\n10/4/2019\\r\\n10/4/2019\\r\\n10/4/2019\\r\\n10/4/2019\\r\\n10/4/2019\\r\\n10/4/2019\\r\\n10/4/2019\\r\\n10/4/2019\\r\\n10/4/2019\\r\\n10/4/2019\\r\\n10/4/2019\\r\\n10/4/2019\\r\\n10/4/2019\\r\\n10/4/2019\\r\\n10/4/2019\\r\\n10/4/2019\\r\\n10/4/2019\\r\\n10/4/2019\\r\\n10/5/2019\\r\\n10/5/2019\\r\\n10/5/2019\\r\\n10/5/2019\\r\\n10/5/2019\\r\\n10/5/2019\\r\\n10/5/2019\\r\\n10/5/2019\\r\\n10/5/2019\\r\\n10/5/2019\\r\\n10/5/2019\\r\\n10/5/2019\\r\\n10/5/2019\\r\\n10/5/2019\\r\\n10/5/2019\\r\\n10/5/2019\\r\\n10/5/2019\\r\\n10/5/2019\\r\\n10/5/2019\\r\\n10/5/2019\\r\\n10/5/2019\\r\\n10/5/2019\\r\\n10/5/2019\\r\\n10/5/2019\\r\\n10/5/2019\\r\\n10/5/2019\\r\\n10/5/2019\\r\\n10/5/2019\\r\\n10/5/2019\\r\\n6/3/2019\\r\\n6/28/2019\\r\\n6/30/2019\\r\\n7/1/2019\\r\\n7/3/2019\\r\\n7/8/2019\\r\\n8/28/2019\\r\\n5/10/2019\\r\\n5/14/2019\\r\\n5/16/2019\\r\\n5/16/2019\\r\\n5/24/2019\\r\\n6/24/2019\\r\\n6/27/2019\\r\\n8/1/2019\\r\\n8/16/2019\\r\\n8/26/2019\\r\\n9/28/2019\\r\\n5/10/2019\\r\\n5/15/2019\\r\\n5/16/2019\\r\\n5/16/2019\\r\\n5/17/2019\\r\\n5/17/2019\\r\\n5/17/2019\\r\\n5/17/2019\\r\\n5/17/2019\\r\\n5/20/2019\\r\\n5/21/2019\\r\\n5/21/2019\\r\\n5/22/2019\\r\\n5/24/2019\\r\\n6/3/2019\\r\\n6/3/2019\\r\\n6/3/2019\\r\\n6/5/2019\\r\\n6/5/2019\\r\\n6/6/2019\\r\\n6/7/2019\\r\\n6/10/2019\\r\\n6/10/2019\\r\\n6/12/2019\\r\\n6/18/2019\\r\\n6/19/2019\\r\\n6/21/2019\\r\\n6/22/2019\\r\\n6/24/2019\\r\\n6/24/2019\\r\\n6/24/2019\\r\\n6/24/2019\\r\\n6/24/2019\\r\\n6/26/2019\\r\\n6/27/2019\\r\\n6/27/2019\\r\\n6/27/2019\\r\\n6/28/2019\\r\\n6/28/2019\\r\\n7/1/2019\\r\\n7/4/2019\\r\\n7/4/2019\\r\\n7/5/2019\\r\\n7/5/2019\\r\\n7/8/2019\\r\\n7/9/2019\\r\\n7/9/2019\\r\\n7/11/2019\\r\\n7/11/2019\\r\\n7/12/2019\\r\\n7/13/2019\\r\\n7/13/2019\\r\\n7/15/2019\\r\\n7/16/2019\\r\\n7/18/2019\\r\\n7/18/2019\\r\\n7/18/2019\\r\\n7/22/2019\\r\\n7/23/2019\\r\\n7/31/2019\\r\\n8/1/2019\\r\\n8/1/2019\\r\\n8/2/2019\\r\\n8/10/2019\\r\\n8/14/2019\\r\\n8/15/2019\\r\\n8/16/2019\\r\\n8/16/2019\\r\\n8/19/2019\\r\\n8/19/2019\\r\\n8/20/2019\\r\\n8/21/2019\\r\\n8/22/2019\\r\\n8/22/2019\\r\\n8/22/2019\\r\\n8/23/2019\\r\\n8/28/2019\\r\\n8/28/2019\\r\\n9/2/2019\\r\\n9/3/2019\\r\\n9/3/2019\\r\\n9/5/2019\\r\\n9/5/2019\\r\\n9/5/2019\\r\\n9/10/2019\\r\\n9/10/2019\\r\\n9/11/2019\\r\\n9/11/2019\\r\\n9/12/2019\\r\\n9/16/2019\\r\\n9/18/2019\\r\\n9/20/2019\\r\\n9/23/2019\\r\\n9/23/2019\\r\\n9/23/2019\\r\\n9/24/2019\\r\\n9/24/2019\\r\\n9/26/2019\\r\\n9/28/2019\\r\\n10/4/2019\\r\\n10/5/2019\\r\\n5/22/2019\\r\\n5/22/2019\\r\\n6/3/2019\\r\\n6/3/2019\\r\\n6/3/2019\\r\\n6/17/2019\\r\\n6/17/2019\\r\\n6/17/2019\\r\\n6/26/2019\\r\\n6/26/2019\\r\\n6/30/2019\\r\\n7/8/2019\\r\\n7/8/2019\\r\\n7/8/2019\\r\\n7/8/2019\\r\\n7/8/2019\\r\\n7/8/2019\\r\\n7/8/2019\\r\\n7/28/2019\\r\\n8/11/2019\\r\\n8/12/2019\\r\\n8/13/2019\\r\\n8/19/2019\\r\\n8/28/2019\\r\\n5/13/2019\\r\\n5/15/2019\\r\\n5/18/2019\\r\\n5/18/2019\\r\\n5/18/2019\\r\\n6/7/2019\\r\\n6/7/2019\\r\\n6/8/2019\\r\\n6/14/2019\\r\\n6/20/2019\\r\\n6/21/2019\\r\\n6/21/2019\\r\\n6/21/2019\\r\\n6/21/2019\\r\\n6/21/2019\\r\\n6/21/2019\\r\\n6/21/2019\\r\\n6/21/2019\\r\\n6/21/2019\\r\\n6/21/2019\\r\\n6/21/2019\\r\\n6/21/2019\\r\\n6/21/2019\\r\\n6/21/2019\\r\\n6/21/2019\\r\\n6/21/2019\\r\\n6/21/2019\\r\\n6/21/2019\\r\\n6/21/2019\\r\\n6/21/2019\\r\\n6/21/2019\\r\\n6/21/2019\\r\\n6/21/2019\\r\\n6/21/2019\\r\\n6/21/2019\\r\\n6/21/2019\\r\\n6/21/2019\\r\\n6/21/2019\\r\\n6/21/2019\\r\\n6/21/2019\\r\\n6/21/2019\\r\\n6/21/2019\\r\\n6/21/2019\\r\\n6/21/2019\\r\\n6/21/2019\\r\\n6/21/2019\\r\\n6/21/2019\\r\\n6/21/2019\\r\\n6/21/2019\\r\\n6/21/2019\\r\\n6/21/2019\\r\\n6/21/2019\\r\\n6/21/2019\\r\\n6/21/2019\\r\\n6/21/2019\\r\\n6/21/2019\\r\\n6/21/2019\\r\\n6/21/2019\\r\\n6/24/2019\\r\\n6/26/2019\\r\\n6/27/2019\\r\\n6/27/2019\\r\\n7/1/2019\\r\\n7/25/2019\\r\\n7/25/2019\\r\\n7/25/2019\\r\\n7/25/2019\\r\\n8/2/2019\\r\\n8/16/2019\\r\\n8/16/2019\\r\\n8/16/2019\\r\\n8/16/2019\\r\\n8/16/2019\\r\\n8/16/2019\\r\\n8/16/2019\\r\\n8/16/2019\\r\\n8/16/2019\\r\\n8/16/2019\\r\\n8/16/2019\\r\\n8/16/2019\\r\\n8/16/2019\\r\\n8/16/2019\\r\\n8/16/2019\\r\\n8/16/2019\\r\\n8/16/2019\\r\\n8/16/2019\\r\\n8/16/2019\\r\\n8/16/2019\\r\\n8/16/2019\\r\\n8/16/2019\\r\\n8/16/2019\\r\\n8/16/2019\\r\\n8/16/2019\\r\\n8/16/2019\\r\\n8/19/2019\\r\\n9/4/2019\\r\\n9/4/2019\\r\\n9/4/2019\\r\\n9/4/2019\\r\\n9/4/2019\\r\\n9/12/2019\\r\\n9/12/2019\\r\\n9/12/2019\\r\\n9/14/2019\\r\\n10/4/2019\\r\\n5/7/2019\\r\\n5/7/2019\\r\\n5/7/2019\\r\\n5/7/2019\\r\\n5/9/2019\\r\\n5/13/2019\\r\\n6/13/2019\\r\\n7/1/2019\\r\\n7/3/2019\\r\\n7/3/2019\\r\\n7/8/2019\\r\\n7/11/2019\\r\\n7/17/2019\\r\\n7/22/2019\\r\\n7/23/2019\\r\\n7/24/2019\\r\\n7/25/2019\\r\\n7/26/2019\\r\\n8/1/2019\\r\\n8/7/2019\\r\\n8/7/2019\\r\\n8/17/2019\\r\\n8/23/2019\\r\\n8/31/2019\\r\\n9/10/2019\\r\\n9/11/2019\\r\\n9/16/2019\\r\\n9/18/2019\\r\\n9/20/2019\\r\\n9/21/2019\\r\\n9/21/2019\\r\\n9/23/2019\\r\\n9/26/2019\\r\\n9/30/2019\\r\\n9/30/2019\\r\\n9/30/2019\\r\\n10/1/2019\\r\\n10/1/2019\\r\\n10/1/2019\\r\\n10/4/2019\\r\\n10/4/2019\\r\\n10/4/2019\\r\\n10/4/2019\\r\\n'}"
            ]
          },
          "metadata": {
            "tags": []
          },
          "execution_count": 6
        }
      ]
    },
    {
      "cell_type": "code",
      "metadata": {
        "id": "NEXsiIpHMFf6",
        "colab_type": "code",
        "colab": {}
      },
      "source": [
        "intial_data = pd.read_csv(\"predictn.csv\")"
      ],
      "execution_count": 0,
      "outputs": []
    },
    {
      "cell_type": "code",
      "metadata": {
        "id": "_7IPlE8qMTGt",
        "colab_type": "code",
        "colab": {
          "base_uri": "https://localhost:8080/",
          "height": 204
        },
        "outputId": "41055aa8-4cb3-4938-bccb-444dc88bb53b"
      },
      "source": [
        "intial_data.tail()"
      ],
      "execution_count": 14,
      "outputs": [
        {
          "output_type": "execute_result",
          "data": {
            "text/html": [
              "<div>\n",
              "<style scoped>\n",
              "    .dataframe tbody tr th:only-of-type {\n",
              "        vertical-align: middle;\n",
              "    }\n",
              "\n",
              "    .dataframe tbody tr th {\n",
              "        vertical-align: top;\n",
              "    }\n",
              "\n",
              "    .dataframe thead th {\n",
              "        text-align: right;\n",
              "    }\n",
              "</style>\n",
              "<table border=\"1\" class=\"dataframe\">\n",
              "  <thead>\n",
              "    <tr style=\"text-align: right;\">\n",
              "      <th></th>\n",
              "      <th>Client_Time</th>\n",
              "    </tr>\n",
              "  </thead>\n",
              "  <tbody>\n",
              "    <tr>\n",
              "      <th>5797</th>\n",
              "      <td>10/1/2019</td>\n",
              "    </tr>\n",
              "    <tr>\n",
              "      <th>5798</th>\n",
              "      <td>10/4/2019</td>\n",
              "    </tr>\n",
              "    <tr>\n",
              "      <th>5799</th>\n",
              "      <td>10/4/2019</td>\n",
              "    </tr>\n",
              "    <tr>\n",
              "      <th>5800</th>\n",
              "      <td>10/4/2019</td>\n",
              "    </tr>\n",
              "    <tr>\n",
              "      <th>5801</th>\n",
              "      <td>10/4/2019</td>\n",
              "    </tr>\n",
              "  </tbody>\n",
              "</table>\n",
              "</div>"
            ],
            "text/plain": [
              "     Client_Time\n",
              "5797   10/1/2019\n",
              "5798   10/4/2019\n",
              "5799   10/4/2019\n",
              "5800   10/4/2019\n",
              "5801   10/4/2019"
            ]
          },
          "metadata": {
            "tags": []
          },
          "execution_count": 14
        }
      ]
    },
    {
      "cell_type": "code",
      "metadata": {
        "id": "sy0lB_xkMwDB",
        "colab_type": "code",
        "colab": {
          "base_uri": "https://localhost:8080/",
          "height": 1000
        },
        "outputId": "d943e7ee-5341-4c36-ae4f-a1b287c0d9a6"
      },
      "source": [
        "counted_data = intial_data['Client_Time'].value_counts()\n",
        "counted_data"
      ],
      "execution_count": 15,
      "outputs": [
        {
          "output_type": "execute_result",
          "data": {
            "text/plain": [
              "7/8/2019     70\n",
              "6/3/2019     69\n",
              "6/11/2019    67\n",
              "5/13/2019    66\n",
              "10/4/2019    65\n",
              "9/16/2019    64\n",
              "7/1/2019     64\n",
              "9/24/2019    63\n",
              "9/23/2019    62\n",
              "7/9/2019     61\n",
              "7/15/2019    61\n",
              "7/23/2019    61\n",
              "6/24/2019    61\n",
              "6/28/2019    61\n",
              "8/1/2019     60\n",
              "10/1/2019    60\n",
              "8/26/2019    60\n",
              "8/29/2019    60\n",
              "9/18/2019    59\n",
              "8/7/2019     59\n",
              "7/18/2019    58\n",
              "6/18/2019    58\n",
              "8/20/2019    58\n",
              "7/26/2019    58\n",
              "5/9/2019     58\n",
              "8/14/2019    58\n",
              "5/22/2019    57\n",
              "6/5/2019     57\n",
              "9/26/2019    57\n",
              "9/13/2019    57\n",
              "             ..\n",
              "5/7/2019     31\n",
              "8/15/2019    30\n",
              "5/18/2019    30\n",
              "9/14/2019    30\n",
              "10/5/2019    30\n",
              "6/1/2019     30\n",
              "9/6/2019     29\n",
              "8/31/2019    28\n",
              "7/27/2019    28\n",
              "6/29/2019    27\n",
              "8/13/2019    27\n",
              "5/11/2019    27\n",
              "6/15/2019    27\n",
              "7/20/2019    26\n",
              "8/10/2019    26\n",
              "7/6/2019     26\n",
              "9/28/2019    26\n",
              "7/3/2019     26\n",
              "9/21/2019    25\n",
              "6/8/2019     25\n",
              "8/17/2019    24\n",
              "6/17/2019    22\n",
              "6/7/2019     22\n",
              "5/23/2019    11\n",
              "9/15/2019     4\n",
              "6/30/2019     2\n",
              "8/12/2019     1\n",
              "8/11/2019     1\n",
              "7/28/2019     1\n",
              "9/22/2019     1\n",
              "Name: Client_Time, Length: 128, dtype: int64"
            ]
          },
          "metadata": {
            "tags": []
          },
          "execution_count": 15
        }
      ]
    },
    {
      "cell_type": "code",
      "metadata": {
        "id": "UIZgwCLcNPb0",
        "colab_type": "code",
        "colab": {
          "base_uri": "https://localhost:8080/",
          "height": 34
        },
        "outputId": "a9e86af4-1265-4163-e680-c7dee191eac2"
      },
      "source": [
        "type(counted_data)"
      ],
      "execution_count": 16,
      "outputs": [
        {
          "output_type": "execute_result",
          "data": {
            "text/plain": [
              "pandas.core.series.Series"
            ]
          },
          "metadata": {
            "tags": []
          },
          "execution_count": 16
        }
      ]
    },
    {
      "cell_type": "code",
      "metadata": {
        "id": "mpyrIxTlNaZV",
        "colab_type": "code",
        "colab": {
          "base_uri": "https://localhost:8080/",
          "height": 119
        },
        "outputId": "81748302-491f-47fc-ecd9-e01472fb3f9b"
      },
      "source": [
        "counted_data.index = pd.to_datetime(counted_data.index, format='%m/%d/%Y')\n",
        "counted_data.head()"
      ],
      "execution_count": 17,
      "outputs": [
        {
          "output_type": "execute_result",
          "data": {
            "text/plain": [
              "2019-07-08    70\n",
              "2019-06-03    69\n",
              "2019-06-11    67\n",
              "2019-05-13    66\n",
              "2019-10-04    65\n",
              "Name: Client_Time, dtype: int64"
            ]
          },
          "metadata": {
            "tags": []
          },
          "execution_count": 17
        }
      ]
    },
    {
      "cell_type": "code",
      "metadata": {
        "id": "ydOyxpbyveTk",
        "colab_type": "code",
        "colab": {
          "base_uri": "https://localhost:8080/",
          "height": 119
        },
        "outputId": "45664985-5682-4f3b-ffe5-56c250f57a7f"
      },
      "source": [
        "counted_data.tail()"
      ],
      "execution_count": 19,
      "outputs": [
        {
          "output_type": "execute_result",
          "data": {
            "text/plain": [
              "2019-10-01    60\n",
              "2019-10-02    51\n",
              "2019-10-03    56\n",
              "2019-10-04    65\n",
              "2019-10-05    30\n",
              "Name: Client_Time, dtype: int64"
            ]
          },
          "metadata": {
            "tags": []
          },
          "execution_count": 19
        }
      ]
    },
    {
      "cell_type": "code",
      "metadata": {
        "id": "iKLXvQg_N9cc",
        "colab_type": "code",
        "colab": {}
      },
      "source": [
        "counted_data = counted_data.sort_index()"
      ],
      "execution_count": 0,
      "outputs": []
    },
    {
      "cell_type": "code",
      "metadata": {
        "id": "UH_5lzOBOMnA",
        "colab_type": "code",
        "colab": {
          "base_uri": "https://localhost:8080/",
          "height": 408
        },
        "outputId": "5937963e-ecd2-4aff-a66a-88ce2a9bc25b"
      },
      "source": [
        "plt.plot(counted_data)"
      ],
      "execution_count": 20,
      "outputs": [
        {
          "output_type": "stream",
          "text": [
            "/usr/local/lib/python3.6/dist-packages/pandas/plotting/_converter.py:129: FutureWarning: Using an implicitly registered datetime converter for a matplotlib plotting method. The converter was registered by pandas on import. Future versions of pandas will require you to explicitly register matplotlib converters.\n",
            "\n",
            "To register the converters:\n",
            "\t>>> from pandas.plotting import register_matplotlib_converters\n",
            "\t>>> register_matplotlib_converters()\n",
            "  warnings.warn(msg, FutureWarning)\n"
          ],
          "name": "stderr"
        },
        {
          "output_type": "execute_result",
          "data": {
            "text/plain": [
              "[<matplotlib.lines.Line2D at 0x7fab41faecc0>]"
            ]
          },
          "metadata": {
            "tags": []
          },
          "execution_count": 20
        },
        {
          "output_type": "display_data",
          "data": {
            "image/png": "[encoded data removed]",
            "text/plain": [
              "<Figure size 432x288 with 1 Axes>"
            ]
          },
          "metadata": {
            "tags": []
          }
        }
      ]
    },
    {
      "cell_type": "code",
      "metadata": {
        "id": "d67ItxLP9DW8",
        "colab_type": "code",
        "outputId": "b4f266b5-3753-471a-dae6-ded338e50d42",
        "colab": {
          "base_uri": "https://localhost:8080/",
          "height": 119
        }
      },
      "source": [
        "counted_data.tail()"
      ],
      "execution_count": 21,
      "outputs": [
        {
          "output_type": "execute_result",
          "data": {
            "text/plain": [
              "2019-10-01    60\n",
              "2019-10-02    51\n",
              "2019-10-03    56\n",
              "2019-10-04    65\n",
              "2019-10-05    30\n",
              "Name: Client_Time, dtype: int64"
            ]
          },
          "metadata": {
            "tags": []
          },
          "execution_count": 21
        }
      ]
    },
    {
      "cell_type": "code",
      "metadata": {
        "id": "kSbtn9HU9q-c",
        "colab_type": "code",
        "colab": {}
      },
      "source": [
        "days = []\n",
        "for d in counted_data.index:\n",
        "#   print(d.weekday())\n",
        "  days.append(d.weekday())"
      ],
      "execution_count": 0,
      "outputs": []
    },
    {
      "cell_type": "code",
      "metadata": {
        "id": "qSsn7fAj-WDM",
        "colab_type": "code",
        "colab": {}
      },
      "source": [
        "days = pd.Series(days)\n",
        "#days"
      ],
      "execution_count": 0,
      "outputs": []
    },
    {
      "cell_type": "code",
      "metadata": {
        "id": "eoDye6kF-oNH",
        "colab_type": "code",
        "colab": {
          "base_uri": "https://localhost:8080/",
          "height": 34
        },
        "outputId": "0a0fcb59-aa95-47ff-fb7f-acffa5eca49c"
      },
      "source": [
        "days_one_hot = pd.get_dummies(days)\n",
        "#get_dummies is pandas func for one hot encoding\n",
        "len(days_one_hot)"
      ],
      "execution_count": 24,
      "outputs": [
        {
          "output_type": "execute_result",
          "data": {
            "text/plain": [
              "128"
            ]
          },
          "metadata": {
            "tags": []
          },
          "execution_count": 24
        }
      ]
    },
    {
      "cell_type": "code",
      "metadata": {
        "id": "enoT4pQHPkoy",
        "colab_type": "code",
        "colab": {
          "base_uri": "https://localhost:8080/",
          "height": 34
        },
        "outputId": "53f8ec80-8dcb-4d69-fe11-bd0459f9664f"
      },
      "source": [
        "training_data = pd.DataFrame()\n",
        "training_data['Client_Time'] = counted_data\n",
        "training_data['Date'] = counted_data.index\n",
        "len(training_data)"
      ],
      "execution_count": 25,
      "outputs": [
        {
          "output_type": "execute_result",
          "data": {
            "text/plain": [
              "128"
            ]
          },
          "metadata": {
            "tags": []
          },
          "execution_count": 25
        }
      ]
    },
    {
      "cell_type": "code",
      "metadata": {
        "id": "0fVK26uY-tOk",
        "colab_type": "code",
        "colab": {}
      },
      "source": [
        "day = ['mon', 'tue', 'wed', 'thu', 'fri', 'sat', 'sun']\n",
        "for col in days_one_hot.columns:\n",
        "  training_data[day[int(col)]] = days_one_hot[col ].values\n",
        "  #print(days_one_hot[col].head())\n",
        "  "
      ],
      "execution_count": 0,
      "outputs": []
    },
    {
      "cell_type": "code",
      "metadata": {
        "id": "uDKZpjHv-49A",
        "colab_type": "code",
        "outputId": "4a1a8864-35bf-4517-a3d6-cc11d60006fe",
        "colab": {
          "base_uri": "https://localhost:8080/",
          "height": 204
        }
      },
      "source": [
        "training_data.head()"
      ],
      "execution_count": 27,
      "outputs": [
        {
          "output_type": "execute_result",
          "data": {
            "text/html": [
              "<div>\n",
              "<style scoped>\n",
              "    .dataframe tbody tr th:only-of-type {\n",
              "        vertical-align: middle;\n",
              "    }\n",
              "\n",
              "    .dataframe tbody tr th {\n",
              "        vertical-align: top;\n",
              "    }\n",
              "\n",
              "    .dataframe thead th {\n",
              "        text-align: right;\n",
              "    }\n",
              "</style>\n",
              "<table border=\"1\" class=\"dataframe\">\n",
              "  <thead>\n",
              "    <tr style=\"text-align: right;\">\n",
              "      <th></th>\n",
              "      <th>Client_Time</th>\n",
              "      <th>Date</th>\n",
              "      <th>mon</th>\n",
              "      <th>tue</th>\n",
              "      <th>wed</th>\n",
              "      <th>thu</th>\n",
              "      <th>fri</th>\n",
              "      <th>sat</th>\n",
              "      <th>sun</th>\n",
              "    </tr>\n",
              "  </thead>\n",
              "  <tbody>\n",
              "    <tr>\n",
              "      <th>2019-05-07</th>\n",
              "      <td>31</td>\n",
              "      <td>2019-05-07</td>\n",
              "      <td>0</td>\n",
              "      <td>1</td>\n",
              "      <td>0</td>\n",
              "      <td>0</td>\n",
              "      <td>0</td>\n",
              "      <td>0</td>\n",
              "      <td>0</td>\n",
              "    </tr>\n",
              "    <tr>\n",
              "      <th>2019-05-08</th>\n",
              "      <td>48</td>\n",
              "      <td>2019-05-08</td>\n",
              "      <td>0</td>\n",
              "      <td>0</td>\n",
              "      <td>1</td>\n",
              "      <td>0</td>\n",
              "      <td>0</td>\n",
              "      <td>0</td>\n",
              "      <td>0</td>\n",
              "    </tr>\n",
              "    <tr>\n",
              "      <th>2019-05-09</th>\n",
              "      <td>58</td>\n",
              "      <td>2019-05-09</td>\n",
              "      <td>0</td>\n",
              "      <td>0</td>\n",
              "      <td>0</td>\n",
              "      <td>1</td>\n",
              "      <td>0</td>\n",
              "      <td>0</td>\n",
              "      <td>0</td>\n",
              "    </tr>\n",
              "    <tr>\n",
              "      <th>2019-05-10</th>\n",
              "      <td>51</td>\n",
              "      <td>2019-05-10</td>\n",
              "      <td>0</td>\n",
              "      <td>0</td>\n",
              "      <td>0</td>\n",
              "      <td>0</td>\n",
              "      <td>1</td>\n",
              "      <td>0</td>\n",
              "      <td>0</td>\n",
              "    </tr>\n",
              "    <tr>\n",
              "      <th>2019-05-11</th>\n",
              "      <td>27</td>\n",
              "      <td>2019-05-11</td>\n",
              "      <td>0</td>\n",
              "      <td>0</td>\n",
              "      <td>0</td>\n",
              "      <td>0</td>\n",
              "      <td>0</td>\n",
              "      <td>1</td>\n",
              "      <td>0</td>\n",
              "    </tr>\n",
              "  </tbody>\n",
              "</table>\n",
              "</div>"
            ],
            "text/plain": [
              "            Client_Time       Date  mon  tue  wed  thu  fri  sat  sun\n",
              "2019-05-07           31 2019-05-07    0    1    0    0    0    0    0\n",
              "2019-05-08           48 2019-05-08    0    0    1    0    0    0    0\n",
              "2019-05-09           58 2019-05-09    0    0    0    1    0    0    0\n",
              "2019-05-10           51 2019-05-10    0    0    0    0    1    0    0\n",
              "2019-05-11           27 2019-05-11    0    0    0    0    0    1    0"
            ]
          },
          "metadata": {
            "tags": []
          },
          "execution_count": 27
        }
      ]
    },
    {
      "cell_type": "code",
      "metadata": {
        "id": "8WgHiM_D_6In",
        "colab_type": "code",
        "outputId": "667ad206-3d4f-45f8-ef10-e3d282133a36",
        "colab": {
          "resources": {
            "http://localhost:8080/nbextensions/google.colab/files.js": {
              "data": "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",
              "ok": true,
              "headers": [
                [
                  "content-type",
                  "application/javascript"
                ]
              ],
              "status": 200,
              "status_text": ""
            }
          },
          "base_uri": "https://localhost:8080/",
          "height": 111
        }
      },
      "source": [
        "files.upload()"
      ],
      "execution_count": 29,
      "outputs": [
        {
          "output_type": "display_data",
          "data": {
            "text/html": [
              "\n",
              "     <input type=\"file\" id=\"files-9bf86509-1533-49ad-8acc-3ea9d75c0990\" name=\"files[]\" multiple disabled />\n",
              "     <output id=\"result-9bf86509-1533-49ad-8acc-3ea9d75c0990\">\n",
              "      Upload widget is only available when the cell has been executed in the\n",
              "      current browser session. Please rerun this cell to enable.\n",
              "      </output>\n",
              "      <script src=\"/nbextensions/google.colab/files.js\"></script> "
            ],
            "text/plain": [
              "<IPython.core.display.HTML object>"
            ]
          },
          "metadata": {
            "tags": []
          }
        },
        {
          "output_type": "stream",
          "text": [
            "Saving indian holidays.csv to indian holidays.csv\n"
          ],
          "name": "stdout"
        },
        {
          "output_type": "execute_result",
          "data": {
            "text/plain": [
              "{'indian holidays.csv': b'Day,Date,Holiday name,Holiday type\\r\\nTuesday,\"Jan 1, 2019\",New Year\\'s Day,Restricted Holiday\\r\\nSunday,\"Jan 13, 2019\",Guru Govind Singh\\'s Birthday,Restricted Holiday\\r\\nMonday,\"Jan 14, 2019\",Makar Sankranti,Restricted Holiday\\r\\nTuesday,\"Jan 15, 2019\",Pongal,Restricted Holiday\\r\\nSaturday,\"Jan 26, 2019\",Republic Day,Gazetted Holiday\\r\\nSunday,\"Feb 10, 2019\",Basant Panchami/Sri Panchami,Restricted Holiday\\r\\nTuesday,\"Feb 19, 2019\",Guru Ravidas\\'s Birthday,Restricted Holiday\\r\\nTuesday,\"Feb 19, 2019\",Shivaji Jayanti,Restricted Holiday\\r\\nFriday,\"Mar 1, 2019\",Swami Dayananda Saraswati Jayanti,Restricted Holiday\\r\\nMonday,\"Mar 4, 2019\",Maha Shivaratri/Shivaratri,Gazetted Holiday\\r\\nSunday,\"Mar 19, 2019\",Hazarat Ali\\'s Birthday,Restricted Holiday\\r\\nWednesday,\"Mar 20, 2019\",Holika Dahana,Restricted Holiday\\r\\nThursday,\"Mar 21, 2019\",Holi,Gazetted Holiday\\r\\nSaturday,\"Apr 6, 2019\",Chaitra Sukladi/Gudi Padava/Ugadi/Cheti Chand,Restricted Holiday\\r\\nSaturday,\"Apr 13, 2019\",Rama Navami,Gazetted Holiday\\r\\nWednesday,\"Apr 17, 2019\",Mahavir Jayanti,Gazetted Holiday\\r\\nFriday,\"Apr 19, 2019\",Good Friday,Gazetted Holiday\\r\\nSunday,\"Apr 21, 2019\",Easter Day,Restricted Holiday\\r\\nSaturday,\"Apr 13, 2019\",Mesadi,Restricted Holiday\\r\\nSunday,\"Apr 14, 2019\",Vaisakhi/Vishu,Restricted Holiday\\r\\nSunday,\"Apr 14, 2019\",Vaisakhadi(Bengal)/Bahag Bihu (Assam),Restricted Holiday\\r\\nThursday,\"May 9, 2019\",Guru Rabindranath\\'s birthday,Restricted Holiday\\r\\nSaturday,\"May 18, 2019\",Buddha Purnima/Vesak,Gazetted Holiday\\r\\nFriday,\"May 31, 2019\",Jamat Ul-Vida,Restricted Holiday\\r\\nWednesday,\"Jun 5, 2019\",Idu\\'l Fitr,Gazetted Holiday\\r\\nThursday,\"Jul 4, 2019\",Rath Yatra,Restricted Holiday\\r\\nMonday,\"Aug 12, 2019\",Id-ul-Zuha(Bakrid),Gazetted Holiday\\r\\nThursday,\"Aug 15, 2019\",Independence Day,Gazetted Holiday\\r\\nThursday,\"Aug 15, 2019\",Raksha Bandhan\\xa0(Rakhi),Restricted Holiday\\r\\nSaturday,\"Aug 17, 2019\",Parsi New Year\\'s day/Nauraj,Restricted Holiday\\r\\nSaturday,\"Aug 24, 2019\",Janmashtarni (Vaishnav),Gazetted Holiday\\r\\nWednesday,\"Sep 11, 2019\",Onam,Restricted Holiday\\r\\nTuesday,\"Sep 10, 2019\",Muharram/Ashura,Gazetted Holiday\\r\\nMonday,\"Sep 2, 2019\",Ganesh Chaturthi/Vinayaka Chaturthi,Restricted Holiday\\r\\nWednesday,\"Oct 2, 2019\",Mahatma Gandhi Jayanti,Gazetted Holiday\\r\\nMonday,\"Oct 7, 2019\",Dussehra,Gazetted Holiday\\r\\nSunday,\"Oct 13, 2019\",Maharishi Valmiki\\'s Birthday,Restricted Holiday\\r\\nThursday,\"Oct 17, 2019\",Karaka Chaturthi (Karva Chouth),Restricted Holiday\\r\\nSunday,\"Oct 27, 2019\",Naraka Chaturdasi,Restricted Holiday\\r\\nSunday,\"Oct 27, 2019\",Diwali (Deepavali),Gazetted Holiday\\r\\nTuesday,\"Oct 28, 2019\",Govardhan Puja,Restricted Holiday\\r\\nTuesday,\"Oct 29, 2019\",Bhai Duj,Restricted Holiday\\r\\nSaturday,\"Nov 2, 2019\",Pratihar Sashthi or Surya Sashthi (Chhat Puja),Restricted Holiday\\r\\nSunday,\"Nov 10, 2019\",Milad-un-Nabi or Id-e- Milad (birthday of Prophet Mohammad),Gazetted Holiday\\r\\nTuesday,\"Nov 12, 2019\",Guru Nanak\\'s Birthday,Gazetted Holiday\\r\\nSunday,\"Nov 24, 2019\",Guru Teg Bahadur\\'s Martyrdom Day,Restricted Holiday\\r\\nTuesday,\"Dec 24, 2019\",Christmas Eve,Restricted Holiday\\r\\nWednesday,\"Dec 25, 2019\",Christmas Day,Gazetted Holiday\\r\\n'}"
            ]
          },
          "metadata": {
            "tags": []
          },
          "execution_count": 29
        }
      ]
    },
    {
      "cell_type": "code",
      "metadata": {
        "id": "_XKxjsQbCehK",
        "colab_type": "code",
        "colab": {}
      },
      "source": [
        "indian_holidays = pd.read_csv('indian holidays.csv', encoding = \"ISO-8859-1\")"
      ],
      "execution_count": 0,
      "outputs": []
    },
    {
      "cell_type": "code",
      "metadata": {
        "id": "_1d2XPIaCn0c",
        "colab_type": "code",
        "outputId": "ba43f1c4-3936-4d21-b0d5-c146baec04d0",
        "colab": {
          "base_uri": "https://localhost:8080/",
          "height": 204
        }
      },
      "source": [
        "indian_holidays.head()"
      ],
      "execution_count": 31,
      "outputs": [
        {
          "output_type": "execute_result",
          "data": {
            "text/html": [
              "<div>\n",
              "<style scoped>\n",
              "    .dataframe tbody tr th:only-of-type {\n",
              "        vertical-align: middle;\n",
              "    }\n",
              "\n",
              "    .dataframe tbody tr th {\n",
              "        vertical-align: top;\n",
              "    }\n",
              "\n",
              "    .dataframe thead th {\n",
              "        text-align: right;\n",
              "    }\n",
              "</style>\n",
              "<table border=\"1\" class=\"dataframe\">\n",
              "  <thead>\n",
              "    <tr style=\"text-align: right;\">\n",
              "      <th></th>\n",
              "      <th>Day</th>\n",
              "      <th>Date</th>\n",
              "      <th>Holiday name</th>\n",
              "      <th>Holiday type</th>\n",
              "    </tr>\n",
              "  </thead>\n",
              "  <tbody>\n",
              "    <tr>\n",
              "      <th>0</th>\n",
              "      <td>Tuesday</td>\n",
              "      <td>Jan 1, 2019</td>\n",
              "      <td>New Year's Day</td>\n",
              "      <td>Restricted Holiday</td>\n",
              "    </tr>\n",
              "    <tr>\n",
              "      <th>1</th>\n",
              "      <td>Sunday</td>\n",
              "      <td>Jan 13, 2019</td>\n",
              "      <td>Guru Govind Singh's Birthday</td>\n",
              "      <td>Restricted Holiday</td>\n",
              "    </tr>\n",
              "    <tr>\n",
              "      <th>2</th>\n",
              "      <td>Monday</td>\n",
              "      <td>Jan 14, 2019</td>\n",
              "      <td>Makar Sankranti</td>\n",
              "      <td>Restricted Holiday</td>\n",
              "    </tr>\n",
              "    <tr>\n",
              "      <th>3</th>\n",
              "      <td>Tuesday</td>\n",
              "      <td>Jan 15, 2019</td>\n",
              "      <td>Pongal</td>\n",
              "      <td>Restricted Holiday</td>\n",
              "    </tr>\n",
              "    <tr>\n",
              "      <th>4</th>\n",
              "      <td>Saturday</td>\n",
              "      <td>Jan 26, 2019</td>\n",
              "      <td>Republic Day</td>\n",
              "      <td>Gazetted Holiday</td>\n",
              "    </tr>\n",
              "  </tbody>\n",
              "</table>\n",
              "</div>"
            ],
            "text/plain": [
              "        Day          Date                  Holiday name        Holiday type\n",
              "0   Tuesday   Jan 1, 2019                New Year's Day  Restricted Holiday\n",
              "1    Sunday  Jan 13, 2019  Guru Govind Singh's Birthday  Restricted Holiday\n",
              "2    Monday  Jan 14, 2019               Makar Sankranti  Restricted Holiday\n",
              "3   Tuesday  Jan 15, 2019                        Pongal  Restricted Holiday\n",
              "4  Saturday  Jan 26, 2019                  Republic Day    Gazetted Holiday"
            ]
          },
          "metadata": {
            "tags": []
          },
          "execution_count": 31
        }
      ]
    },
    {
      "cell_type": "code",
      "metadata": {
        "id": "Gzhl1rGtDRMc",
        "colab_type": "code",
        "colab": {}
      },
      "source": [
        "indian_holidays['Date'] = pd.to_datetime(indian_holidays.Date)"
      ],
      "execution_count": 0,
      "outputs": []
    },
    {
      "cell_type": "code",
      "metadata": {
        "id": "1gyRkmXQDUjw",
        "colab_type": "code",
        "colab": {}
      },
      "source": [
        "is_holiday = []\n",
        "for d in training_data.Date:\n",
        "  h = pd.to_datetime(d)\n",
        "  if sum( h == indian_holidays.Date) != 0:\n",
        "    is_holiday.append(1)\n",
        "  else:\n",
        "    is_holiday.append(0)"
      ],
      "execution_count": 0,
      "outputs": []
    },
    {
      "cell_type": "code",
      "metadata": {
        "id": "koms84aME1Rq",
        "colab_type": "code",
        "colab": {}
      },
      "source": [
        "training_data['is_holiday'] = is_holiday"
      ],
      "execution_count": 0,
      "outputs": []
    },
    {
      "cell_type": "code",
      "metadata": {
        "id": "gv9HK98IFUn9",
        "colab_type": "code",
        "outputId": "cf4bddfe-0548-4edc-e9ab-803d0acc264b",
        "colab": {
          "base_uri": "https://localhost:8080/",
          "height": 204
        }
      },
      "source": [
        "training_data.head()"
      ],
      "execution_count": 35,
      "outputs": [
        {
          "output_type": "execute_result",
          "data": {
            "text/html": [
              "<div>\n",
              "<style scoped>\n",
              "    .dataframe tbody tr th:only-of-type {\n",
              "        vertical-align: middle;\n",
              "    }\n",
              "\n",
              "    .dataframe tbody tr th {\n",
              "        vertical-align: top;\n",
              "    }\n",
              "\n",
              "    .dataframe thead th {\n",
              "        text-align: right;\n",
              "    }\n",
              "</style>\n",
              "<table border=\"1\" class=\"dataframe\">\n",
              "  <thead>\n",
              "    <tr style=\"text-align: right;\">\n",
              "      <th></th>\n",
              "      <th>Client_Time</th>\n",
              "      <th>Date</th>\n",
              "      <th>mon</th>\n",
              "      <th>tue</th>\n",
              "      <th>wed</th>\n",
              "      <th>thu</th>\n",
              "      <th>fri</th>\n",
              "      <th>sat</th>\n",
              "      <th>sun</th>\n",
              "      <th>is_holiday</th>\n",
              "    </tr>\n",
              "  </thead>\n",
              "  <tbody>\n",
              "    <tr>\n",
              "      <th>2019-05-07</th>\n",
              "      <td>31</td>\n",
              "      <td>2019-05-07</td>\n",
              "      <td>0</td>\n",
              "      <td>1</td>\n",
              "      <td>0</td>\n",
              "      <td>0</td>\n",
              "      <td>0</td>\n",
              "      <td>0</td>\n",
              "      <td>0</td>\n",
              "      <td>0</td>\n",
              "    </tr>\n",
              "    <tr>\n",
              "      <th>2019-05-08</th>\n",
              "      <td>48</td>\n",
              "      <td>2019-05-08</td>\n",
              "      <td>0</td>\n",
              "      <td>0</td>\n",
              "      <td>1</td>\n",
              "      <td>0</td>\n",
              "      <td>0</td>\n",
              "      <td>0</td>\n",
              "      <td>0</td>\n",
              "      <td>0</td>\n",
              "    </tr>\n",
              "    <tr>\n",
              "      <th>2019-05-09</th>\n",
              "      <td>58</td>\n",
              "      <td>2019-05-09</td>\n",
              "      <td>0</td>\n",
              "      <td>0</td>\n",
              "      <td>0</td>\n",
              "      <td>1</td>\n",
              "      <td>0</td>\n",
              "      <td>0</td>\n",
              "      <td>0</td>\n",
              "      <td>1</td>\n",
              "    </tr>\n",
              "    <tr>\n",
              "      <th>2019-05-10</th>\n",
              "      <td>51</td>\n",
              "      <td>2019-05-10</td>\n",
              "      <td>0</td>\n",
              "      <td>0</td>\n",
              "      <td>0</td>\n",
              "      <td>0</td>\n",
              "      <td>1</td>\n",
              "      <td>0</td>\n",
              "      <td>0</td>\n",
              "      <td>0</td>\n",
              "    </tr>\n",
              "    <tr>\n",
              "      <th>2019-05-11</th>\n",
              "      <td>27</td>\n",
              "      <td>2019-05-11</td>\n",
              "      <td>0</td>\n",
              "      <td>0</td>\n",
              "      <td>0</td>\n",
              "      <td>0</td>\n",
              "      <td>0</td>\n",
              "      <td>1</td>\n",
              "      <td>0</td>\n",
              "      <td>0</td>\n",
              "    </tr>\n",
              "  </tbody>\n",
              "</table>\n",
              "</div>"
            ],
            "text/plain": [
              "            Client_Time       Date  mon  tue  ...  fri  sat  sun  is_holiday\n",
              "2019-05-07           31 2019-05-07    0    1  ...    0    0    0           0\n",
              "2019-05-08           48 2019-05-08    0    0  ...    0    0    0           0\n",
              "2019-05-09           58 2019-05-09    0    0  ...    0    0    0           1\n",
              "2019-05-10           51 2019-05-10    0    0  ...    1    0    0           0\n",
              "2019-05-11           27 2019-05-11    0    0  ...    0    1    0           0\n",
              "\n",
              "[5 rows x 10 columns]"
            ]
          },
          "metadata": {
            "tags": []
          },
          "execution_count": 35
        }
      ]
    },
    {
      "cell_type": "code",
      "metadata": {
        "id": "-O6ra3pfOtva",
        "colab_type": "code",
        "colab": {}
      },
      "source": [
        "actual_data = training_data.drop('Date', axis=1).values"
      ],
      "execution_count": 0,
      "outputs": []
    },
    {
      "cell_type": "code",
      "metadata": {
        "id": "VUh8CHuFSgsJ",
        "colab_type": "code",
        "colab": {}
      },
      "source": [
        "train = actual_data[:int(0.8*(len(actual_data)))]\n",
        "valid = actual_data[int(0.8*(len(actual_data))):]\n"
      ],
      "execution_count": 0,
      "outputs": []
    },
    {
      "cell_type": "code",
      "metadata": {
        "id": "5E25BFgHSo26",
        "colab_type": "code",
        "outputId": "97730734-5bc2-4359-f220-08e7143a3358",
        "colab": {
          "base_uri": "https://localhost:8080/",
          "height": 51
        }
      },
      "source": [
        "from statsmodels.tsa.vector_ar.var_model import VAR\n",
        "\n",
        "model = VAR(endog=train)\n",
        "model_fit = model.fit()\n",
        "\n",
        "# make prediction on validation\n",
        "prediction = model_fit.forecast(model_fit.y, steps=len(valid))"
      ],
      "execution_count": 38,
      "outputs": [
        {
          "output_type": "stream",
          "text": [
            "/usr/local/lib/python3.6/dist-packages/statsmodels/base/wrapper.py:35: FutureWarning: y is a deprecated alias for endog, will be removed in version 0.11.0\n",
            "  obj = getattr(results, attr)\n"
          ],
          "name": "stderr"
        }
      ]
    },
    {
      "cell_type": "code",
      "metadata": {
        "id": "Qh-UW27jTJg9",
        "colab_type": "code",
        "outputId": "1a98e641-a416-40ee-c3f8-6975e1bdf2c1",
        "colab": {
          "base_uri": "https://localhost:8080/",
          "height": 102
        }
      },
      "source": [
        "#make final predictions\n",
        "model = VAR(endog=actual_data)\n",
        "model_fit = model.fit()\n",
        "yhat = model_fit.forecast(model_fit.y, steps=1)\n",
        "print(yhat)"
      ],
      "execution_count": 40,
      "outputs": [
        {
          "output_type": "stream",
          "text": [
            "[[ 3.96716831e+01  7.10317919e-01 -2.61171320e-03  2.61171320e-03\n",
            "   2.63677968e-16 -1.15503572e-03  1.53079533e-03  2.89306321e-01\n",
            "   5.32087734e-02]]\n"
          ],
          "name": "stdout"
        },
        {
          "output_type": "stream",
          "text": [
            "/usr/local/lib/python3.6/dist-packages/statsmodels/base/wrapper.py:35: FutureWarning: y is a deprecated alias for endog, will be removed in version 0.11.0\n",
            "  obj = getattr(results, attr)\n"
          ],
          "name": "stderr"
        }
      ]
    },
    {
      "cell_type": "code",
      "metadata": {
        "id": "Srs19UdXTWf6",
        "colab_type": "code",
        "outputId": "a2963722-afe0-4d50-b198-c4d135510e3e",
        "colab": {
          "base_uri": "https://localhost:8080/",
          "height": 204
        }
      },
      "source": [
        "training_data.tail()"
      ],
      "execution_count": 41,
      "outputs": [
        {
          "output_type": "execute_result",
          "data": {
            "text/html": [
              "<div>\n",
              "<style scoped>\n",
              "    .dataframe tbody tr th:only-of-type {\n",
              "        vertical-align: middle;\n",
              "    }\n",
              "\n",
              "    .dataframe tbody tr th {\n",
              "        vertical-align: top;\n",
              "    }\n",
              "\n",
              "    .dataframe thead th {\n",
              "        text-align: right;\n",
              "    }\n",
              "</style>\n",
              "<table border=\"1\" class=\"dataframe\">\n",
              "  <thead>\n",
              "    <tr style=\"text-align: right;\">\n",
              "      <th></th>\n",
              "      <th>Client_Time</th>\n",
              "      <th>Date</th>\n",
              "      <th>mon</th>\n",
              "      <th>tue</th>\n",
              "      <th>wed</th>\n",
              "      <th>thu</th>\n",
              "      <th>fri</th>\n",
              "      <th>sat</th>\n",
              "      <th>sun</th>\n",
              "      <th>is_holiday</th>\n",
              "    </tr>\n",
              "  </thead>\n",
              "  <tbody>\n",
              "    <tr>\n",
              "      <th>2019-10-01</th>\n",
              "      <td>60</td>\n",
              "      <td>2019-10-01</td>\n",
              "      <td>0</td>\n",
              "      <td>1</td>\n",
              "      <td>0</td>\n",
              "      <td>0</td>\n",
              "      <td>0</td>\n",
              "      <td>0</td>\n",
              "      <td>0</td>\n",
              "      <td>0</td>\n",
              "    </tr>\n",
              "    <tr>\n",
              "      <th>2019-10-02</th>\n",
              "      <td>51</td>\n",
              "      <td>2019-10-02</td>\n",
              "      <td>0</td>\n",
              "      <td>0</td>\n",
              "      <td>1</td>\n",
              "      <td>0</td>\n",
              "      <td>0</td>\n",
              "      <td>0</td>\n",
              "      <td>0</td>\n",
              "      <td>1</td>\n",
              "    </tr>\n",
              "    <tr>\n",
              "      <th>2019-10-03</th>\n",
              "      <td>56</td>\n",
              "      <td>2019-10-03</td>\n",
              "      <td>0</td>\n",
              "      <td>0</td>\n",
              "      <td>0</td>\n",
              "      <td>1</td>\n",
              "      <td>0</td>\n",
              "      <td>0</td>\n",
              "      <td>0</td>\n",
              "      <td>0</td>\n",
              "    </tr>\n",
              "    <tr>\n",
              "      <th>2019-10-04</th>\n",
              "      <td>65</td>\n",
              "      <td>2019-10-04</td>\n",
              "      <td>0</td>\n",
              "      <td>0</td>\n",
              "      <td>0</td>\n",
              "      <td>0</td>\n",
              "      <td>1</td>\n",
              "      <td>0</td>\n",
              "      <td>0</td>\n",
              "      <td>0</td>\n",
              "    </tr>\n",
              "    <tr>\n",
              "      <th>2019-10-05</th>\n",
              "      <td>30</td>\n",
              "      <td>2019-10-05</td>\n",
              "      <td>0</td>\n",
              "      <td>0</td>\n",
              "      <td>0</td>\n",
              "      <td>0</td>\n",
              "      <td>0</td>\n",
              "      <td>1</td>\n",
              "      <td>0</td>\n",
              "      <td>0</td>\n",
              "    </tr>\n",
              "  </tbody>\n",
              "</table>\n",
              "</div>"
            ],
            "text/plain": [
              "            Client_Time       Date  mon  tue  ...  fri  sat  sun  is_holiday\n",
              "2019-10-01           60 2019-10-01    0    1  ...    0    0    0           0\n",
              "2019-10-02           51 2019-10-02    0    0  ...    0    0    0           1\n",
              "2019-10-03           56 2019-10-03    0    0  ...    0    0    0           0\n",
              "2019-10-04           65 2019-10-04    0    0  ...    1    0    0           0\n",
              "2019-10-05           30 2019-10-05    0    0  ...    0    1    0           0\n",
              "\n",
              "[5 rows x 10 columns]"
            ]
          },
          "metadata": {
            "tags": []
          },
          "execution_count": 41
        }
      ]
    },
    {
      "cell_type": "code",
      "metadata": {
        "id": "YW1-hipaUQe0",
        "colab_type": "code",
        "colab": {}
      },
      "source": [
        "history = train"
      ],
      "execution_count": 0,
      "outputs": []
    },
    {
      "cell_type": "code",
      "metadata": {
        "id": "p44mkVe_USlU",
        "colab_type": "code",
        "colab": {
          "base_uri": "https://localhost:8080/",
          "height": 51
        },
        "outputId": "e058f830-a51f-4004-ab6c-1a1e13bddf3a"
      },
      "source": [
        "prediction=[]\n",
        "actual_value=[]\n",
        "for x in range(len(valid)):\n",
        "  #print(len(history))\n",
        "  model = VAR(endog=history)\n",
        "  model_fit = model.fit()\n",
        "  yhat = model_fit.forecast(model_fit.y, steps=1)\n",
        "  prediction.append(yhat[0][0])\n",
        "  history = np.append(history,valid[x].reshape(1,-1),axis=0)\n",
        "  actual_value.append(valid[x][0])"
      ],
      "execution_count": 43,
      "outputs": [
        {
          "output_type": "stream",
          "text": [
            "/usr/local/lib/python3.6/dist-packages/statsmodels/base/wrapper.py:35: FutureWarning: y is a deprecated alias for endog, will be removed in version 0.11.0\n",
            "  obj = getattr(results, attr)\n"
          ],
          "name": "stderr"
        }
      ]
    },
    {
      "cell_type": "code",
      "metadata": {
        "id": "ImqJFI-SUWkc",
        "colab_type": "code",
        "colab": {
          "base_uri": "https://localhost:8080/",
          "height": 286
        },
        "outputId": "1aca1528-befa-49ee-b866-70eae452aa4a"
      },
      "source": [
        "plt.plot(prediction,color='c')\n",
        "plt.plot(actual_value, color='r')"
      ],
      "execution_count": 44,
      "outputs": [
        {
          "output_type": "execute_result",
          "data": {
            "text/plain": [
              "[<matplotlib.lines.Line2D at 0x7fab36c9e8d0>]"
            ]
          },
          "metadata": {
            "tags": []
          },
          "execution_count": 44
        },
        {
          "output_type": "display_data",
          "data": {
            "image/png": "[encoded data removed]",
            "text/plain": [
              "<Figure size 432x288 with 1 Axes>"
            ]
          },
          "metadata": {
            "tags": []
          }
        }
      ]
    },
    {
      "cell_type": "code",
      "metadata": {
        "id": "QtKqS6l7Xmol",
        "colab_type": "code",
        "colab": {
          "base_uri": "https://localhost:8080/",
          "height": 34
        },
        "outputId": "4f7474f2-3ed4-469b-e9df-05b3ed452b86"
      },
      "source": [
        "print( actual_value)"
      ],
      "execution_count": 45,
      "outputs": [
        {
          "output_type": "stream",
          "text": [
            "[56, 48, 51, 41, 57, 30, 4, 64, 48, 59, 55, 44, 25, 1, 62, 63, 52, 57, 56, 26, 53, 60, 51, 56, 65, 30]\n"
          ],
          "name": "stdout"
        }
      ]
    },
    {
      "cell_type": "code",
      "metadata": {
        "id": "lko78-gZXZCO",
        "colab_type": "code",
        "colab": {}
      },
      "source": [
        "MSE = 0\n",
        "for x in range(len(prediction)):\n",
        "  MSE += (prediction[x]-actual_value[x])**2\n",
        "MSE = MSE/len(prediction)  "
      ],
      "execution_count": 0,
      "outputs": []
    },
    {
      "cell_type": "code",
      "metadata": {
        "id": "K042DZc_Z7JY",
        "colab_type": "code",
        "colab": {
          "base_uri": "https://localhost:8080/",
          "height": 34
        },
        "outputId": "05b1a4e9-d17f-4374-eff3-381e44148382"
      },
      "source": [
        "MSE**0.5"
      ],
      "execution_count": 47,
      "outputs": [
        {
          "output_type": "execute_result",
          "data": {
            "text/plain": [
              "15.572441109542451"
            ]
          },
          "metadata": {
            "tags": []
          },
          "execution_count": 47
        }
      ]
    },
    {
      "cell_type": "code",
      "metadata": {
        "id": "inmiw4GzZ_2h",
        "colab_type": "code",
        "colab": {}
      },
      "source": [
        ""
      ],
      "execution_count": 0,
      "outputs": []
    }
  ]
}