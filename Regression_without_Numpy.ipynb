{
 "cells": [
  {
   "cell_type": "code",
   "execution_count": 3,
   "metadata": {},
   "outputs": [],
   "source": [
    "import matplotlib.pyplot as plt"
   ]
  },
  {
   "cell_type": "code",
   "execution_count": 1,
   "metadata": {},
   "outputs": [],
   "source": [
    "ipx = [2,3,4,5,7] #input features\n",
    "tp= [6.2,8.1,13.6,15.2,21.9] #target features"
   ]
  },
  {
   "cell_type": "code",
   "execution_count": 4,
   "metadata": {},
   "outputs": [
    {
     "data": {
      "text/plain": [
       "<matplotlib.collections.PathCollection at 0x19689f38080>"
      ]
     },
     "execution_count": 4,
     "metadata": {},
     "output_type": "execute_result"
    },
    {
     "data": {
      "image/png": "[encoded data removed]",
      "text/plain": [
       "<Figure size 432x288 with 1 Axes>"
      ]
     },
     "metadata": {},
     "output_type": "display_data"
    }
   ],
   "source": [
    "plt.scatter(ipx,tp)"
   ]
  },
  {
   "cell_type": "code",
   "execution_count": 5,
   "metadata": {},
   "outputs": [
    {
     "name": "stdout",
     "output_type": "stream",
     "text": [
      "-0.2562324743566957   3.0619124491087226\n"
     ]
    }
   ],
   "source": [
    "def findcosfunc(m,c,lr,ipx,tp):\n",
    "    cdtheta = 0\n",
    "    mdtheta = 0 \n",
    "    for i in range(len(ipx)):\n",
    "        cdtheta = cdtheta + ((m*int(ipx[i])+c)-(int(tp[i])))/len(ipx)\n",
    "        mdtheta = mdtheta + ((m*int(ipx[i])+c)-(int(tp[i])))*int(ipx[i])/len(ipx)\n",
    "    c = c - lr*cdtheta\n",
    "    m = m - lr*mdtheta\n",
    "    return (c,m)    \n",
    "    \n",
    "m=0 #.................intially set m and c as 0 let learing rate is 0.05\n",
    "\n",
    "c=0\n",
    "lr=0.05\n",
    "for i in range(500):\n",
    "    cnw,mnw=findcosfunc(m,c,lr,ipx,tp)\n",
    "    c = cnw\n",
    "    m = mnw\n",
    "print(c,' ',m)    \n",
    "    "
   ]
  },
  {
   "cell_type": "code",
   "execution_count": null,
   "metadata": {},
   "outputs": [],
   "source": []
  }
 ],
 "metadata": {
  "kernelspec": {
   "display_name": "Python 3",
   "language": "python",
   "name": "python3"
  },
  "language_info": {
   "codemirror_mode": {
    "name": "ipython",
    "version": 3
   },
   "file_extension": ".py",
   "mimetype": "text/x-python",
   "name": "python",
   "nbconvert_exporter": "python",
   "pygments_lexer": "ipython3",
   "version": "3.6.5"
  }
 },
 "nbformat": 4,
 "nbformat_minor": 2
}
