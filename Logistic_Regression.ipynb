{
 "cells": [
  {
   "cell_type": "code",
   "execution_count": 9,
   "metadata": {},
   "outputs": [],
   "source": [
    "import matplotlib.pyplot as plt\n",
    "import math"
   ]
  },
  {
   "cell_type": "code",
   "execution_count": 2,
   "metadata": {},
   "outputs": [],
   "source": [
    "ipx = [2,3,4,5,7] #input features\n",
    "tp= [6.2,8.1,13.6,15.2,21.9] #target features"
   ]
  },
  {
   "cell_type": "code",
   "execution_count": 26,
   "metadata": {},
   "outputs": [],
   "source": [
    "\"\"\"\n",
    "logtic function is given by : f(x): L/(1+e^-k(x-x0))\n",
    "for std logtic function L=1, k=1 , x0=0\n",
    "this is called sigmoid func .(1/1+e^-x)\n",
    "at x=0 it gives 0.5, therefire points above 0.5 = 1 and below 0.5 = 0\n",
    "k decides steepness\n",
    "\n",
    "\"\"\"\n",
    "conv_by_sigmoid = [1//(1 + math.exp(-3*each)) for each in tp] \n",
    "    \n",
    "    "
   ]
  },
  {
   "cell_type": "code",
   "execution_count": 27,
   "metadata": {},
   "outputs": [
    {
     "data": {
      "text/plain": [
       "[0.0, 0.0, 1.0, 1.0, 1.0]"
      ]
     },
     "execution_count": 27,
     "metadata": {},
     "output_type": "execute_result"
    }
   ],
   "source": [
    "conv_by_sigmoid"
   ]
  },
  {
   "cell_type": "code",
   "execution_count": 32,
   "metadata": {},
   "outputs": [
    {
     "name": "stdout",
     "output_type": "stream",
     "text": [
      "Result is :  c:  -0.014071641452345728  m:  3.7369330112729062\n"
     ]
    }
   ],
   "source": [
    "\n",
    "\"\"\"cost function used in logistic regression is \n",
    "    j(theta) = sum\n",
    "\"\"\"\n",
    "\n",
    "\n",
    "\n",
    "def logistic_regre(m,c,lr,ip,tx):\n",
    "    ctheta = 0\n",
    "    mtheta = 0\n",
    "    for i in range(len(ip)):\n",
    "        ctheta = ctheta + -((-int(tx[i]*(1+math.exp(-m*int(ip[i])+c))*math.exp(-m*int(ip[i])+c)))+((1-int(tx[i]))*(math.exp(-m*int(ip[i])+c))*(1+math.exp(-m*int(ip[i])+c))))/len(ip)\n",
    "        mtheta = mtheta + -((int(ip[i])-(1-int(ip[i])))*(1+math.exp(-m*int(ip[i])+c))*(math.exp(-m*int(ip[i])+c))*int(ip[i]))/len(ip)\n",
    "    c = c - lr * ctheta\n",
    "    m = m - lr * mtheta\n",
    "    return (c,m)                         \n",
    "                            \n",
    "                            \n",
    "m=0\n",
    "c=0\n",
    "lr=0.05\n",
    "\n",
    "for i in range(1000):\n",
    "    cnew,mnew = logistic_regre(m,c,lr,ipx,conv_by_sigmoid)\n",
    "    c = cnew\n",
    "    m = mnew\n",
    "print(\"Result is : \",'c: ',c,\" m: \",m)    \n",
    "    "
   ]
  },
  {
   "cell_type": "markdown",
   "metadata": {},
   "source": [
    "####  lets find for input value 6"
   ]
  },
  {
   "cell_type": "code",
   "execution_count": 33,
   "metadata": {},
   "outputs": [
    {
     "data": {
      "text/plain": [
       "22.402"
      ]
     },
     "execution_count": 33,
     "metadata": {},
     "output_type": "execute_result"
    }
   ],
   "source": [
    "3.736 * 6 - 0.0140"
   ]
  },
  {
   "cell_type": "code",
   "execution_count": 35,
   "metadata": {},
   "outputs": [
    {
     "data": {
      "text/plain": [
       "1.0"
      ]
     },
     "execution_count": 35,
     "metadata": {},
     "output_type": "execute_result"
    }
   ],
   "source": [
    "1//(1 + math.exp(-3*22.402))"
   ]
  },
  {
   "cell_type": "markdown",
   "metadata": {},
   "source": [
    "####  for input value 2.5"
   ]
  },
  {
   "cell_type": "code",
   "execution_count": 36,
   "metadata": {},
   "outputs": [
    {
     "data": {
      "text/plain": [
       "9.326"
      ]
     },
     "execution_count": 36,
     "metadata": {},
     "output_type": "execute_result"
    }
   ],
   "source": [
    "3.736 * 2.5 - 0.0140"
   ]
  },
  {
   "cell_type": "code",
   "execution_count": 37,
   "metadata": {},
   "outputs": [
    {
     "data": {
      "text/plain": [
       "0.0"
      ]
     },
     "execution_count": 37,
     "metadata": {},
     "output_type": "execute_result"
    }
   ],
   "source": [
    "1//(1 + math.exp(-3*9.326))"
   ]
  },
  {
   "cell_type": "markdown",
   "metadata": {},
   "source": [
    "### Plots "
   ]
  },
  {
   "cell_type": "code",
   "execution_count": 38,
   "metadata": {},
   "outputs": [
    {
     "data": {
      "text/plain": [
       "[<matplotlib.lines.Line2D at 0x2499ab9afd0>]"
      ]
     },
     "execution_count": 38,
     "metadata": {},
     "output_type": "execute_result"
    },
    {
     "data": {
      "image/png": "[encoded data removed]",
      "text/plain": [
       "<Figure size 432x288 with 1 Axes>"
      ]
     },
     "metadata": {},
     "output_type": "display_data"
    }
   ],
   "source": [
    "plt.plot(conv_by_sigmoid)   #target outputs in dataset"
   ]
  },
  {
   "cell_type": "markdown",
   "metadata": {},
   "source": [
    "### plotting the curve with gained c and m values"
   ]
  },
  {
   "cell_type": "code",
   "execution_count": 46,
   "metadata": {},
   "outputs": [
    {
     "name": "stdout",
     "output_type": "stream",
     "text": [
      "Enter your input equation y = \n",
      "1//(1+2.718**(-3*(3.73*x+(-0.014))))\n"
     ]
    },
    {
     "data": {
      "image/png": "[encoded data removed]",
      "text/plain": [
       "<Figure size 432x288 with 1 Axes>"
      ]
     },
     "metadata": {},
     "output_type": "display_data"
    }
   ],
   "source": [
    "## input equation is : 1//(1+2.718**(-k*(3.73*x+(-0.014)))) where k =3 ...put 2 ,1 and seee diff\n",
    "\n",
    "def givegraph(xin):\n",
    "    y=[]\n",
    "    for i in range(15):\n",
    "            x=i\n",
    "            string = xin\n",
    "            y.append(eval(string))\n",
    "            plt.scatter(i,eval(string))\n",
    "    plt.plot(y)        \n",
    "                \n",
    "        \n",
    "\n",
    "print(\"Enter your input equation y = \")\n",
    "x = input()\n",
    "givegraph(x)"
   ]
  },
  {
   "cell_type": "code",
   "execution_count": null,
   "metadata": {},
   "outputs": [],
   "source": []
  }
 ],
 "metadata": {
  "kernelspec": {
   "display_name": "Python 3",
   "language": "python",
   "name": "python3"
  },
  "language_info": {
   "codemirror_mode": {
    "name": "ipython",
    "version": 3
   },
   "file_extension": ".py",
   "mimetype": "text/x-python",
   "name": "python",
   "nbconvert_exporter": "python",
   "pygments_lexer": "ipython3",
   "version": "3.6.5"
  }
 },
 "nbformat": 4,
 "nbformat_minor": 2
}
